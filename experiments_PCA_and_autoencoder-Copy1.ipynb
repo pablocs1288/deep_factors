{
 "cells": [
  {
   "cell_type": "markdown",
   "id": "6c2ce5c1",
   "metadata": {},
   "source": [
    "# Experiment\n",
    "\n",
    "\n",
    "**Data selection:**\n",
    "\n",
    "Each tested period = Each index composition from 10 years ago quarterly -> desenhos de essas janelas!\n",
    "Each fold = training period (252 days behind); Test period (93)\n",
    "\n",
    "The performance then is evaluated quarterly to avoid selection bias! Which was higly present on the studies following deepportfolios.\n",
    "\n",
    "\n",
    "**Steps:**\n",
    "\n",
    "1. Execute the market modeling step to somehow differenciate the stocks different from the market! -> First stage of non-linear projection\n",
    "2. Calculate linear risk factors using PCA from the most communal stocks\n",
    "    2.1 PCA\n",
    "    2.2 RMF (FIX THIS)\n",
    "3. For each significant identified factor (including the one associated with the market), ammend its returns as an arbritary form to explore for arbritage opportunities\n",
    "    3.1 mode one: Same as the article, arbritage opportunities in shocks! (negative correlation)\n",
    "    3.2 mode two: diluted returns! a modification from the original article\n",
    "4. Apply calibration step  for the factors! and see if such factors are beaten somehow!\n",
    "    4.1 we might coin this new findings to a new non-linear factor capable of surpass in both modes\n",
    "5. Compare wether this methodology improves over the benchmark factors\n",
    "\n",
    "\n",
    "\n",
    "**Initial observations**:\n",
    "\n",
    "1. When the factor is represented with positive and negative loads (long-short representation) the network lacks capabilities to deal with that, even posible negative correlated stocks are involved!\n",
    "2. Long portfolios are well represented, although results are pending to see if there was any imprvements\n",
    "3. The networks, in portfolio (calibration stage)\n",
    "4. From few sample observations, results are not as promising as the other studies considering the other studies fell in seelction bias for the indexes they tested, which could lead to overestimate returns!\n",
    "\n",
    "\n",
    "\n",
    "**COnsiderations:**\n",
    "\n",
    "1. Experiments with index ongoing! to test selection bias in index\n",
    "\n",
    "**Doubts:**\n",
    "\n",
    "1. Autoencodeers from a financial point of view, represent more component besides the trend, seasonal, and so on?\n",
    "\n",
    "\n",
    "Boa referencia de autoencoder y un párrafo para evitar describir autoencoders! seguine autoencoder siguiendo las mejores p'racticas\n"
   ]
  },
  {
   "cell_type": "code",
   "execution_count": 2,
   "id": "6c3873ce",
   "metadata": {},
   "outputs": [],
   "source": [
    "import copy\n",
    "import datetime\n",
    "import os\n",
    "\n",
    "import pandas as pd\n",
    "import numpy as np\n",
    " \n",
    "import src.utils.returns_preprocessing as preproc\n",
    "import src.pca.eigen_portfolios_functions as eg_functions\n",
    "\n",
    "import src.autoencoders.autoencoder_market_projection as ae_market\n",
    "import src.autoencoders.autoencoder_portfolio_calibration as ae_portfolio_cal\n",
    "\n",
    "import src.utils.portfolio_utils as portfolio_utils\n",
    "import src.pca.rmf_filtering as rmf_filter\n",
    "\n",
    "import src.metrics.sharpe_ratio_stats as sharpe_ratio_stats\n",
    "\n",
    "import logging\n",
    "import pickle\n",
    "\n",
    "logging.getLogger('tensorflow').disabled = True\n",
    "\n",
    "\n",
    "%load_ext autoreload\n",
    "%autoreload 2"
   ]
  },
  {
   "cell_type": "markdown",
   "id": "2e074e2d",
   "metadata": {},
   "source": [
    "## Reading the data\n",
    "\n",
    "in this stage, I must collect other actions!!"
   ]
  },
  {
   "cell_type": "code",
   "execution_count": 3,
   "id": "fdb7e034",
   "metadata": {},
   "outputs": [],
   "source": [
    "# load from persisted data\n",
    "index_ticker = '^BVSP'\n",
    "# Transforming all pdf index to csv\n",
    "base_path = './data/ibov_comp_10_anos/prices_v2/'\n",
    "\n",
    "quarter_ibovespa_datasets, quarter_index = [], []\n",
    "for filename in os.listdir(base_path):\n",
    "    # check if the filename is a file (not a directory)\n",
    "    if os.path.isfile(os.path.join(base_path, filename)):\n",
    "        if '_ibov.csv' in filename:\n",
    "            quarter_ibovespa_datasets.append(filename)"
   ]
  },
  {
   "cell_type": "code",
   "execution_count": 4,
   "id": "a9f801a1",
   "metadata": {},
   "outputs": [],
   "source": [
    "# test\n",
    "def removing_nan_stocks(df_prices, null_treshold_head = 0.05):\n",
    "    df_prices_ = df_prices.copy()\n",
    "    treshold = int(df_prices.shape[0]*null_treshold_head)\n",
    "    # removing older null nan\n",
    "    for col in df_prices.columns:\n",
    "        if df_prices[col].head(treshold).isnull().sum() >= treshold:\n",
    "            df_prices_ = df_prices_.drop(col, axis = 1)\n",
    "    # starting dataseet from where there are not null values\n",
    "    df_prices_ = df_prices_[df_prices_.isnull().sum().max():]\n",
    "    return df_prices_\n",
    "\n",
    "\n",
    "month = {'jan':'01', 'abr':'04','jul':'07', 'out':'10'}\n",
    "perce_not_nan = 0.75\n",
    "\n",
    "dataframes,non_considered_dataframes = {},{}\n",
    "for file_name in quarter_ibovespa_datasets:\n",
    "    df_prices = pd.read_csv('./data/ibov_comp_10_anos/prices_v2/'+file_name)\n",
    "    num_tickers = len(df_prices.columns)\n",
    "    # removing nan\n",
    "    _date = file_name[14:18] +'-' +month[file_name[10:13]]\n",
    "    df_prices = removing_nan_stocks(df_prices, null_treshold_head = 0.12)\n",
    "    # filtering fold with enough data\n",
    "    perc_non_empty_stocks = len(df_prices.columns) / num_tickers\n",
    "    if perc_non_empty_stocks >= perce_not_nan:\n",
    "        dataframes[_date] = df_prices\n",
    "    else:\n",
    "        non_considered_dataframes[_date] = perc_non_empty_stocks\n",
    "    \n",
    "#df_prices = pd.read_csv('./data/ibov_comp_10_anos/prices/prices_abr_2014_ibov.csv')\n",
    "#df_index = pd.read_csv('./data/ibov_comp_10_anos/prices/indexibovespa_2014-04.csv')\n",
    "#df_prices = df_prices.join(df_index)\n",
    "#df_prices = removing_nan_stocks(df_prices, null_treshold_head = 0.12)\n"
   ]
  },
  {
   "cell_type": "markdown",
   "id": "54c431cf",
   "metadata": {},
   "source": [
    "-----------------------------------------|------------------------------ \n",
    "Training set:             Date: INdex Quarterly calibration     test"
   ]
  },
  {
   "cell_type": "markdown",
   "id": "0ed50876",
   "metadata": {},
   "source": [
    "### Orchestrator! ....."
   ]
  },
  {
   "cell_type": "code",
   "execution_count": 5,
   "id": "1b8f7d27",
   "metadata": {},
   "outputs": [],
   "source": [
    "#set for invoking each dataframe! pending implement defkated sharpe value!\n",
    "\n",
    "index_ticker = '^BVSP'\n",
    "def flow_orchrestrator(df_in_sample, \n",
    "                       df_out_of_sample, \n",
    "                       folds = 2, \n",
    "                      risk_free_rate = 0.04,\n",
    "                      top_communal = 15,\n",
    "                      bottom_communal = 0):\n",
    "\n",
    "\n",
    "    # training\n",
    "    df_in_simple_returns = preproc.get_simple_returns_from_prices(df_in_sample).dropna()\n",
    "    df_in_log_returns = preproc.simple_to_log_returns(df_in_simple_returns)\n",
    "    df_in_log_returns_without_index = df_in_log_returns.drop(index_ticker, axis = 1)\n",
    "\n",
    "    #def train_orchestrator():\n",
    "    # 1. market modeling factors -- Tune network parameters -> tanh is the best activation layer, other experiments with other activation fucntions were done, but were not \n",
    "    model, communal_assets = non_linear_factors_mapping(df_in_log_returns_without_index, epochs = 500)\n",
    "    df_log_train_index_stocks, df_log_train_arbritage_stocks = selecting_tickers(df_in_log_returns_without_index, communal_assets, top_communal, bottom_communal)\n",
    "    selected_communal_assets = set(df_log_train_index_stocks.columns).union(set(df_log_train_arbritage_stocks.columns))\n",
    "    \n",
    "    # 2. Other Risk factors from the market stocks!\n",
    "    # log to simple returns\n",
    "    df_train_index_stocks = preproc.log_to_simple_returns(df_log_train_index_stocks)\n",
    "    linear_factors = get_linear_factors(df_train_index_stocks)\n",
    "    # Filtering random factors\n",
    "    e_val_min_treshold = rmf_filter.get_eigen_values_cutting_point(df_train_index_stocks, bandwidth = 0.06, plot = False)\n",
    "    filtered_linear_factors =  {\n",
    "        key: values\n",
    "        for key, values in linear_factors.items()\n",
    "        if values[\"eigen_value\"] >= e_val_min_treshold\n",
    "    }\n",
    "    #plot_linear_factors(filtered_linear_factors)\n",
    "\n",
    "    # select factors - calculate deflated sharpe value!\n",
    "\n",
    "    # 3. calibration stage - for each factor\n",
    "    #factors_to_test = filtered_linear_factors[14]['weights']\n",
    "    non_linear_factors_results = {}\n",
    "    for k, v in filtered_linear_factors.items():\n",
    "        y_log, y_log_ammended = ammend_y_targets(df_log_train_index_stocks, v['normalized_weights'], rate_target = 0.12, ammend_shocks = False)\n",
    "        train = df_log_train_index_stocks.join(df_log_train_arbritage_stocks)\n",
    "        # train\n",
    "        calibration_model, results = non_linear_factors_calibration(train, y_log, y_log_ammended)\n",
    "        non_linear_factors_results[k] = {'calibration_model': calibration_model, 'train_results': results, 'pca_normalized_weights':v['normalized_weights'], 'eigen_value':v['eigen_value']}\n",
    "    # calculate out of samples results\n",
    "    for k, v in non_linear_factors_results.items():\n",
    "        v['test_results'] = out_of_sample_results(df_out_of_sample, selected_communal_assets, set(df_log_train_index_stocks.columns), v) # which one would be the reference Y\n",
    "    \n",
    "    non_linear_factors_results['communal_assets'] = selected_communal_assets\n",
    "    \n",
    "    return non_linear_factors_results\n"
   ]
  },
  {
   "cell_type": "code",
   "execution_count": 7,
   "id": "9712fdef",
   "metadata": {},
   "outputs": [
    {
     "name": "stdout",
     "output_type": "stream",
     "text": [
      "bottom: 5\n",
      "2018-07\n"
     ]
    },
    {
     "name": "stderr",
     "output_type": "stream",
     "text": [
      "2023-04-16 18:20:29.951512: I tensorflow/core/platform/cpu_feature_guard.cc:193] This TensorFlow binary is optimized with oneAPI Deep Neural Network Library (oneDNN) to use the following CPU instructions in performance-critical operations:  AVX2 FMA\n",
      "To enable them in other operations, rebuild TensorFlow with the appropriate compiler flags.\n"
     ]
    },
    {
     "name": "stdout",
     "output_type": "stream",
     "text": [
      "7/7 [==============================] - 0s 906us/step\n",
      "7/7 [==============================] - 0s 872us/step\n",
      "7/7 [==============================] - 0s 822us/step\n",
      "7/7 [==============================] - 0s 852us/step\n",
      "7/7 [==============================] - 0s 881us/step\n",
      "7/7 [==============================] - 0s 991us/step\n",
      "3/3 [==============================] - 0s 2ms/step\n",
      "3/3 [==============================] - 0s 1ms/step\n"
     ]
    },
    {
     "name": "stderr",
     "output_type": "stream",
     "text": [
      "/var/folders/9g/fkvk1rlx44s9k648bkf78ssx5xtbf8/T/ipykernel_8912/2006281729.py:106: FutureWarning: Passing a set as an indexer is deprecated and will raise in a future version. Use a list instead.\n",
      "  df_out_of_simple_returns = preproc.get_simple_returns_from_prices(df_out_of_sample[communal_assets]).dropna()\n",
      "/var/folders/9g/fkvk1rlx44s9k648bkf78ssx5xtbf8/T/ipykernel_8912/2006281729.py:112: FutureWarning: Passing a set as an indexer is deprecated and will raise in a future version. Use a list instead.\n",
      "  y_target = portfolio_utils.get_portfolio_returns(df_out_of_simple_returns[index_communal_assets], results_data['pca_normalized_weights'], is_log=False)\n",
      "/var/folders/9g/fkvk1rlx44s9k648bkf78ssx5xtbf8/T/ipykernel_8912/2006281729.py:106: FutureWarning: Passing a set as an indexer is deprecated and will raise in a future version. Use a list instead.\n",
      "  df_out_of_simple_returns = preproc.get_simple_returns_from_prices(df_out_of_sample[communal_assets]).dropna()\n"
     ]
    },
    {
     "name": "stdout",
     "output_type": "stream",
     "text": [
      "3/3 [==============================] - 0s 2ms/step\n",
      "3/3 [==============================] - 0s 1ms/step\n"
     ]
    },
    {
     "name": "stderr",
     "output_type": "stream",
     "text": [
      "/var/folders/9g/fkvk1rlx44s9k648bkf78ssx5xtbf8/T/ipykernel_8912/2006281729.py:112: FutureWarning: Passing a set as an indexer is deprecated and will raise in a future version. Use a list instead.\n",
      "  y_target = portfolio_utils.get_portfolio_returns(df_out_of_simple_returns[index_communal_assets], results_data['pca_normalized_weights'], is_log=False)\n",
      "/var/folders/9g/fkvk1rlx44s9k648bkf78ssx5xtbf8/T/ipykernel_8912/2006281729.py:106: FutureWarning: Passing a set as an indexer is deprecated and will raise in a future version. Use a list instead.\n",
      "  df_out_of_simple_returns = preproc.get_simple_returns_from_prices(df_out_of_sample[communal_assets]).dropna()\n",
      "/var/folders/9g/fkvk1rlx44s9k648bkf78ssx5xtbf8/T/ipykernel_8912/2006281729.py:112: FutureWarning: Passing a set as an indexer is deprecated and will raise in a future version. Use a list instead.\n",
      "  y_target = portfolio_utils.get_portfolio_returns(df_out_of_simple_returns[index_communal_assets], results_data['pca_normalized_weights'], is_log=False)\n",
      "/var/folders/9g/fkvk1rlx44s9k648bkf78ssx5xtbf8/T/ipykernel_8912/2006281729.py:106: FutureWarning: Passing a set as an indexer is deprecated and will raise in a future version. Use a list instead.\n",
      "  df_out_of_simple_returns = preproc.get_simple_returns_from_prices(df_out_of_sample[communal_assets]).dropna()\n"
     ]
    },
    {
     "name": "stdout",
     "output_type": "stream",
     "text": [
      "3/3 [==============================] - 0s 2ms/step\n",
      "2019-07\n"
     ]
    },
    {
     "name": "stderr",
     "output_type": "stream",
     "text": [
      "/var/folders/9g/fkvk1rlx44s9k648bkf78ssx5xtbf8/T/ipykernel_8912/2006281729.py:112: FutureWarning: Passing a set as an indexer is deprecated and will raise in a future version. Use a list instead.\n",
      "  y_target = portfolio_utils.get_portfolio_returns(df_out_of_simple_returns[index_communal_assets], results_data['pca_normalized_weights'], is_log=False)\n",
      "/var/folders/9g/fkvk1rlx44s9k648bkf78ssx5xtbf8/T/ipykernel_8912/2006281729.py:106: FutureWarning: Passing a set as an indexer is deprecated and will raise in a future version. Use a list instead.\n",
      "  df_out_of_simple_returns = preproc.get_simple_returns_from_prices(df_out_of_sample[communal_assets]).dropna()\n",
      "/var/folders/9g/fkvk1rlx44s9k648bkf78ssx5xtbf8/T/ipykernel_8912/2006281729.py:112: FutureWarning: Passing a set as an indexer is deprecated and will raise in a future version. Use a list instead.\n",
      "  y_target = portfolio_utils.get_portfolio_returns(df_out_of_simple_returns[index_communal_assets], results_data['pca_normalized_weights'], is_log=False)\n"
     ]
    },
    {
     "name": "stdout",
     "output_type": "stream",
     "text": [
      "7/7 [==============================] - 0s 1ms/step\n",
      "7/7 [==============================] - 0s 893us/step\n",
      "7/7 [==============================] - 0s 812us/step\n",
      "7/7 [==============================] - 0s 864us/step\n",
      "7/7 [==============================] - 0s 912us/step\n",
      "7/7 [==============================] - 0s 937us/step\n",
      "3/3 [==============================] - 0s 1ms/step\n",
      "3/3 [==============================] - 0s 1ms/step\n"
     ]
    },
    {
     "name": "stderr",
     "output_type": "stream",
     "text": [
      "/var/folders/9g/fkvk1rlx44s9k648bkf78ssx5xtbf8/T/ipykernel_8912/2006281729.py:106: FutureWarning: Passing a set as an indexer is deprecated and will raise in a future version. Use a list instead.\n",
      "  df_out_of_simple_returns = preproc.get_simple_returns_from_prices(df_out_of_sample[communal_assets]).dropna()\n",
      "/var/folders/9g/fkvk1rlx44s9k648bkf78ssx5xtbf8/T/ipykernel_8912/2006281729.py:112: FutureWarning: Passing a set as an indexer is deprecated and will raise in a future version. Use a list instead.\n",
      "  y_target = portfolio_utils.get_portfolio_returns(df_out_of_simple_returns[index_communal_assets], results_data['pca_normalized_weights'], is_log=False)\n",
      "/var/folders/9g/fkvk1rlx44s9k648bkf78ssx5xtbf8/T/ipykernel_8912/2006281729.py:106: FutureWarning: Passing a set as an indexer is deprecated and will raise in a future version. Use a list instead.\n",
      "  df_out_of_simple_returns = preproc.get_simple_returns_from_prices(df_out_of_sample[communal_assets]).dropna()\n",
      "/var/folders/9g/fkvk1rlx44s9k648bkf78ssx5xtbf8/T/ipykernel_8912/2006281729.py:112: FutureWarning: Passing a set as an indexer is deprecated and will raise in a future version. Use a list instead.\n",
      "  y_target = portfolio_utils.get_portfolio_returns(df_out_of_simple_returns[index_communal_assets], results_data['pca_normalized_weights'], is_log=False)\n",
      "/var/folders/9g/fkvk1rlx44s9k648bkf78ssx5xtbf8/T/ipykernel_8912/2006281729.py:106: FutureWarning: Passing a set as an indexer is deprecated and will raise in a future version. Use a list instead.\n",
      "  df_out_of_simple_returns = preproc.get_simple_returns_from_prices(df_out_of_sample[communal_assets]).dropna()\n"
     ]
    },
    {
     "name": "stdout",
     "output_type": "stream",
     "text": [
      "3/3 [==============================] - 0s 2ms/step\n",
      "3/3 [==============================] - 0s 1ms/step\n",
      "3/3 [==============================] - 0s 1ms/step\n",
      "2019-01\n"
     ]
    },
    {
     "name": "stderr",
     "output_type": "stream",
     "text": [
      "/var/folders/9g/fkvk1rlx44s9k648bkf78ssx5xtbf8/T/ipykernel_8912/2006281729.py:112: FutureWarning: Passing a set as an indexer is deprecated and will raise in a future version. Use a list instead.\n",
      "  y_target = portfolio_utils.get_portfolio_returns(df_out_of_simple_returns[index_communal_assets], results_data['pca_normalized_weights'], is_log=False)\n",
      "/var/folders/9g/fkvk1rlx44s9k648bkf78ssx5xtbf8/T/ipykernel_8912/2006281729.py:106: FutureWarning: Passing a set as an indexer is deprecated and will raise in a future version. Use a list instead.\n",
      "  df_out_of_simple_returns = preproc.get_simple_returns_from_prices(df_out_of_sample[communal_assets]).dropna()\n",
      "/var/folders/9g/fkvk1rlx44s9k648bkf78ssx5xtbf8/T/ipykernel_8912/2006281729.py:112: FutureWarning: Passing a set as an indexer is deprecated and will raise in a future version. Use a list instead.\n",
      "  y_target = portfolio_utils.get_portfolio_returns(df_out_of_simple_returns[index_communal_assets], results_data['pca_normalized_weights'], is_log=False)\n",
      "/var/folders/9g/fkvk1rlx44s9k648bkf78ssx5xtbf8/T/ipykernel_8912/2006281729.py:106: FutureWarning: Passing a set as an indexer is deprecated and will raise in a future version. Use a list instead.\n",
      "  df_out_of_simple_returns = preproc.get_simple_returns_from_prices(df_out_of_sample[communal_assets]).dropna()\n",
      "/var/folders/9g/fkvk1rlx44s9k648bkf78ssx5xtbf8/T/ipykernel_8912/2006281729.py:112: FutureWarning: Passing a set as an indexer is deprecated and will raise in a future version. Use a list instead.\n",
      "  y_target = portfolio_utils.get_portfolio_returns(df_out_of_simple_returns[index_communal_assets], results_data['pca_normalized_weights'], is_log=False)\n"
     ]
    },
    {
     "name": "stdout",
     "output_type": "stream",
     "text": [
      "7/7 [==============================] - 0s 865us/step\n",
      "7/7 [==============================] - 0s 829us/step\n",
      "7/7 [==============================] - 0s 858us/step\n",
      "7/7 [==============================] - 0s 867us/step\n",
      "7/7 [==============================] - 0s 955us/step\n",
      "7/7 [==============================] - 0s 872us/step\n",
      "3/3 [==============================] - 0s 1ms/step\n",
      "3/3 [==============================] - 0s 1ms/step\n",
      "3/3 [==============================] - 0s 1ms/step\n"
     ]
    },
    {
     "name": "stderr",
     "output_type": "stream",
     "text": [
      "/var/folders/9g/fkvk1rlx44s9k648bkf78ssx5xtbf8/T/ipykernel_8912/2006281729.py:106: FutureWarning: Passing a set as an indexer is deprecated and will raise in a future version. Use a list instead.\n",
      "  df_out_of_simple_returns = preproc.get_simple_returns_from_prices(df_out_of_sample[communal_assets]).dropna()\n",
      "/var/folders/9g/fkvk1rlx44s9k648bkf78ssx5xtbf8/T/ipykernel_8912/2006281729.py:112: FutureWarning: Passing a set as an indexer is deprecated and will raise in a future version. Use a list instead.\n",
      "  y_target = portfolio_utils.get_portfolio_returns(df_out_of_simple_returns[index_communal_assets], results_data['pca_normalized_weights'], is_log=False)\n",
      "/var/folders/9g/fkvk1rlx44s9k648bkf78ssx5xtbf8/T/ipykernel_8912/2006281729.py:106: FutureWarning: Passing a set as an indexer is deprecated and will raise in a future version. Use a list instead.\n",
      "  df_out_of_simple_returns = preproc.get_simple_returns_from_prices(df_out_of_sample[communal_assets]).dropna()\n",
      "/var/folders/9g/fkvk1rlx44s9k648bkf78ssx5xtbf8/T/ipykernel_8912/2006281729.py:112: FutureWarning: Passing a set as an indexer is deprecated and will raise in a future version. Use a list instead.\n",
      "  y_target = portfolio_utils.get_portfolio_returns(df_out_of_simple_returns[index_communal_assets], results_data['pca_normalized_weights'], is_log=False)\n",
      "/var/folders/9g/fkvk1rlx44s9k648bkf78ssx5xtbf8/T/ipykernel_8912/2006281729.py:106: FutureWarning: Passing a set as an indexer is deprecated and will raise in a future version. Use a list instead.\n",
      "  df_out_of_simple_returns = preproc.get_simple_returns_from_prices(df_out_of_sample[communal_assets]).dropna()\n"
     ]
    },
    {
     "name": "stdout",
     "output_type": "stream",
     "text": [
      "3/3 [==============================] - 0s 1ms/step\n",
      "3/3 [==============================] - 0s 1ms/step\n"
     ]
    },
    {
     "name": "stderr",
     "output_type": "stream",
     "text": [
      "/var/folders/9g/fkvk1rlx44s9k648bkf78ssx5xtbf8/T/ipykernel_8912/2006281729.py:112: FutureWarning: Passing a set as an indexer is deprecated and will raise in a future version. Use a list instead.\n",
      "  y_target = portfolio_utils.get_portfolio_returns(df_out_of_simple_returns[index_communal_assets], results_data['pca_normalized_weights'], is_log=False)\n",
      "/var/folders/9g/fkvk1rlx44s9k648bkf78ssx5xtbf8/T/ipykernel_8912/2006281729.py:106: FutureWarning: Passing a set as an indexer is deprecated and will raise in a future version. Use a list instead.\n",
      "  df_out_of_simple_returns = preproc.get_simple_returns_from_prices(df_out_of_sample[communal_assets]).dropna()\n",
      "/var/folders/9g/fkvk1rlx44s9k648bkf78ssx5xtbf8/T/ipykernel_8912/2006281729.py:112: FutureWarning: Passing a set as an indexer is deprecated and will raise in a future version. Use a list instead.\n",
      "  y_target = portfolio_utils.get_portfolio_returns(df_out_of_simple_returns[index_communal_assets], results_data['pca_normalized_weights'], is_log=False)\n",
      "/var/folders/9g/fkvk1rlx44s9k648bkf78ssx5xtbf8/T/ipykernel_8912/2006281729.py:106: FutureWarning: Passing a set as an indexer is deprecated and will raise in a future version. Use a list instead.\n",
      "  df_out_of_simple_returns = preproc.get_simple_returns_from_prices(df_out_of_sample[communal_assets]).dropna()\n"
     ]
    },
    {
     "name": "stdout",
     "output_type": "stream",
     "text": [
      "2018-01\n"
     ]
    },
    {
     "name": "stderr",
     "output_type": "stream",
     "text": [
      "/var/folders/9g/fkvk1rlx44s9k648bkf78ssx5xtbf8/T/ipykernel_8912/2006281729.py:112: FutureWarning: Passing a set as an indexer is deprecated and will raise in a future version. Use a list instead.\n",
      "  y_target = portfolio_utils.get_portfolio_returns(df_out_of_simple_returns[index_communal_assets], results_data['pca_normalized_weights'], is_log=False)\n"
     ]
    },
    {
     "name": "stdout",
     "output_type": "stream",
     "text": [
      "7/7 [==============================] - 0s 1ms/step\n",
      "7/7 [==============================] - 0s 920us/step\n",
      "7/7 [==============================] - 0s 887us/step\n",
      "7/7 [==============================] - 0s 945us/step\n",
      "7/7 [==============================] - 0s 936us/step\n",
      "7/7 [==============================] - 0s 1ms/step\n",
      "3/3 [==============================] - 0s 1ms/step\n",
      "3/3 [==============================] - 0s 1ms/step\n"
     ]
    },
    {
     "name": "stderr",
     "output_type": "stream",
     "text": [
      "/var/folders/9g/fkvk1rlx44s9k648bkf78ssx5xtbf8/T/ipykernel_8912/2006281729.py:106: FutureWarning: Passing a set as an indexer is deprecated and will raise in a future version. Use a list instead.\n",
      "  df_out_of_simple_returns = preproc.get_simple_returns_from_prices(df_out_of_sample[communal_assets]).dropna()\n",
      "/var/folders/9g/fkvk1rlx44s9k648bkf78ssx5xtbf8/T/ipykernel_8912/2006281729.py:112: FutureWarning: Passing a set as an indexer is deprecated and will raise in a future version. Use a list instead.\n",
      "  y_target = portfolio_utils.get_portfolio_returns(df_out_of_simple_returns[index_communal_assets], results_data['pca_normalized_weights'], is_log=False)\n",
      "/var/folders/9g/fkvk1rlx44s9k648bkf78ssx5xtbf8/T/ipykernel_8912/2006281729.py:106: FutureWarning: Passing a set as an indexer is deprecated and will raise in a future version. Use a list instead.\n",
      "  df_out_of_simple_returns = preproc.get_simple_returns_from_prices(df_out_of_sample[communal_assets]).dropna()\n",
      "/var/folders/9g/fkvk1rlx44s9k648bkf78ssx5xtbf8/T/ipykernel_8912/2006281729.py:112: FutureWarning: Passing a set as an indexer is deprecated and will raise in a future version. Use a list instead.\n",
      "  y_target = portfolio_utils.get_portfolio_returns(df_out_of_simple_returns[index_communal_assets], results_data['pca_normalized_weights'], is_log=False)\n",
      "/var/folders/9g/fkvk1rlx44s9k648bkf78ssx5xtbf8/T/ipykernel_8912/2006281729.py:106: FutureWarning: Passing a set as an indexer is deprecated and will raise in a future version. Use a list instead.\n",
      "  df_out_of_simple_returns = preproc.get_simple_returns_from_prices(df_out_of_sample[communal_assets]).dropna()\n"
     ]
    },
    {
     "name": "stdout",
     "output_type": "stream",
     "text": [
      "3/3 [==============================] - 0s 1ms/step\n",
      "3/3 [==============================] - 0s 1ms/step\n",
      "3/3 [==============================] - 0s 1ms/step\n",
      "2015-01\n"
     ]
    },
    {
     "name": "stderr",
     "output_type": "stream",
     "text": [
      "/var/folders/9g/fkvk1rlx44s9k648bkf78ssx5xtbf8/T/ipykernel_8912/2006281729.py:112: FutureWarning: Passing a set as an indexer is deprecated and will raise in a future version. Use a list instead.\n",
      "  y_target = portfolio_utils.get_portfolio_returns(df_out_of_simple_returns[index_communal_assets], results_data['pca_normalized_weights'], is_log=False)\n",
      "/var/folders/9g/fkvk1rlx44s9k648bkf78ssx5xtbf8/T/ipykernel_8912/2006281729.py:106: FutureWarning: Passing a set as an indexer is deprecated and will raise in a future version. Use a list instead.\n",
      "  df_out_of_simple_returns = preproc.get_simple_returns_from_prices(df_out_of_sample[communal_assets]).dropna()\n",
      "/var/folders/9g/fkvk1rlx44s9k648bkf78ssx5xtbf8/T/ipykernel_8912/2006281729.py:112: FutureWarning: Passing a set as an indexer is deprecated and will raise in a future version. Use a list instead.\n",
      "  y_target = portfolio_utils.get_portfolio_returns(df_out_of_simple_returns[index_communal_assets], results_data['pca_normalized_weights'], is_log=False)\n",
      "/var/folders/9g/fkvk1rlx44s9k648bkf78ssx5xtbf8/T/ipykernel_8912/2006281729.py:106: FutureWarning: Passing a set as an indexer is deprecated and will raise in a future version. Use a list instead.\n",
      "  df_out_of_simple_returns = preproc.get_simple_returns_from_prices(df_out_of_sample[communal_assets]).dropna()\n",
      "/var/folders/9g/fkvk1rlx44s9k648bkf78ssx5xtbf8/T/ipykernel_8912/2006281729.py:112: FutureWarning: Passing a set as an indexer is deprecated and will raise in a future version. Use a list instead.\n",
      "  y_target = portfolio_utils.get_portfolio_returns(df_out_of_simple_returns[index_communal_assets], results_data['pca_normalized_weights'], is_log=False)\n"
     ]
    },
    {
     "name": "stdout",
     "output_type": "stream",
     "text": [
      "7/7 [==============================] - 0s 920us/step\n",
      "7/7 [==============================] - 0s 890us/step\n",
      "7/7 [==============================] - 0s 961us/step\n",
      "7/7 [==============================] - 0s 909us/step\n",
      "7/7 [==============================] - 0s 889us/step\n",
      "7/7 [==============================] - 0s 897us/step\n",
      "3/3 [==============================] - 0s 1ms/step\n",
      "3/3 [==============================] - 0s 1ms/step\n",
      "1/3 [=========>....................] - ETA: 0s"
     ]
    },
    {
     "name": "stderr",
     "output_type": "stream",
     "text": [
      "/var/folders/9g/fkvk1rlx44s9k648bkf78ssx5xtbf8/T/ipykernel_8912/2006281729.py:106: FutureWarning: Passing a set as an indexer is deprecated and will raise in a future version. Use a list instead.\n",
      "  df_out_of_simple_returns = preproc.get_simple_returns_from_prices(df_out_of_sample[communal_assets]).dropna()\n",
      "/var/folders/9g/fkvk1rlx44s9k648bkf78ssx5xtbf8/T/ipykernel_8912/2006281729.py:112: FutureWarning: Passing a set as an indexer is deprecated and will raise in a future version. Use a list instead.\n",
      "  y_target = portfolio_utils.get_portfolio_returns(df_out_of_simple_returns[index_communal_assets], results_data['pca_normalized_weights'], is_log=False)\n",
      "/var/folders/9g/fkvk1rlx44s9k648bkf78ssx5xtbf8/T/ipykernel_8912/2006281729.py:106: FutureWarning: Passing a set as an indexer is deprecated and will raise in a future version. Use a list instead.\n",
      "  df_out_of_simple_returns = preproc.get_simple_returns_from_prices(df_out_of_sample[communal_assets]).dropna()\n",
      "/var/folders/9g/fkvk1rlx44s9k648bkf78ssx5xtbf8/T/ipykernel_8912/2006281729.py:112: FutureWarning: Passing a set as an indexer is deprecated and will raise in a future version. Use a list instead.\n",
      "  y_target = portfolio_utils.get_portfolio_returns(df_out_of_simple_returns[index_communal_assets], results_data['pca_normalized_weights'], is_log=False)\n",
      "/var/folders/9g/fkvk1rlx44s9k648bkf78ssx5xtbf8/T/ipykernel_8912/2006281729.py:106: FutureWarning: Passing a set as an indexer is deprecated and will raise in a future version. Use a list instead.\n",
      "  df_out_of_simple_returns = preproc.get_simple_returns_from_prices(df_out_of_sample[communal_assets]).dropna()\n"
     ]
    },
    {
     "name": "stdout",
     "output_type": "stream",
     "text": [
      "3/3 [==============================] - 0s 1ms/step\n",
      "3/3 [==============================] - 0s 1ms/step\n",
      "3/3 [==============================] - 0s 1ms/step\n",
      "2020-01\n"
     ]
    },
    {
     "name": "stderr",
     "output_type": "stream",
     "text": [
      "/var/folders/9g/fkvk1rlx44s9k648bkf78ssx5xtbf8/T/ipykernel_8912/2006281729.py:112: FutureWarning: Passing a set as an indexer is deprecated and will raise in a future version. Use a list instead.\n",
      "  y_target = portfolio_utils.get_portfolio_returns(df_out_of_simple_returns[index_communal_assets], results_data['pca_normalized_weights'], is_log=False)\n",
      "/var/folders/9g/fkvk1rlx44s9k648bkf78ssx5xtbf8/T/ipykernel_8912/2006281729.py:106: FutureWarning: Passing a set as an indexer is deprecated and will raise in a future version. Use a list instead.\n",
      "  df_out_of_simple_returns = preproc.get_simple_returns_from_prices(df_out_of_sample[communal_assets]).dropna()\n",
      "/var/folders/9g/fkvk1rlx44s9k648bkf78ssx5xtbf8/T/ipykernel_8912/2006281729.py:112: FutureWarning: Passing a set as an indexer is deprecated and will raise in a future version. Use a list instead.\n",
      "  y_target = portfolio_utils.get_portfolio_returns(df_out_of_simple_returns[index_communal_assets], results_data['pca_normalized_weights'], is_log=False)\n",
      "/var/folders/9g/fkvk1rlx44s9k648bkf78ssx5xtbf8/T/ipykernel_8912/2006281729.py:106: FutureWarning: Passing a set as an indexer is deprecated and will raise in a future version. Use a list instead.\n",
      "  df_out_of_simple_returns = preproc.get_simple_returns_from_prices(df_out_of_sample[communal_assets]).dropna()\n",
      "/var/folders/9g/fkvk1rlx44s9k648bkf78ssx5xtbf8/T/ipykernel_8912/2006281729.py:112: FutureWarning: Passing a set as an indexer is deprecated and will raise in a future version. Use a list instead.\n",
      "  y_target = portfolio_utils.get_portfolio_returns(df_out_of_simple_returns[index_communal_assets], results_data['pca_normalized_weights'], is_log=False)\n"
     ]
    },
    {
     "name": "stdout",
     "output_type": "stream",
     "text": [
      "7/7 [==============================] - 0s 923us/step\n",
      "7/7 [==============================] - 0s 978us/step\n",
      "7/7 [==============================] - 0s 948us/step\n",
      "7/7 [==============================] - 0s 842us/step\n",
      "7/7 [==============================] - 0s 842us/step\n",
      "7/7 [==============================] - 0s 822us/step\n",
      "3/3 [==============================] - 0s 1ms/step\n",
      "3/3 [==============================] - 0s 1ms/step\n",
      "3/3 [==============================] - 0s 1ms/step\n"
     ]
    },
    {
     "name": "stderr",
     "output_type": "stream",
     "text": [
      "/var/folders/9g/fkvk1rlx44s9k648bkf78ssx5xtbf8/T/ipykernel_8912/2006281729.py:106: FutureWarning: Passing a set as an indexer is deprecated and will raise in a future version. Use a list instead.\n",
      "  df_out_of_simple_returns = preproc.get_simple_returns_from_prices(df_out_of_sample[communal_assets]).dropna()\n",
      "/var/folders/9g/fkvk1rlx44s9k648bkf78ssx5xtbf8/T/ipykernel_8912/2006281729.py:112: FutureWarning: Passing a set as an indexer is deprecated and will raise in a future version. Use a list instead.\n",
      "  y_target = portfolio_utils.get_portfolio_returns(df_out_of_simple_returns[index_communal_assets], results_data['pca_normalized_weights'], is_log=False)\n",
      "/var/folders/9g/fkvk1rlx44s9k648bkf78ssx5xtbf8/T/ipykernel_8912/2006281729.py:106: FutureWarning: Passing a set as an indexer is deprecated and will raise in a future version. Use a list instead.\n",
      "  df_out_of_simple_returns = preproc.get_simple_returns_from_prices(df_out_of_sample[communal_assets]).dropna()\n",
      "/var/folders/9g/fkvk1rlx44s9k648bkf78ssx5xtbf8/T/ipykernel_8912/2006281729.py:112: FutureWarning: Passing a set as an indexer is deprecated and will raise in a future version. Use a list instead.\n",
      "  y_target = portfolio_utils.get_portfolio_returns(df_out_of_simple_returns[index_communal_assets], results_data['pca_normalized_weights'], is_log=False)\n",
      "/var/folders/9g/fkvk1rlx44s9k648bkf78ssx5xtbf8/T/ipykernel_8912/2006281729.py:106: FutureWarning: Passing a set as an indexer is deprecated and will raise in a future version. Use a list instead.\n",
      "  df_out_of_simple_returns = preproc.get_simple_returns_from_prices(df_out_of_sample[communal_assets]).dropna()\n"
     ]
    },
    {
     "name": "stdout",
     "output_type": "stream",
     "text": [
      "3/3 [==============================] - 0s 1ms/step\n",
      "3/3 [==============================] - 0s 1ms/step\n",
      "2021-01\n"
     ]
    },
    {
     "name": "stderr",
     "output_type": "stream",
     "text": [
      "/var/folders/9g/fkvk1rlx44s9k648bkf78ssx5xtbf8/T/ipykernel_8912/2006281729.py:112: FutureWarning: Passing a set as an indexer is deprecated and will raise in a future version. Use a list instead.\n",
      "  y_target = portfolio_utils.get_portfolio_returns(df_out_of_simple_returns[index_communal_assets], results_data['pca_normalized_weights'], is_log=False)\n",
      "/var/folders/9g/fkvk1rlx44s9k648bkf78ssx5xtbf8/T/ipykernel_8912/2006281729.py:106: FutureWarning: Passing a set as an indexer is deprecated and will raise in a future version. Use a list instead.\n",
      "  df_out_of_simple_returns = preproc.get_simple_returns_from_prices(df_out_of_sample[communal_assets]).dropna()\n",
      "/var/folders/9g/fkvk1rlx44s9k648bkf78ssx5xtbf8/T/ipykernel_8912/2006281729.py:112: FutureWarning: Passing a set as an indexer is deprecated and will raise in a future version. Use a list instead.\n",
      "  y_target = portfolio_utils.get_portfolio_returns(df_out_of_simple_returns[index_communal_assets], results_data['pca_normalized_weights'], is_log=False)\n",
      "/var/folders/9g/fkvk1rlx44s9k648bkf78ssx5xtbf8/T/ipykernel_8912/2006281729.py:106: FutureWarning: Passing a set as an indexer is deprecated and will raise in a future version. Use a list instead.\n",
      "  df_out_of_simple_returns = preproc.get_simple_returns_from_prices(df_out_of_sample[communal_assets]).dropna()\n",
      "/var/folders/9g/fkvk1rlx44s9k648bkf78ssx5xtbf8/T/ipykernel_8912/2006281729.py:112: FutureWarning: Passing a set as an indexer is deprecated and will raise in a future version. Use a list instead.\n",
      "  y_target = portfolio_utils.get_portfolio_returns(df_out_of_simple_returns[index_communal_assets], results_data['pca_normalized_weights'], is_log=False)\n"
     ]
    },
    {
     "name": "stdout",
     "output_type": "stream",
     "text": [
      "7/7 [==============================] - 0s 855us/step\n",
      "7/7 [==============================] - 0s 925us/step\n",
      "7/7 [==============================] - 0s 872us/step\n",
      "3/3 [==============================] - 0s 1ms/step\n",
      "3/3 [==============================] - 0s 1ms/step\n",
      "2022-10\n"
     ]
    },
    {
     "name": "stderr",
     "output_type": "stream",
     "text": [
      "/var/folders/9g/fkvk1rlx44s9k648bkf78ssx5xtbf8/T/ipykernel_8912/2006281729.py:106: FutureWarning: Passing a set as an indexer is deprecated and will raise in a future version. Use a list instead.\n",
      "  df_out_of_simple_returns = preproc.get_simple_returns_from_prices(df_out_of_sample[communal_assets]).dropna()\n",
      "/var/folders/9g/fkvk1rlx44s9k648bkf78ssx5xtbf8/T/ipykernel_8912/2006281729.py:112: FutureWarning: Passing a set as an indexer is deprecated and will raise in a future version. Use a list instead.\n",
      "  y_target = portfolio_utils.get_portfolio_returns(df_out_of_simple_returns[index_communal_assets], results_data['pca_normalized_weights'], is_log=False)\n",
      "/var/folders/9g/fkvk1rlx44s9k648bkf78ssx5xtbf8/T/ipykernel_8912/2006281729.py:106: FutureWarning: Passing a set as an indexer is deprecated and will raise in a future version. Use a list instead.\n",
      "  df_out_of_simple_returns = preproc.get_simple_returns_from_prices(df_out_of_sample[communal_assets]).dropna()\n",
      "/var/folders/9g/fkvk1rlx44s9k648bkf78ssx5xtbf8/T/ipykernel_8912/2006281729.py:112: FutureWarning: Passing a set as an indexer is deprecated and will raise in a future version. Use a list instead.\n",
      "  y_target = portfolio_utils.get_portfolio_returns(df_out_of_simple_returns[index_communal_assets], results_data['pca_normalized_weights'], is_log=False)\n"
     ]
    },
    {
     "name": "stdout",
     "output_type": "stream",
     "text": [
      "6/6 [==============================] - 0s 989us/step\n",
      "6/6 [==============================] - 0s 947us/step\n",
      "6/6 [==============================] - 0s 891us/step\n",
      "6/6 [==============================] - 0s 953us/step\n",
      "6/6 [==============================] - 0s 912us/step\n",
      "3/3 [==============================] - 0s 1ms/step\n",
      "3/3 [==============================] - 0s 1ms/step\n",
      "3/3 [==============================] - 0s 1ms/step\n"
     ]
    },
    {
     "name": "stderr",
     "output_type": "stream",
     "text": [
      "/var/folders/9g/fkvk1rlx44s9k648bkf78ssx5xtbf8/T/ipykernel_8912/2006281729.py:106: FutureWarning: Passing a set as an indexer is deprecated and will raise in a future version. Use a list instead.\n",
      "  df_out_of_simple_returns = preproc.get_simple_returns_from_prices(df_out_of_sample[communal_assets]).dropna()\n",
      "/var/folders/9g/fkvk1rlx44s9k648bkf78ssx5xtbf8/T/ipykernel_8912/2006281729.py:112: FutureWarning: Passing a set as an indexer is deprecated and will raise in a future version. Use a list instead.\n",
      "  y_target = portfolio_utils.get_portfolio_returns(df_out_of_simple_returns[index_communal_assets], results_data['pca_normalized_weights'], is_log=False)\n",
      "/var/folders/9g/fkvk1rlx44s9k648bkf78ssx5xtbf8/T/ipykernel_8912/2006281729.py:106: FutureWarning: Passing a set as an indexer is deprecated and will raise in a future version. Use a list instead.\n",
      "  df_out_of_simple_returns = preproc.get_simple_returns_from_prices(df_out_of_sample[communal_assets]).dropna()\n",
      "/var/folders/9g/fkvk1rlx44s9k648bkf78ssx5xtbf8/T/ipykernel_8912/2006281729.py:112: FutureWarning: Passing a set as an indexer is deprecated and will raise in a future version. Use a list instead.\n",
      "  y_target = portfolio_utils.get_portfolio_returns(df_out_of_simple_returns[index_communal_assets], results_data['pca_normalized_weights'], is_log=False)\n",
      "/var/folders/9g/fkvk1rlx44s9k648bkf78ssx5xtbf8/T/ipykernel_8912/2006281729.py:106: FutureWarning: Passing a set as an indexer is deprecated and will raise in a future version. Use a list instead.\n",
      "  df_out_of_simple_returns = preproc.get_simple_returns_from_prices(df_out_of_sample[communal_assets]).dropna()\n"
     ]
    },
    {
     "name": "stdout",
     "output_type": "stream",
     "text": [
      "3/3 [==============================] - 0s 1ms/step\n",
      "2015-07\n"
     ]
    },
    {
     "name": "stderr",
     "output_type": "stream",
     "text": [
      "/var/folders/9g/fkvk1rlx44s9k648bkf78ssx5xtbf8/T/ipykernel_8912/2006281729.py:112: FutureWarning: Passing a set as an indexer is deprecated and will raise in a future version. Use a list instead.\n",
      "  y_target = portfolio_utils.get_portfolio_returns(df_out_of_simple_returns[index_communal_assets], results_data['pca_normalized_weights'], is_log=False)\n",
      "/var/folders/9g/fkvk1rlx44s9k648bkf78ssx5xtbf8/T/ipykernel_8912/2006281729.py:106: FutureWarning: Passing a set as an indexer is deprecated and will raise in a future version. Use a list instead.\n",
      "  df_out_of_simple_returns = preproc.get_simple_returns_from_prices(df_out_of_sample[communal_assets]).dropna()\n",
      "/var/folders/9g/fkvk1rlx44s9k648bkf78ssx5xtbf8/T/ipykernel_8912/2006281729.py:112: FutureWarning: Passing a set as an indexer is deprecated and will raise in a future version. Use a list instead.\n",
      "  y_target = portfolio_utils.get_portfolio_returns(df_out_of_simple_returns[index_communal_assets], results_data['pca_normalized_weights'], is_log=False)\n"
     ]
    },
    {
     "name": "stdout",
     "output_type": "stream",
     "text": [
      "7/7 [==============================] - 0s 964us/step\n",
      "7/7 [==============================] - 0s 830us/step\n",
      "7/7 [==============================] - 0s 2ms/step\n",
      "7/7 [==============================] - 0s 938us/step\n",
      "7/7 [==============================] - 0s 858us/step\n",
      "7/7 [==============================] - 0s 826us/step\n",
      "3/3 [==============================] - 0s 1ms/step\n",
      "3/3 [==============================] - 0s 1ms/step\n"
     ]
    },
    {
     "name": "stderr",
     "output_type": "stream",
     "text": [
      "/var/folders/9g/fkvk1rlx44s9k648bkf78ssx5xtbf8/T/ipykernel_8912/2006281729.py:106: FutureWarning: Passing a set as an indexer is deprecated and will raise in a future version. Use a list instead.\n",
      "  df_out_of_simple_returns = preproc.get_simple_returns_from_prices(df_out_of_sample[communal_assets]).dropna()\n",
      "/var/folders/9g/fkvk1rlx44s9k648bkf78ssx5xtbf8/T/ipykernel_8912/2006281729.py:112: FutureWarning: Passing a set as an indexer is deprecated and will raise in a future version. Use a list instead.\n",
      "  y_target = portfolio_utils.get_portfolio_returns(df_out_of_simple_returns[index_communal_assets], results_data['pca_normalized_weights'], is_log=False)\n",
      "/var/folders/9g/fkvk1rlx44s9k648bkf78ssx5xtbf8/T/ipykernel_8912/2006281729.py:106: FutureWarning: Passing a set as an indexer is deprecated and will raise in a future version. Use a list instead.\n",
      "  df_out_of_simple_returns = preproc.get_simple_returns_from_prices(df_out_of_sample[communal_assets]).dropna()\n",
      "/var/folders/9g/fkvk1rlx44s9k648bkf78ssx5xtbf8/T/ipykernel_8912/2006281729.py:112: FutureWarning: Passing a set as an indexer is deprecated and will raise in a future version. Use a list instead.\n",
      "  y_target = portfolio_utils.get_portfolio_returns(df_out_of_simple_returns[index_communal_assets], results_data['pca_normalized_weights'], is_log=False)\n",
      "/var/folders/9g/fkvk1rlx44s9k648bkf78ssx5xtbf8/T/ipykernel_8912/2006281729.py:106: FutureWarning: Passing a set as an indexer is deprecated and will raise in a future version. Use a list instead.\n",
      "  df_out_of_simple_returns = preproc.get_simple_returns_from_prices(df_out_of_sample[communal_assets]).dropna()\n"
     ]
    },
    {
     "name": "stdout",
     "output_type": "stream",
     "text": [
      "3/3 [==============================] - 0s 1ms/step\n",
      "3/3 [==============================] - 0s 1ms/step\n",
      "3/3 [==============================] - 0s 956us/step\n",
      "2014-07\n"
     ]
    },
    {
     "name": "stderr",
     "output_type": "stream",
     "text": [
      "/var/folders/9g/fkvk1rlx44s9k648bkf78ssx5xtbf8/T/ipykernel_8912/2006281729.py:112: FutureWarning: Passing a set as an indexer is deprecated and will raise in a future version. Use a list instead.\n",
      "  y_target = portfolio_utils.get_portfolio_returns(df_out_of_simple_returns[index_communal_assets], results_data['pca_normalized_weights'], is_log=False)\n",
      "/var/folders/9g/fkvk1rlx44s9k648bkf78ssx5xtbf8/T/ipykernel_8912/2006281729.py:106: FutureWarning: Passing a set as an indexer is deprecated and will raise in a future version. Use a list instead.\n",
      "  df_out_of_simple_returns = preproc.get_simple_returns_from_prices(df_out_of_sample[communal_assets]).dropna()\n",
      "/var/folders/9g/fkvk1rlx44s9k648bkf78ssx5xtbf8/T/ipykernel_8912/2006281729.py:112: FutureWarning: Passing a set as an indexer is deprecated and will raise in a future version. Use a list instead.\n",
      "  y_target = portfolio_utils.get_portfolio_returns(df_out_of_simple_returns[index_communal_assets], results_data['pca_normalized_weights'], is_log=False)\n",
      "/var/folders/9g/fkvk1rlx44s9k648bkf78ssx5xtbf8/T/ipykernel_8912/2006281729.py:106: FutureWarning: Passing a set as an indexer is deprecated and will raise in a future version. Use a list instead.\n",
      "  df_out_of_simple_returns = preproc.get_simple_returns_from_prices(df_out_of_sample[communal_assets]).dropna()\n",
      "/var/folders/9g/fkvk1rlx44s9k648bkf78ssx5xtbf8/T/ipykernel_8912/2006281729.py:112: FutureWarning: Passing a set as an indexer is deprecated and will raise in a future version. Use a list instead.\n",
      "  y_target = portfolio_utils.get_portfolio_returns(df_out_of_simple_returns[index_communal_assets], results_data['pca_normalized_weights'], is_log=False)\n"
     ]
    },
    {
     "name": "stdout",
     "output_type": "stream",
     "text": [
      "7/7 [==============================] - 0s 997us/step\n",
      "7/7 [==============================] - 0s 881us/step\n",
      "7/7 [==============================] - 0s 951us/step\n",
      "7/7 [==============================] - 0s 884us/step\n",
      "7/7 [==============================] - 0s 977us/step\n",
      "7/7 [==============================] - 0s 962us/step\n",
      "3/3 [==============================] - 0s 1ms/step\n",
      "3/3 [==============================] - 0s 1ms/step\n"
     ]
    },
    {
     "name": "stderr",
     "output_type": "stream",
     "text": [
      "/var/folders/9g/fkvk1rlx44s9k648bkf78ssx5xtbf8/T/ipykernel_8912/2006281729.py:106: FutureWarning: Passing a set as an indexer is deprecated and will raise in a future version. Use a list instead.\n",
      "  df_out_of_simple_returns = preproc.get_simple_returns_from_prices(df_out_of_sample[communal_assets]).dropna()\n",
      "/var/folders/9g/fkvk1rlx44s9k648bkf78ssx5xtbf8/T/ipykernel_8912/2006281729.py:112: FutureWarning: Passing a set as an indexer is deprecated and will raise in a future version. Use a list instead.\n",
      "  y_target = portfolio_utils.get_portfolio_returns(df_out_of_simple_returns[index_communal_assets], results_data['pca_normalized_weights'], is_log=False)\n",
      "/var/folders/9g/fkvk1rlx44s9k648bkf78ssx5xtbf8/T/ipykernel_8912/2006281729.py:106: FutureWarning: Passing a set as an indexer is deprecated and will raise in a future version. Use a list instead.\n",
      "  df_out_of_simple_returns = preproc.get_simple_returns_from_prices(df_out_of_sample[communal_assets]).dropna()\n",
      "/var/folders/9g/fkvk1rlx44s9k648bkf78ssx5xtbf8/T/ipykernel_8912/2006281729.py:112: FutureWarning: Passing a set as an indexer is deprecated and will raise in a future version. Use a list instead.\n",
      "  y_target = portfolio_utils.get_portfolio_returns(df_out_of_simple_returns[index_communal_assets], results_data['pca_normalized_weights'], is_log=False)\n",
      "/var/folders/9g/fkvk1rlx44s9k648bkf78ssx5xtbf8/T/ipykernel_8912/2006281729.py:106: FutureWarning: Passing a set as an indexer is deprecated and will raise in a future version. Use a list instead.\n",
      "  df_out_of_simple_returns = preproc.get_simple_returns_from_prices(df_out_of_sample[communal_assets]).dropna()\n"
     ]
    },
    {
     "name": "stdout",
     "output_type": "stream",
     "text": [
      "3/3 [==============================] - 0s 1ms/step\n",
      "3/3 [==============================] - 0s 1ms/step\n",
      "3/3 [==============================] - 0s 1ms/step\n",
      "2017-04"
     ]
    },
    {
     "name": "stderr",
     "output_type": "stream",
     "text": [
      "/var/folders/9g/fkvk1rlx44s9k648bkf78ssx5xtbf8/T/ipykernel_8912/2006281729.py:112: FutureWarning: Passing a set as an indexer is deprecated and will raise in a future version. Use a list instead.\n",
      "  y_target = portfolio_utils.get_portfolio_returns(df_out_of_simple_returns[index_communal_assets], results_data['pca_normalized_weights'], is_log=False)\n",
      "/var/folders/9g/fkvk1rlx44s9k648bkf78ssx5xtbf8/T/ipykernel_8912/2006281729.py:106: FutureWarning: Passing a set as an indexer is deprecated and will raise in a future version. Use a list instead.\n",
      "  df_out_of_simple_returns = preproc.get_simple_returns_from_prices(df_out_of_sample[communal_assets]).dropna()\n",
      "/var/folders/9g/fkvk1rlx44s9k648bkf78ssx5xtbf8/T/ipykernel_8912/2006281729.py:112: FutureWarning: Passing a set as an indexer is deprecated and will raise in a future version. Use a list instead.\n",
      "  y_target = portfolio_utils.get_portfolio_returns(df_out_of_simple_returns[index_communal_assets], results_data['pca_normalized_weights'], is_log=False)\n",
      "/var/folders/9g/fkvk1rlx44s9k648bkf78ssx5xtbf8/T/ipykernel_8912/2006281729.py:106: FutureWarning: Passing a set as an indexer is deprecated and will raise in a future version. Use a list instead.\n",
      "  df_out_of_simple_returns = preproc.get_simple_returns_from_prices(df_out_of_sample[communal_assets]).dropna()\n",
      "/var/folders/9g/fkvk1rlx44s9k648bkf78ssx5xtbf8/T/ipykernel_8912/2006281729.py:112: FutureWarning: Passing a set as an indexer is deprecated and will raise in a future version. Use a list instead.\n",
      "  y_target = portfolio_utils.get_portfolio_returns(df_out_of_simple_returns[index_communal_assets], results_data['pca_normalized_weights'], is_log=False)\n"
     ]
    },
    {
     "name": "stdout",
     "output_type": "stream",
     "text": [
      "\n",
      "7/7 [==============================] - 0s 975us/step\n",
      "7/7 [==============================] - 0s 900us/step\n",
      "7/7 [==============================] - 0s 879us/step\n",
      "7/7 [==============================] - 0s 805us/step\n",
      "7/7 [==============================] - 0s 805us/step\n",
      "3/3 [==============================] - 0s 1ms/step\n",
      "3/3 [==============================] - 0s 1ms/step\n"
     ]
    },
    {
     "name": "stderr",
     "output_type": "stream",
     "text": [
      "/var/folders/9g/fkvk1rlx44s9k648bkf78ssx5xtbf8/T/ipykernel_8912/2006281729.py:106: FutureWarning: Passing a set as an indexer is deprecated and will raise in a future version. Use a list instead.\n",
      "  df_out_of_simple_returns = preproc.get_simple_returns_from_prices(df_out_of_sample[communal_assets]).dropna()\n",
      "/var/folders/9g/fkvk1rlx44s9k648bkf78ssx5xtbf8/T/ipykernel_8912/2006281729.py:112: FutureWarning: Passing a set as an indexer is deprecated and will raise in a future version. Use a list instead.\n",
      "  y_target = portfolio_utils.get_portfolio_returns(df_out_of_simple_returns[index_communal_assets], results_data['pca_normalized_weights'], is_log=False)\n",
      "/var/folders/9g/fkvk1rlx44s9k648bkf78ssx5xtbf8/T/ipykernel_8912/2006281729.py:106: FutureWarning: Passing a set as an indexer is deprecated and will raise in a future version. Use a list instead.\n",
      "  df_out_of_simple_returns = preproc.get_simple_returns_from_prices(df_out_of_sample[communal_assets]).dropna()\n",
      "/var/folders/9g/fkvk1rlx44s9k648bkf78ssx5xtbf8/T/ipykernel_8912/2006281729.py:112: FutureWarning: Passing a set as an indexer is deprecated and will raise in a future version. Use a list instead.\n",
      "  y_target = portfolio_utils.get_portfolio_returns(df_out_of_simple_returns[index_communal_assets], results_data['pca_normalized_weights'], is_log=False)\n",
      "/var/folders/9g/fkvk1rlx44s9k648bkf78ssx5xtbf8/T/ipykernel_8912/2006281729.py:106: FutureWarning: Passing a set as an indexer is deprecated and will raise in a future version. Use a list instead.\n",
      "  df_out_of_simple_returns = preproc.get_simple_returns_from_prices(df_out_of_sample[communal_assets]).dropna()\n"
     ]
    },
    {
     "name": "stdout",
     "output_type": "stream",
     "text": [
      "3/3 [==============================] - 0s 1ms/step\n",
      "3/3 [==============================] - 0s 1ms/step\n",
      "2016-04\n"
     ]
    },
    {
     "name": "stderr",
     "output_type": "stream",
     "text": [
      "/var/folders/9g/fkvk1rlx44s9k648bkf78ssx5xtbf8/T/ipykernel_8912/2006281729.py:112: FutureWarning: Passing a set as an indexer is deprecated and will raise in a future version. Use a list instead.\n",
      "  y_target = portfolio_utils.get_portfolio_returns(df_out_of_simple_returns[index_communal_assets], results_data['pca_normalized_weights'], is_log=False)\n",
      "/var/folders/9g/fkvk1rlx44s9k648bkf78ssx5xtbf8/T/ipykernel_8912/2006281729.py:106: FutureWarning: Passing a set as an indexer is deprecated and will raise in a future version. Use a list instead.\n",
      "  df_out_of_simple_returns = preproc.get_simple_returns_from_prices(df_out_of_sample[communal_assets]).dropna()\n",
      "/var/folders/9g/fkvk1rlx44s9k648bkf78ssx5xtbf8/T/ipykernel_8912/2006281729.py:112: FutureWarning: Passing a set as an indexer is deprecated and will raise in a future version. Use a list instead.\n",
      "  y_target = portfolio_utils.get_portfolio_returns(df_out_of_simple_returns[index_communal_assets], results_data['pca_normalized_weights'], is_log=False)\n"
     ]
    },
    {
     "name": "stdout",
     "output_type": "stream",
     "text": [
      "7/7 [==============================] - 0s 904us/step\n",
      "7/7 [==============================] - 0s 1ms/step\n",
      "7/7 [==============================] - 0s 988us/step\n",
      "7/7 [==============================] - 0s 999us/step\n",
      "7/7 [==============================] - 0s 1000us/step\n",
      "3/3 [==============================] - 0s 1ms/step\n",
      "3/3 [==============================] - 0s 1ms/step\n"
     ]
    },
    {
     "name": "stderr",
     "output_type": "stream",
     "text": [
      "/var/folders/9g/fkvk1rlx44s9k648bkf78ssx5xtbf8/T/ipykernel_8912/2006281729.py:106: FutureWarning: Passing a set as an indexer is deprecated and will raise in a future version. Use a list instead.\n",
      "  df_out_of_simple_returns = preproc.get_simple_returns_from_prices(df_out_of_sample[communal_assets]).dropna()\n",
      "/var/folders/9g/fkvk1rlx44s9k648bkf78ssx5xtbf8/T/ipykernel_8912/2006281729.py:112: FutureWarning: Passing a set as an indexer is deprecated and will raise in a future version. Use a list instead.\n",
      "  y_target = portfolio_utils.get_portfolio_returns(df_out_of_simple_returns[index_communal_assets], results_data['pca_normalized_weights'], is_log=False)\n",
      "/var/folders/9g/fkvk1rlx44s9k648bkf78ssx5xtbf8/T/ipykernel_8912/2006281729.py:106: FutureWarning: Passing a set as an indexer is deprecated and will raise in a future version. Use a list instead.\n",
      "  df_out_of_simple_returns = preproc.get_simple_returns_from_prices(df_out_of_sample[communal_assets]).dropna()\n",
      "/var/folders/9g/fkvk1rlx44s9k648bkf78ssx5xtbf8/T/ipykernel_8912/2006281729.py:112: FutureWarning: Passing a set as an indexer is deprecated and will raise in a future version. Use a list instead.\n",
      "  y_target = portfolio_utils.get_portfolio_returns(df_out_of_simple_returns[index_communal_assets], results_data['pca_normalized_weights'], is_log=False)\n",
      "/var/folders/9g/fkvk1rlx44s9k648bkf78ssx5xtbf8/T/ipykernel_8912/2006281729.py:106: FutureWarning: Passing a set as an indexer is deprecated and will raise in a future version. Use a list instead.\n",
      "  df_out_of_simple_returns = preproc.get_simple_returns_from_prices(df_out_of_sample[communal_assets]).dropna()\n"
     ]
    },
    {
     "name": "stdout",
     "output_type": "stream",
     "text": [
      "3/3 [==============================] - 0s 1ms/step\n",
      "3/3 [==============================] - 0s 1ms/step\n",
      "2023-04\n"
     ]
    },
    {
     "name": "stderr",
     "output_type": "stream",
     "text": [
      "/var/folders/9g/fkvk1rlx44s9k648bkf78ssx5xtbf8/T/ipykernel_8912/2006281729.py:112: FutureWarning: Passing a set as an indexer is deprecated and will raise in a future version. Use a list instead.\n",
      "  y_target = portfolio_utils.get_portfolio_returns(df_out_of_simple_returns[index_communal_assets], results_data['pca_normalized_weights'], is_log=False)\n",
      "/var/folders/9g/fkvk1rlx44s9k648bkf78ssx5xtbf8/T/ipykernel_8912/2006281729.py:106: FutureWarning: Passing a set as an indexer is deprecated and will raise in a future version. Use a list instead.\n",
      "  df_out_of_simple_returns = preproc.get_simple_returns_from_prices(df_out_of_sample[communal_assets]).dropna()\n",
      "/var/folders/9g/fkvk1rlx44s9k648bkf78ssx5xtbf8/T/ipykernel_8912/2006281729.py:112: FutureWarning: Passing a set as an indexer is deprecated and will raise in a future version. Use a list instead.\n",
      "  y_target = portfolio_utils.get_portfolio_returns(df_out_of_simple_returns[index_communal_assets], results_data['pca_normalized_weights'], is_log=False)\n"
     ]
    },
    {
     "name": "stdout",
     "output_type": "stream",
     "text": [
      "5/5 [==============================] - 0s 1ms/step\n",
      "5/5 [==============================] - 0s 1ms/step\n",
      "5/5 [==============================] - 0s 983us/step\n",
      "5/5 [==============================] - 0s 959us/step\n",
      "5/5 [==============================] - 0s 964us/step\n",
      "5/5 [==============================] - 0s 1ms/step\n",
      "3/3 [==============================] - 0s 1ms/step\n",
      "3/3 [==============================] - 0s 1ms/step\n"
     ]
    },
    {
     "name": "stderr",
     "output_type": "stream",
     "text": [
      "/var/folders/9g/fkvk1rlx44s9k648bkf78ssx5xtbf8/T/ipykernel_8912/2006281729.py:106: FutureWarning: Passing a set as an indexer is deprecated and will raise in a future version. Use a list instead.\n",
      "  df_out_of_simple_returns = preproc.get_simple_returns_from_prices(df_out_of_sample[communal_assets]).dropna()\n",
      "/var/folders/9g/fkvk1rlx44s9k648bkf78ssx5xtbf8/T/ipykernel_8912/2006281729.py:112: FutureWarning: Passing a set as an indexer is deprecated and will raise in a future version. Use a list instead.\n",
      "  y_target = portfolio_utils.get_portfolio_returns(df_out_of_simple_returns[index_communal_assets], results_data['pca_normalized_weights'], is_log=False)\n",
      "/var/folders/9g/fkvk1rlx44s9k648bkf78ssx5xtbf8/T/ipykernel_8912/2006281729.py:106: FutureWarning: Passing a set as an indexer is deprecated and will raise in a future version. Use a list instead.\n",
      "  df_out_of_simple_returns = preproc.get_simple_returns_from_prices(df_out_of_sample[communal_assets]).dropna()\n",
      "/var/folders/9g/fkvk1rlx44s9k648bkf78ssx5xtbf8/T/ipykernel_8912/2006281729.py:112: FutureWarning: Passing a set as an indexer is deprecated and will raise in a future version. Use a list instead.\n",
      "  y_target = portfolio_utils.get_portfolio_returns(df_out_of_simple_returns[index_communal_assets], results_data['pca_normalized_weights'], is_log=False)\n",
      "/var/folders/9g/fkvk1rlx44s9k648bkf78ssx5xtbf8/T/ipykernel_8912/2006281729.py:106: FutureWarning: Passing a set as an indexer is deprecated and will raise in a future version. Use a list instead.\n",
      "  df_out_of_simple_returns = preproc.get_simple_returns_from_prices(df_out_of_sample[communal_assets]).dropna()\n"
     ]
    },
    {
     "name": "stdout",
     "output_type": "stream",
     "text": [
      "3/3 [==============================] - 0s 1ms/step\n",
      "3/3 [==============================] - 0s 1ms/step\n",
      "3/3 [==============================] - 0s 1ms/step\n",
      "2021-07\n"
     ]
    },
    {
     "name": "stderr",
     "output_type": "stream",
     "text": [
      "/var/folders/9g/fkvk1rlx44s9k648bkf78ssx5xtbf8/T/ipykernel_8912/2006281729.py:112: FutureWarning: Passing a set as an indexer is deprecated and will raise in a future version. Use a list instead.\n",
      "  y_target = portfolio_utils.get_portfolio_returns(df_out_of_simple_returns[index_communal_assets], results_data['pca_normalized_weights'], is_log=False)\n",
      "/var/folders/9g/fkvk1rlx44s9k648bkf78ssx5xtbf8/T/ipykernel_8912/2006281729.py:106: FutureWarning: Passing a set as an indexer is deprecated and will raise in a future version. Use a list instead.\n",
      "  df_out_of_simple_returns = preproc.get_simple_returns_from_prices(df_out_of_sample[communal_assets]).dropna()\n",
      "/var/folders/9g/fkvk1rlx44s9k648bkf78ssx5xtbf8/T/ipykernel_8912/2006281729.py:112: FutureWarning: Passing a set as an indexer is deprecated and will raise in a future version. Use a list instead.\n",
      "  y_target = portfolio_utils.get_portfolio_returns(df_out_of_simple_returns[index_communal_assets], results_data['pca_normalized_weights'], is_log=False)\n",
      "/var/folders/9g/fkvk1rlx44s9k648bkf78ssx5xtbf8/T/ipykernel_8912/2006281729.py:106: FutureWarning: Passing a set as an indexer is deprecated and will raise in a future version. Use a list instead.\n",
      "  df_out_of_simple_returns = preproc.get_simple_returns_from_prices(df_out_of_sample[communal_assets]).dropna()\n",
      "/var/folders/9g/fkvk1rlx44s9k648bkf78ssx5xtbf8/T/ipykernel_8912/2006281729.py:112: FutureWarning: Passing a set as an indexer is deprecated and will raise in a future version. Use a list instead.\n",
      "  y_target = portfolio_utils.get_portfolio_returns(df_out_of_simple_returns[index_communal_assets], results_data['pca_normalized_weights'], is_log=False)\n"
     ]
    },
    {
     "name": "stdout",
     "output_type": "stream",
     "text": [
      "7/7 [==============================] - 0s 891us/step\n",
      "7/7 [==============================] - 0s 887us/step\n",
      "7/7 [==============================] - 0s 1ms/step\n",
      "7/7 [==============================] - 0s 889us/step\n",
      "7/7 [==============================] - 0s 1ms/step\n",
      "7/7 [==============================] - 0s 932us/step\n",
      "3/3 [==============================] - 0s 1ms/step\n",
      "3/3 [==============================] - 0s 1ms/step\n"
     ]
    },
    {
     "name": "stderr",
     "output_type": "stream",
     "text": [
      "/var/folders/9g/fkvk1rlx44s9k648bkf78ssx5xtbf8/T/ipykernel_8912/2006281729.py:106: FutureWarning: Passing a set as an indexer is deprecated and will raise in a future version. Use a list instead.\n",
      "  df_out_of_simple_returns = preproc.get_simple_returns_from_prices(df_out_of_sample[communal_assets]).dropna()\n",
      "/var/folders/9g/fkvk1rlx44s9k648bkf78ssx5xtbf8/T/ipykernel_8912/2006281729.py:112: FutureWarning: Passing a set as an indexer is deprecated and will raise in a future version. Use a list instead.\n",
      "  y_target = portfolio_utils.get_portfolio_returns(df_out_of_simple_returns[index_communal_assets], results_data['pca_normalized_weights'], is_log=False)\n",
      "/var/folders/9g/fkvk1rlx44s9k648bkf78ssx5xtbf8/T/ipykernel_8912/2006281729.py:106: FutureWarning: Passing a set as an indexer is deprecated and will raise in a future version. Use a list instead.\n",
      "  df_out_of_simple_returns = preproc.get_simple_returns_from_prices(df_out_of_sample[communal_assets]).dropna()\n",
      "/var/folders/9g/fkvk1rlx44s9k648bkf78ssx5xtbf8/T/ipykernel_8912/2006281729.py:112: FutureWarning: Passing a set as an indexer is deprecated and will raise in a future version. Use a list instead.\n",
      "  y_target = portfolio_utils.get_portfolio_returns(df_out_of_simple_returns[index_communal_assets], results_data['pca_normalized_weights'], is_log=False)\n",
      "/var/folders/9g/fkvk1rlx44s9k648bkf78ssx5xtbf8/T/ipykernel_8912/2006281729.py:106: FutureWarning: Passing a set as an indexer is deprecated and will raise in a future version. Use a list instead.\n",
      "  df_out_of_simple_returns = preproc.get_simple_returns_from_prices(df_out_of_sample[communal_assets]).dropna()\n"
     ]
    },
    {
     "name": "stdout",
     "output_type": "stream",
     "text": [
      "3/3 [==============================] - 0s 1ms/step\n",
      "3/3 [==============================] - 0s 1ms/step\n",
      "3/3 [==============================] - 0s 1ms/step\n",
      "2020-07\n"
     ]
    },
    {
     "name": "stderr",
     "output_type": "stream",
     "text": [
      "/var/folders/9g/fkvk1rlx44s9k648bkf78ssx5xtbf8/T/ipykernel_8912/2006281729.py:112: FutureWarning: Passing a set as an indexer is deprecated and will raise in a future version. Use a list instead.\n",
      "  y_target = portfolio_utils.get_portfolio_returns(df_out_of_simple_returns[index_communal_assets], results_data['pca_normalized_weights'], is_log=False)\n",
      "/var/folders/9g/fkvk1rlx44s9k648bkf78ssx5xtbf8/T/ipykernel_8912/2006281729.py:106: FutureWarning: Passing a set as an indexer is deprecated and will raise in a future version. Use a list instead.\n",
      "  df_out_of_simple_returns = preproc.get_simple_returns_from_prices(df_out_of_sample[communal_assets]).dropna()\n",
      "/var/folders/9g/fkvk1rlx44s9k648bkf78ssx5xtbf8/T/ipykernel_8912/2006281729.py:112: FutureWarning: Passing a set as an indexer is deprecated and will raise in a future version. Use a list instead.\n",
      "  y_target = portfolio_utils.get_portfolio_returns(df_out_of_simple_returns[index_communal_assets], results_data['pca_normalized_weights'], is_log=False)\n",
      "/var/folders/9g/fkvk1rlx44s9k648bkf78ssx5xtbf8/T/ipykernel_8912/2006281729.py:106: FutureWarning: Passing a set as an indexer is deprecated and will raise in a future version. Use a list instead.\n",
      "  df_out_of_simple_returns = preproc.get_simple_returns_from_prices(df_out_of_sample[communal_assets]).dropna()\n",
      "/var/folders/9g/fkvk1rlx44s9k648bkf78ssx5xtbf8/T/ipykernel_8912/2006281729.py:112: FutureWarning: Passing a set as an indexer is deprecated and will raise in a future version. Use a list instead.\n",
      "  y_target = portfolio_utils.get_portfolio_returns(df_out_of_simple_returns[index_communal_assets], results_data['pca_normalized_weights'], is_log=False)\n"
     ]
    },
    {
     "name": "stdout",
     "output_type": "stream",
     "text": [
      "7/7 [==============================] - 0s 970us/step\n",
      "7/7 [==============================] - 0s 946us/step\n",
      "7/7 [==============================] - 0s 874us/step\n",
      "7/7 [==============================] - 0s 830us/step\n",
      "3/3 [==============================] - 0s 1ms/step\n",
      "3/3 [==============================] - 0s 1ms/step\n"
     ]
    },
    {
     "name": "stderr",
     "output_type": "stream",
     "text": [
      "/var/folders/9g/fkvk1rlx44s9k648bkf78ssx5xtbf8/T/ipykernel_8912/2006281729.py:106: FutureWarning: Passing a set as an indexer is deprecated and will raise in a future version. Use a list instead.\n",
      "  df_out_of_simple_returns = preproc.get_simple_returns_from_prices(df_out_of_sample[communal_assets]).dropna()\n",
      "/var/folders/9g/fkvk1rlx44s9k648bkf78ssx5xtbf8/T/ipykernel_8912/2006281729.py:112: FutureWarning: Passing a set as an indexer is deprecated and will raise in a future version. Use a list instead.\n",
      "  y_target = portfolio_utils.get_portfolio_returns(df_out_of_simple_returns[index_communal_assets], results_data['pca_normalized_weights'], is_log=False)\n",
      "/var/folders/9g/fkvk1rlx44s9k648bkf78ssx5xtbf8/T/ipykernel_8912/2006281729.py:106: FutureWarning: Passing a set as an indexer is deprecated and will raise in a future version. Use a list instead.\n",
      "  df_out_of_simple_returns = preproc.get_simple_returns_from_prices(df_out_of_sample[communal_assets]).dropna()\n",
      "/var/folders/9g/fkvk1rlx44s9k648bkf78ssx5xtbf8/T/ipykernel_8912/2006281729.py:112: FutureWarning: Passing a set as an indexer is deprecated and will raise in a future version. Use a list instead.\n",
      "  y_target = portfolio_utils.get_portfolio_returns(df_out_of_simple_returns[index_communal_assets], results_data['pca_normalized_weights'], is_log=False)\n",
      "/var/folders/9g/fkvk1rlx44s9k648bkf78ssx5xtbf8/T/ipykernel_8912/2006281729.py:106: FutureWarning: Passing a set as an indexer is deprecated and will raise in a future version. Use a list instead.\n",
      "  df_out_of_simple_returns = preproc.get_simple_returns_from_prices(df_out_of_sample[communal_assets]).dropna()\n"
     ]
    },
    {
     "name": "stdout",
     "output_type": "stream",
     "text": [
      "3/3 [==============================] - 0s 1ms/step\n",
      "2016-10\n"
     ]
    },
    {
     "name": "stderr",
     "output_type": "stream",
     "text": [
      "/var/folders/9g/fkvk1rlx44s9k648bkf78ssx5xtbf8/T/ipykernel_8912/2006281729.py:112: FutureWarning: Passing a set as an indexer is deprecated and will raise in a future version. Use a list instead.\n",
      "  y_target = portfolio_utils.get_portfolio_returns(df_out_of_simple_returns[index_communal_assets], results_data['pca_normalized_weights'], is_log=False)\n"
     ]
    },
    {
     "name": "stdout",
     "output_type": "stream",
     "text": [
      "7/7 [==============================] - 0s 1ms/step\n",
      "7/7 [==============================] - 0s 903us/step\n",
      "7/7 [==============================] - 0s 846us/step\n",
      "7/7 [==============================] - 0s 880us/step\n",
      "7/7 [==============================] - 0s 876us/step\n",
      "7/7 [==============================] - 0s 907us/step\n",
      "3/3 [==============================] - 0s 1ms/step\n",
      "3/3 [==============================] - 0s 1ms/step\n"
     ]
    },
    {
     "name": "stderr",
     "output_type": "stream",
     "text": [
      "/var/folders/9g/fkvk1rlx44s9k648bkf78ssx5xtbf8/T/ipykernel_8912/2006281729.py:106: FutureWarning: Passing a set as an indexer is deprecated and will raise in a future version. Use a list instead.\n",
      "  df_out_of_simple_returns = preproc.get_simple_returns_from_prices(df_out_of_sample[communal_assets]).dropna()\n",
      "/var/folders/9g/fkvk1rlx44s9k648bkf78ssx5xtbf8/T/ipykernel_8912/2006281729.py:112: FutureWarning: Passing a set as an indexer is deprecated and will raise in a future version. Use a list instead.\n",
      "  y_target = portfolio_utils.get_portfolio_returns(df_out_of_simple_returns[index_communal_assets], results_data['pca_normalized_weights'], is_log=False)\n",
      "/var/folders/9g/fkvk1rlx44s9k648bkf78ssx5xtbf8/T/ipykernel_8912/2006281729.py:106: FutureWarning: Passing a set as an indexer is deprecated and will raise in a future version. Use a list instead.\n",
      "  df_out_of_simple_returns = preproc.get_simple_returns_from_prices(df_out_of_sample[communal_assets]).dropna()\n",
      "/var/folders/9g/fkvk1rlx44s9k648bkf78ssx5xtbf8/T/ipykernel_8912/2006281729.py:112: FutureWarning: Passing a set as an indexer is deprecated and will raise in a future version. Use a list instead.\n",
      "  y_target = portfolio_utils.get_portfolio_returns(df_out_of_simple_returns[index_communal_assets], results_data['pca_normalized_weights'], is_log=False)\n",
      "/var/folders/9g/fkvk1rlx44s9k648bkf78ssx5xtbf8/T/ipykernel_8912/2006281729.py:106: FutureWarning: Passing a set as an indexer is deprecated and will raise in a future version. Use a list instead.\n",
      "  df_out_of_simple_returns = preproc.get_simple_returns_from_prices(df_out_of_sample[communal_assets]).dropna()\n"
     ]
    },
    {
     "name": "stdout",
     "output_type": "stream",
     "text": [
      "3/3 [==============================] - 0s 1ms/step\n",
      "3/3 [==============================] - 0s 1ms/step\n",
      "3/3 [==============================] - 0s 1ms/step\n",
      "2017-10\n"
     ]
    },
    {
     "name": "stderr",
     "output_type": "stream",
     "text": [
      "/var/folders/9g/fkvk1rlx44s9k648bkf78ssx5xtbf8/T/ipykernel_8912/2006281729.py:112: FutureWarning: Passing a set as an indexer is deprecated and will raise in a future version. Use a list instead.\n",
      "  y_target = portfolio_utils.get_portfolio_returns(df_out_of_simple_returns[index_communal_assets], results_data['pca_normalized_weights'], is_log=False)\n",
      "/var/folders/9g/fkvk1rlx44s9k648bkf78ssx5xtbf8/T/ipykernel_8912/2006281729.py:106: FutureWarning: Passing a set as an indexer is deprecated and will raise in a future version. Use a list instead.\n",
      "  df_out_of_simple_returns = preproc.get_simple_returns_from_prices(df_out_of_sample[communal_assets]).dropna()\n",
      "/var/folders/9g/fkvk1rlx44s9k648bkf78ssx5xtbf8/T/ipykernel_8912/2006281729.py:112: FutureWarning: Passing a set as an indexer is deprecated and will raise in a future version. Use a list instead.\n",
      "  y_target = portfolio_utils.get_portfolio_returns(df_out_of_simple_returns[index_communal_assets], results_data['pca_normalized_weights'], is_log=False)\n",
      "/var/folders/9g/fkvk1rlx44s9k648bkf78ssx5xtbf8/T/ipykernel_8912/2006281729.py:106: FutureWarning: Passing a set as an indexer is deprecated and will raise in a future version. Use a list instead.\n",
      "  df_out_of_simple_returns = preproc.get_simple_returns_from_prices(df_out_of_sample[communal_assets]).dropna()\n",
      "/var/folders/9g/fkvk1rlx44s9k648bkf78ssx5xtbf8/T/ipykernel_8912/2006281729.py:112: FutureWarning: Passing a set as an indexer is deprecated and will raise in a future version. Use a list instead.\n",
      "  y_target = portfolio_utils.get_portfolio_returns(df_out_of_simple_returns[index_communal_assets], results_data['pca_normalized_weights'], is_log=False)\n"
     ]
    },
    {
     "name": "stdout",
     "output_type": "stream",
     "text": [
      "7/7 [==============================] - 0s 965us/step\n",
      "7/7 [==============================] - 0s 884us/step\n",
      "7/7 [==============================] - 0s 862us/step\n",
      "7/7 [==============================] - 0s 837us/step\n",
      "3/3 [==============================] - 0s 1ms/step\n",
      "3/3 [==============================] - 0s 1ms/step\n"
     ]
    },
    {
     "name": "stderr",
     "output_type": "stream",
     "text": [
      "/var/folders/9g/fkvk1rlx44s9k648bkf78ssx5xtbf8/T/ipykernel_8912/2006281729.py:106: FutureWarning: Passing a set as an indexer is deprecated and will raise in a future version. Use a list instead.\n",
      "  df_out_of_simple_returns = preproc.get_simple_returns_from_prices(df_out_of_sample[communal_assets]).dropna()\n",
      "/var/folders/9g/fkvk1rlx44s9k648bkf78ssx5xtbf8/T/ipykernel_8912/2006281729.py:112: FutureWarning: Passing a set as an indexer is deprecated and will raise in a future version. Use a list instead.\n",
      "  y_target = portfolio_utils.get_portfolio_returns(df_out_of_simple_returns[index_communal_assets], results_data['pca_normalized_weights'], is_log=False)\n",
      "/var/folders/9g/fkvk1rlx44s9k648bkf78ssx5xtbf8/T/ipykernel_8912/2006281729.py:106: FutureWarning: Passing a set as an indexer is deprecated and will raise in a future version. Use a list instead.\n",
      "  df_out_of_simple_returns = preproc.get_simple_returns_from_prices(df_out_of_sample[communal_assets]).dropna()\n",
      "/var/folders/9g/fkvk1rlx44s9k648bkf78ssx5xtbf8/T/ipykernel_8912/2006281729.py:112: FutureWarning: Passing a set as an indexer is deprecated and will raise in a future version. Use a list instead.\n",
      "  y_target = portfolio_utils.get_portfolio_returns(df_out_of_simple_returns[index_communal_assets], results_data['pca_normalized_weights'], is_log=False)\n",
      "/var/folders/9g/fkvk1rlx44s9k648bkf78ssx5xtbf8/T/ipykernel_8912/2006281729.py:106: FutureWarning: Passing a set as an indexer is deprecated and will raise in a future version. Use a list instead.\n",
      "  df_out_of_simple_returns = preproc.get_simple_returns_from_prices(df_out_of_sample[communal_assets]).dropna()\n"
     ]
    },
    {
     "name": "stdout",
     "output_type": "stream",
     "text": [
      "3/3 [==============================] - 0s 1ms/step\n",
      "2019-04\n"
     ]
    },
    {
     "name": "stderr",
     "output_type": "stream",
     "text": [
      "/var/folders/9g/fkvk1rlx44s9k648bkf78ssx5xtbf8/T/ipykernel_8912/2006281729.py:112: FutureWarning: Passing a set as an indexer is deprecated and will raise in a future version. Use a list instead.\n",
      "  y_target = portfolio_utils.get_portfolio_returns(df_out_of_simple_returns[index_communal_assets], results_data['pca_normalized_weights'], is_log=False)\n"
     ]
    },
    {
     "name": "stdout",
     "output_type": "stream",
     "text": [
      "7/7 [==============================] - 0s 874us/step\n",
      "7/7 [==============================] - 0s 952us/step\n",
      "7/7 [==============================] - 0s 887us/step\n",
      "7/7 [==============================] - 0s 925us/step\n",
      "7/7 [==============================] - 0s 1ms/step\n",
      "3/3 [==============================] - 0s 1ms/step\n",
      "3/3 [==============================] - 0s 1ms/step\n",
      "1/3 [=========>....................] - ETA: 0s"
     ]
    },
    {
     "name": "stderr",
     "output_type": "stream",
     "text": [
      "/var/folders/9g/fkvk1rlx44s9k648bkf78ssx5xtbf8/T/ipykernel_8912/2006281729.py:106: FutureWarning: Passing a set as an indexer is deprecated and will raise in a future version. Use a list instead.\n",
      "  df_out_of_simple_returns = preproc.get_simple_returns_from_prices(df_out_of_sample[communal_assets]).dropna()\n",
      "/var/folders/9g/fkvk1rlx44s9k648bkf78ssx5xtbf8/T/ipykernel_8912/2006281729.py:112: FutureWarning: Passing a set as an indexer is deprecated and will raise in a future version. Use a list instead.\n",
      "  y_target = portfolio_utils.get_portfolio_returns(df_out_of_simple_returns[index_communal_assets], results_data['pca_normalized_weights'], is_log=False)\n",
      "/var/folders/9g/fkvk1rlx44s9k648bkf78ssx5xtbf8/T/ipykernel_8912/2006281729.py:106: FutureWarning: Passing a set as an indexer is deprecated and will raise in a future version. Use a list instead.\n",
      "  df_out_of_simple_returns = preproc.get_simple_returns_from_prices(df_out_of_sample[communal_assets]).dropna()\n",
      "/var/folders/9g/fkvk1rlx44s9k648bkf78ssx5xtbf8/T/ipykernel_8912/2006281729.py:112: FutureWarning: Passing a set as an indexer is deprecated and will raise in a future version. Use a list instead.\n",
      "  y_target = portfolio_utils.get_portfolio_returns(df_out_of_simple_returns[index_communal_assets], results_data['pca_normalized_weights'], is_log=False)\n",
      "/var/folders/9g/fkvk1rlx44s9k648bkf78ssx5xtbf8/T/ipykernel_8912/2006281729.py:106: FutureWarning: Passing a set as an indexer is deprecated and will raise in a future version. Use a list instead.\n",
      "  df_out_of_simple_returns = preproc.get_simple_returns_from_prices(df_out_of_sample[communal_assets]).dropna()\n"
     ]
    },
    {
     "name": "stdout",
     "output_type": "stream",
     "text": [
      "3/3 [==============================] - 0s 1ms/step\n",
      "3/3 [==============================] - 0s 1ms/step\n",
      "2018-04\n"
     ]
    },
    {
     "name": "stderr",
     "output_type": "stream",
     "text": [
      "/var/folders/9g/fkvk1rlx44s9k648bkf78ssx5xtbf8/T/ipykernel_8912/2006281729.py:112: FutureWarning: Passing a set as an indexer is deprecated and will raise in a future version. Use a list instead.\n",
      "  y_target = portfolio_utils.get_portfolio_returns(df_out_of_simple_returns[index_communal_assets], results_data['pca_normalized_weights'], is_log=False)\n",
      "/var/folders/9g/fkvk1rlx44s9k648bkf78ssx5xtbf8/T/ipykernel_8912/2006281729.py:106: FutureWarning: Passing a set as an indexer is deprecated and will raise in a future version. Use a list instead.\n",
      "  df_out_of_simple_returns = preproc.get_simple_returns_from_prices(df_out_of_sample[communal_assets]).dropna()\n",
      "/var/folders/9g/fkvk1rlx44s9k648bkf78ssx5xtbf8/T/ipykernel_8912/2006281729.py:112: FutureWarning: Passing a set as an indexer is deprecated and will raise in a future version. Use a list instead.\n",
      "  y_target = portfolio_utils.get_portfolio_returns(df_out_of_simple_returns[index_communal_assets], results_data['pca_normalized_weights'], is_log=False)\n"
     ]
    },
    {
     "name": "stdout",
     "output_type": "stream",
     "text": [
      "7/7 [==============================] - 0s 1ms/step\n",
      "7/7 [==============================] - 0s 870us/step\n",
      "7/7 [==============================] - 0s 977us/step\n",
      "7/7 [==============================] - 0s 1ms/step\n",
      "7/7 [==============================] - 0s 1ms/step\n",
      "7/7 [==============================] - 0s 962us/step\n",
      "7/7 [==============================] - 0s 936us/step\n",
      "3/3 [==============================] - 0s 1ms/step\n",
      "3/3 [==============================] - 0s 1ms/step\n"
     ]
    },
    {
     "name": "stderr",
     "output_type": "stream",
     "text": [
      "/var/folders/9g/fkvk1rlx44s9k648bkf78ssx5xtbf8/T/ipykernel_8912/2006281729.py:106: FutureWarning: Passing a set as an indexer is deprecated and will raise in a future version. Use a list instead.\n",
      "  df_out_of_simple_returns = preproc.get_simple_returns_from_prices(df_out_of_sample[communal_assets]).dropna()\n",
      "/var/folders/9g/fkvk1rlx44s9k648bkf78ssx5xtbf8/T/ipykernel_8912/2006281729.py:112: FutureWarning: Passing a set as an indexer is deprecated and will raise in a future version. Use a list instead.\n",
      "  y_target = portfolio_utils.get_portfolio_returns(df_out_of_simple_returns[index_communal_assets], results_data['pca_normalized_weights'], is_log=False)\n",
      "/var/folders/9g/fkvk1rlx44s9k648bkf78ssx5xtbf8/T/ipykernel_8912/2006281729.py:106: FutureWarning: Passing a set as an indexer is deprecated and will raise in a future version. Use a list instead.\n",
      "  df_out_of_simple_returns = preproc.get_simple_returns_from_prices(df_out_of_sample[communal_assets]).dropna()\n",
      "/var/folders/9g/fkvk1rlx44s9k648bkf78ssx5xtbf8/T/ipykernel_8912/2006281729.py:112: FutureWarning: Passing a set as an indexer is deprecated and will raise in a future version. Use a list instead.\n",
      "  y_target = portfolio_utils.get_portfolio_returns(df_out_of_simple_returns[index_communal_assets], results_data['pca_normalized_weights'], is_log=False)\n",
      "/var/folders/9g/fkvk1rlx44s9k648bkf78ssx5xtbf8/T/ipykernel_8912/2006281729.py:106: FutureWarning: Passing a set as an indexer is deprecated and will raise in a future version. Use a list instead.\n",
      "  df_out_of_simple_returns = preproc.get_simple_returns_from_prices(df_out_of_sample[communal_assets]).dropna()\n"
     ]
    },
    {
     "name": "stdout",
     "output_type": "stream",
     "text": [
      "3/3 [==============================] - 0s 1ms/step\n",
      "3/3 [==============================] - 0s 1ms/step\n",
      "3/3 [==============================] - 0s 1ms/step\n"
     ]
    },
    {
     "name": "stderr",
     "output_type": "stream",
     "text": [
      "/var/folders/9g/fkvk1rlx44s9k648bkf78ssx5xtbf8/T/ipykernel_8912/2006281729.py:112: FutureWarning: Passing a set as an indexer is deprecated and will raise in a future version. Use a list instead.\n",
      "  y_target = portfolio_utils.get_portfolio_returns(df_out_of_simple_returns[index_communal_assets], results_data['pca_normalized_weights'], is_log=False)\n",
      "/var/folders/9g/fkvk1rlx44s9k648bkf78ssx5xtbf8/T/ipykernel_8912/2006281729.py:106: FutureWarning: Passing a set as an indexer is deprecated and will raise in a future version. Use a list instead.\n",
      "  df_out_of_simple_returns = preproc.get_simple_returns_from_prices(df_out_of_sample[communal_assets]).dropna()\n",
      "/var/folders/9g/fkvk1rlx44s9k648bkf78ssx5xtbf8/T/ipykernel_8912/2006281729.py:112: FutureWarning: Passing a set as an indexer is deprecated and will raise in a future version. Use a list instead.\n",
      "  y_target = portfolio_utils.get_portfolio_returns(df_out_of_simple_returns[index_communal_assets], results_data['pca_normalized_weights'], is_log=False)\n",
      "/var/folders/9g/fkvk1rlx44s9k648bkf78ssx5xtbf8/T/ipykernel_8912/2006281729.py:106: FutureWarning: Passing a set as an indexer is deprecated and will raise in a future version. Use a list instead.\n",
      "  df_out_of_simple_returns = preproc.get_simple_returns_from_prices(df_out_of_sample[communal_assets]).dropna()\n",
      "/var/folders/9g/fkvk1rlx44s9k648bkf78ssx5xtbf8/T/ipykernel_8912/2006281729.py:112: FutureWarning: Passing a set as an indexer is deprecated and will raise in a future version. Use a list instead.\n",
      "  y_target = portfolio_utils.get_portfolio_returns(df_out_of_simple_returns[index_communal_assets], results_data['pca_normalized_weights'], is_log=False)\n",
      "/var/folders/9g/fkvk1rlx44s9k648bkf78ssx5xtbf8/T/ipykernel_8912/2006281729.py:106: FutureWarning: Passing a set as an indexer is deprecated and will raise in a future version. Use a list instead.\n",
      "  df_out_of_simple_returns = preproc.get_simple_returns_from_prices(df_out_of_sample[communal_assets]).dropna()\n"
     ]
    },
    {
     "name": "stdout",
     "output_type": "stream",
     "text": [
      "3/3 [==============================] - 0s 1ms/step\n",
      "2018-10\n"
     ]
    },
    {
     "name": "stderr",
     "output_type": "stream",
     "text": [
      "/var/folders/9g/fkvk1rlx44s9k648bkf78ssx5xtbf8/T/ipykernel_8912/2006281729.py:112: FutureWarning: Passing a set as an indexer is deprecated and will raise in a future version. Use a list instead.\n",
      "  y_target = portfolio_utils.get_portfolio_returns(df_out_of_simple_returns[index_communal_assets], results_data['pca_normalized_weights'], is_log=False)\n"
     ]
    },
    {
     "name": "stdout",
     "output_type": "stream",
     "text": [
      "7/7 [==============================] - 0s 924us/step\n",
      "7/7 [==============================] - 0s 975us/step\n",
      "7/7 [==============================] - 0s 877us/step\n",
      "7/7 [==============================] - 0s 893us/step\n",
      "7/7 [==============================] - 0s 988us/step\n",
      "7/7 [==============================] - 0s 915us/step\n",
      "3/3 [==============================] - 0s 1ms/step\n",
      "3/3 [==============================] - 0s 1ms/step\n"
     ]
    },
    {
     "name": "stderr",
     "output_type": "stream",
     "text": [
      "/var/folders/9g/fkvk1rlx44s9k648bkf78ssx5xtbf8/T/ipykernel_8912/2006281729.py:106: FutureWarning: Passing a set as an indexer is deprecated and will raise in a future version. Use a list instead.\n",
      "  df_out_of_simple_returns = preproc.get_simple_returns_from_prices(df_out_of_sample[communal_assets]).dropna()\n",
      "/var/folders/9g/fkvk1rlx44s9k648bkf78ssx5xtbf8/T/ipykernel_8912/2006281729.py:112: FutureWarning: Passing a set as an indexer is deprecated and will raise in a future version. Use a list instead.\n",
      "  y_target = portfolio_utils.get_portfolio_returns(df_out_of_simple_returns[index_communal_assets], results_data['pca_normalized_weights'], is_log=False)\n",
      "/var/folders/9g/fkvk1rlx44s9k648bkf78ssx5xtbf8/T/ipykernel_8912/2006281729.py:106: FutureWarning: Passing a set as an indexer is deprecated and will raise in a future version. Use a list instead.\n",
      "  df_out_of_simple_returns = preproc.get_simple_returns_from_prices(df_out_of_sample[communal_assets]).dropna()\n",
      "/var/folders/9g/fkvk1rlx44s9k648bkf78ssx5xtbf8/T/ipykernel_8912/2006281729.py:112: FutureWarning: Passing a set as an indexer is deprecated and will raise in a future version. Use a list instead.\n",
      "  y_target = portfolio_utils.get_portfolio_returns(df_out_of_simple_returns[index_communal_assets], results_data['pca_normalized_weights'], is_log=False)\n",
      "/var/folders/9g/fkvk1rlx44s9k648bkf78ssx5xtbf8/T/ipykernel_8912/2006281729.py:106: FutureWarning: Passing a set as an indexer is deprecated and will raise in a future version. Use a list instead.\n",
      "  df_out_of_simple_returns = preproc.get_simple_returns_from_prices(df_out_of_sample[communal_assets]).dropna()\n"
     ]
    },
    {
     "name": "stdout",
     "output_type": "stream",
     "text": [
      "3/3 [==============================] - 0s 1ms/step\n",
      "3/3 [==============================] - 0s 1ms/step\n",
      "3/3 [==============================] - 0s 1ms/step\n",
      "2019-10\n"
     ]
    },
    {
     "name": "stderr",
     "output_type": "stream",
     "text": [
      "/var/folders/9g/fkvk1rlx44s9k648bkf78ssx5xtbf8/T/ipykernel_8912/2006281729.py:112: FutureWarning: Passing a set as an indexer is deprecated and will raise in a future version. Use a list instead.\n",
      "  y_target = portfolio_utils.get_portfolio_returns(df_out_of_simple_returns[index_communal_assets], results_data['pca_normalized_weights'], is_log=False)\n",
      "/var/folders/9g/fkvk1rlx44s9k648bkf78ssx5xtbf8/T/ipykernel_8912/2006281729.py:106: FutureWarning: Passing a set as an indexer is deprecated and will raise in a future version. Use a list instead.\n",
      "  df_out_of_simple_returns = preproc.get_simple_returns_from_prices(df_out_of_sample[communal_assets]).dropna()\n",
      "/var/folders/9g/fkvk1rlx44s9k648bkf78ssx5xtbf8/T/ipykernel_8912/2006281729.py:112: FutureWarning: Passing a set as an indexer is deprecated and will raise in a future version. Use a list instead.\n",
      "  y_target = portfolio_utils.get_portfolio_returns(df_out_of_simple_returns[index_communal_assets], results_data['pca_normalized_weights'], is_log=False)\n",
      "/var/folders/9g/fkvk1rlx44s9k648bkf78ssx5xtbf8/T/ipykernel_8912/2006281729.py:106: FutureWarning: Passing a set as an indexer is deprecated and will raise in a future version. Use a list instead.\n",
      "  df_out_of_simple_returns = preproc.get_simple_returns_from_prices(df_out_of_sample[communal_assets]).dropna()\n",
      "/var/folders/9g/fkvk1rlx44s9k648bkf78ssx5xtbf8/T/ipykernel_8912/2006281729.py:112: FutureWarning: Passing a set as an indexer is deprecated and will raise in a future version. Use a list instead.\n",
      "  y_target = portfolio_utils.get_portfolio_returns(df_out_of_simple_returns[index_communal_assets], results_data['pca_normalized_weights'], is_log=False)\n"
     ]
    },
    {
     "name": "stdout",
     "output_type": "stream",
     "text": [
      "7/7 [==============================] - 0s 871us/step\n",
      "7/7 [==============================] - 0s 857us/step\n",
      "7/7 [==============================] - 0s 910us/step\n",
      "7/7 [==============================] - 0s 889us/step\n",
      "7/7 [==============================] - 0s 857us/step\n",
      "7/7 [==============================] - 0s 895us/step\n",
      "3/3 [==============================] - 0s 1ms/step\n",
      "3/3 [==============================] - 0s 1ms/step\n"
     ]
    },
    {
     "name": "stderr",
     "output_type": "stream",
     "text": [
      "/var/folders/9g/fkvk1rlx44s9k648bkf78ssx5xtbf8/T/ipykernel_8912/2006281729.py:106: FutureWarning: Passing a set as an indexer is deprecated and will raise in a future version. Use a list instead.\n",
      "  df_out_of_simple_returns = preproc.get_simple_returns_from_prices(df_out_of_sample[communal_assets]).dropna()\n",
      "/var/folders/9g/fkvk1rlx44s9k648bkf78ssx5xtbf8/T/ipykernel_8912/2006281729.py:112: FutureWarning: Passing a set as an indexer is deprecated and will raise in a future version. Use a list instead.\n",
      "  y_target = portfolio_utils.get_portfolio_returns(df_out_of_simple_returns[index_communal_assets], results_data['pca_normalized_weights'], is_log=False)\n",
      "/var/folders/9g/fkvk1rlx44s9k648bkf78ssx5xtbf8/T/ipykernel_8912/2006281729.py:106: FutureWarning: Passing a set as an indexer is deprecated and will raise in a future version. Use a list instead.\n",
      "  df_out_of_simple_returns = preproc.get_simple_returns_from_prices(df_out_of_sample[communal_assets]).dropna()\n",
      "/var/folders/9g/fkvk1rlx44s9k648bkf78ssx5xtbf8/T/ipykernel_8912/2006281729.py:112: FutureWarning: Passing a set as an indexer is deprecated and will raise in a future version. Use a list instead.\n",
      "  y_target = portfolio_utils.get_portfolio_returns(df_out_of_simple_returns[index_communal_assets], results_data['pca_normalized_weights'], is_log=False)\n",
      "/var/folders/9g/fkvk1rlx44s9k648bkf78ssx5xtbf8/T/ipykernel_8912/2006281729.py:106: FutureWarning: Passing a set as an indexer is deprecated and will raise in a future version. Use a list instead.\n",
      "  df_out_of_simple_returns = preproc.get_simple_returns_from_prices(df_out_of_sample[communal_assets]).dropna()\n"
     ]
    },
    {
     "name": "stdout",
     "output_type": "stream",
     "text": [
      "3/3 [==============================] - 0s 1ms/step\n",
      "3/3 [==============================] - 0s 1ms/step\n",
      "3/3 [==============================] - 0s 1ms/step\n",
      "2020-04\n"
     ]
    },
    {
     "name": "stderr",
     "output_type": "stream",
     "text": [
      "/var/folders/9g/fkvk1rlx44s9k648bkf78ssx5xtbf8/T/ipykernel_8912/2006281729.py:112: FutureWarning: Passing a set as an indexer is deprecated and will raise in a future version. Use a list instead.\n",
      "  y_target = portfolio_utils.get_portfolio_returns(df_out_of_simple_returns[index_communal_assets], results_data['pca_normalized_weights'], is_log=False)\n",
      "/var/folders/9g/fkvk1rlx44s9k648bkf78ssx5xtbf8/T/ipykernel_8912/2006281729.py:106: FutureWarning: Passing a set as an indexer is deprecated and will raise in a future version. Use a list instead.\n",
      "  df_out_of_simple_returns = preproc.get_simple_returns_from_prices(df_out_of_sample[communal_assets]).dropna()\n",
      "/var/folders/9g/fkvk1rlx44s9k648bkf78ssx5xtbf8/T/ipykernel_8912/2006281729.py:112: FutureWarning: Passing a set as an indexer is deprecated and will raise in a future version. Use a list instead.\n",
      "  y_target = portfolio_utils.get_portfolio_returns(df_out_of_simple_returns[index_communal_assets], results_data['pca_normalized_weights'], is_log=False)\n",
      "/var/folders/9g/fkvk1rlx44s9k648bkf78ssx5xtbf8/T/ipykernel_8912/2006281729.py:106: FutureWarning: Passing a set as an indexer is deprecated and will raise in a future version. Use a list instead.\n",
      "  df_out_of_simple_returns = preproc.get_simple_returns_from_prices(df_out_of_sample[communal_assets]).dropna()\n",
      "/var/folders/9g/fkvk1rlx44s9k648bkf78ssx5xtbf8/T/ipykernel_8912/2006281729.py:112: FutureWarning: Passing a set as an indexer is deprecated and will raise in a future version. Use a list instead.\n",
      "  y_target = portfolio_utils.get_portfolio_returns(df_out_of_simple_returns[index_communal_assets], results_data['pca_normalized_weights'], is_log=False)\n"
     ]
    },
    {
     "name": "stdout",
     "output_type": "stream",
     "text": [
      "7/7 [==============================] - 0s 1ms/step\n",
      "7/7 [==============================] - 0s 993us/step\n",
      "7/7 [==============================] - 0s 929us/step\n",
      "7/7 [==============================] - 0s 826us/step\n",
      "7/7 [==============================] - 0s 874us/step\n",
      "7/7 [==============================] - 0s 847us/step\n",
      "3/3 [==============================] - 0s 1ms/step\n",
      "3/3 [==============================] - 0s 1ms/step\n"
     ]
    },
    {
     "name": "stderr",
     "output_type": "stream",
     "text": [
      "/var/folders/9g/fkvk1rlx44s9k648bkf78ssx5xtbf8/T/ipykernel_8912/2006281729.py:106: FutureWarning: Passing a set as an indexer is deprecated and will raise in a future version. Use a list instead.\n",
      "  df_out_of_simple_returns = preproc.get_simple_returns_from_prices(df_out_of_sample[communal_assets]).dropna()\n",
      "/var/folders/9g/fkvk1rlx44s9k648bkf78ssx5xtbf8/T/ipykernel_8912/2006281729.py:112: FutureWarning: Passing a set as an indexer is deprecated and will raise in a future version. Use a list instead.\n",
      "  y_target = portfolio_utils.get_portfolio_returns(df_out_of_simple_returns[index_communal_assets], results_data['pca_normalized_weights'], is_log=False)\n",
      "/var/folders/9g/fkvk1rlx44s9k648bkf78ssx5xtbf8/T/ipykernel_8912/2006281729.py:106: FutureWarning: Passing a set as an indexer is deprecated and will raise in a future version. Use a list instead.\n",
      "  df_out_of_simple_returns = preproc.get_simple_returns_from_prices(df_out_of_sample[communal_assets]).dropna()\n",
      "/var/folders/9g/fkvk1rlx44s9k648bkf78ssx5xtbf8/T/ipykernel_8912/2006281729.py:112: FutureWarning: Passing a set as an indexer is deprecated and will raise in a future version. Use a list instead.\n",
      "  y_target = portfolio_utils.get_portfolio_returns(df_out_of_simple_returns[index_communal_assets], results_data['pca_normalized_weights'], is_log=False)\n",
      "/var/folders/9g/fkvk1rlx44s9k648bkf78ssx5xtbf8/T/ipykernel_8912/2006281729.py:106: FutureWarning: Passing a set as an indexer is deprecated and will raise in a future version. Use a list instead.\n",
      "  df_out_of_simple_returns = preproc.get_simple_returns_from_prices(df_out_of_sample[communal_assets]).dropna()\n"
     ]
    },
    {
     "name": "stdout",
     "output_type": "stream",
     "text": [
      "3/3 [==============================] - 0s 1ms/step\n",
      "3/3 [==============================] - 0s 1ms/step\n",
      "3/3 [==============================] - 0s 1ms/step\n",
      "2021-04\n"
     ]
    },
    {
     "name": "stderr",
     "output_type": "stream",
     "text": [
      "/var/folders/9g/fkvk1rlx44s9k648bkf78ssx5xtbf8/T/ipykernel_8912/2006281729.py:112: FutureWarning: Passing a set as an indexer is deprecated and will raise in a future version. Use a list instead.\n",
      "  y_target = portfolio_utils.get_portfolio_returns(df_out_of_simple_returns[index_communal_assets], results_data['pca_normalized_weights'], is_log=False)\n",
      "/var/folders/9g/fkvk1rlx44s9k648bkf78ssx5xtbf8/T/ipykernel_8912/2006281729.py:106: FutureWarning: Passing a set as an indexer is deprecated and will raise in a future version. Use a list instead.\n",
      "  df_out_of_simple_returns = preproc.get_simple_returns_from_prices(df_out_of_sample[communal_assets]).dropna()\n",
      "/var/folders/9g/fkvk1rlx44s9k648bkf78ssx5xtbf8/T/ipykernel_8912/2006281729.py:112: FutureWarning: Passing a set as an indexer is deprecated and will raise in a future version. Use a list instead.\n",
      "  y_target = portfolio_utils.get_portfolio_returns(df_out_of_simple_returns[index_communal_assets], results_data['pca_normalized_weights'], is_log=False)\n",
      "/var/folders/9g/fkvk1rlx44s9k648bkf78ssx5xtbf8/T/ipykernel_8912/2006281729.py:106: FutureWarning: Passing a set as an indexer is deprecated and will raise in a future version. Use a list instead.\n",
      "  df_out_of_simple_returns = preproc.get_simple_returns_from_prices(df_out_of_sample[communal_assets]).dropna()\n",
      "/var/folders/9g/fkvk1rlx44s9k648bkf78ssx5xtbf8/T/ipykernel_8912/2006281729.py:112: FutureWarning: Passing a set as an indexer is deprecated and will raise in a future version. Use a list instead.\n",
      "  y_target = portfolio_utils.get_portfolio_returns(df_out_of_simple_returns[index_communal_assets], results_data['pca_normalized_weights'], is_log=False)\n"
     ]
    },
    {
     "name": "stdout",
     "output_type": "stream",
     "text": [
      "7/7 [==============================] - 0s 1ms/step\n",
      "7/7 [==============================] - 0s 1ms/step\n",
      "7/7 [==============================] - 0s 990us/step\n",
      "7/7 [==============================] - 0s 932us/step\n",
      "7/7 [==============================] - 0s 909us/step\n",
      "7/7 [==============================] - 0s 983us/step\n",
      "3/3 [==============================] - 0s 1ms/step\n",
      "3/3 [==============================] - 0s 1ms/step\n"
     ]
    },
    {
     "name": "stderr",
     "output_type": "stream",
     "text": [
      "/var/folders/9g/fkvk1rlx44s9k648bkf78ssx5xtbf8/T/ipykernel_8912/2006281729.py:106: FutureWarning: Passing a set as an indexer is deprecated and will raise in a future version. Use a list instead.\n",
      "  df_out_of_simple_returns = preproc.get_simple_returns_from_prices(df_out_of_sample[communal_assets]).dropna()\n",
      "/var/folders/9g/fkvk1rlx44s9k648bkf78ssx5xtbf8/T/ipykernel_8912/2006281729.py:112: FutureWarning: Passing a set as an indexer is deprecated and will raise in a future version. Use a list instead.\n",
      "  y_target = portfolio_utils.get_portfolio_returns(df_out_of_simple_returns[index_communal_assets], results_data['pca_normalized_weights'], is_log=False)\n",
      "/var/folders/9g/fkvk1rlx44s9k648bkf78ssx5xtbf8/T/ipykernel_8912/2006281729.py:106: FutureWarning: Passing a set as an indexer is deprecated and will raise in a future version. Use a list instead.\n",
      "  df_out_of_simple_returns = preproc.get_simple_returns_from_prices(df_out_of_sample[communal_assets]).dropna()\n",
      "/var/folders/9g/fkvk1rlx44s9k648bkf78ssx5xtbf8/T/ipykernel_8912/2006281729.py:112: FutureWarning: Passing a set as an indexer is deprecated and will raise in a future version. Use a list instead.\n",
      "  y_target = portfolio_utils.get_portfolio_returns(df_out_of_simple_returns[index_communal_assets], results_data['pca_normalized_weights'], is_log=False)\n",
      "/var/folders/9g/fkvk1rlx44s9k648bkf78ssx5xtbf8/T/ipykernel_8912/2006281729.py:106: FutureWarning: Passing a set as an indexer is deprecated and will raise in a future version. Use a list instead.\n",
      "  df_out_of_simple_returns = preproc.get_simple_returns_from_prices(df_out_of_sample[communal_assets]).dropna()\n"
     ]
    },
    {
     "name": "stdout",
     "output_type": "stream",
     "text": [
      "3/3 [==============================] - 0s 1ms/step\n",
      "3/3 [==============================] - 0s 1ms/step\n",
      "3/3 [==============================] - 0s 1ms/step\n",
      "2022-07\n"
     ]
    },
    {
     "name": "stderr",
     "output_type": "stream",
     "text": [
      "/var/folders/9g/fkvk1rlx44s9k648bkf78ssx5xtbf8/T/ipykernel_8912/2006281729.py:112: FutureWarning: Passing a set as an indexer is deprecated and will raise in a future version. Use a list instead.\n",
      "  y_target = portfolio_utils.get_portfolio_returns(df_out_of_simple_returns[index_communal_assets], results_data['pca_normalized_weights'], is_log=False)\n",
      "/var/folders/9g/fkvk1rlx44s9k648bkf78ssx5xtbf8/T/ipykernel_8912/2006281729.py:106: FutureWarning: Passing a set as an indexer is deprecated and will raise in a future version. Use a list instead.\n",
      "  df_out_of_simple_returns = preproc.get_simple_returns_from_prices(df_out_of_sample[communal_assets]).dropna()\n",
      "/var/folders/9g/fkvk1rlx44s9k648bkf78ssx5xtbf8/T/ipykernel_8912/2006281729.py:112: FutureWarning: Passing a set as an indexer is deprecated and will raise in a future version. Use a list instead.\n",
      "  y_target = portfolio_utils.get_portfolio_returns(df_out_of_simple_returns[index_communal_assets], results_data['pca_normalized_weights'], is_log=False)\n",
      "/var/folders/9g/fkvk1rlx44s9k648bkf78ssx5xtbf8/T/ipykernel_8912/2006281729.py:106: FutureWarning: Passing a set as an indexer is deprecated and will raise in a future version. Use a list instead.\n",
      "  df_out_of_simple_returns = preproc.get_simple_returns_from_prices(df_out_of_sample[communal_assets]).dropna()\n",
      "/var/folders/9g/fkvk1rlx44s9k648bkf78ssx5xtbf8/T/ipykernel_8912/2006281729.py:112: FutureWarning: Passing a set as an indexer is deprecated and will raise in a future version. Use a list instead.\n",
      "  y_target = portfolio_utils.get_portfolio_returns(df_out_of_simple_returns[index_communal_assets], results_data['pca_normalized_weights'], is_log=False)\n"
     ]
    },
    {
     "name": "stdout",
     "output_type": "stream",
     "text": [
      "7/7 [==============================] - 0s 995us/step\n",
      "7/7 [==============================] - 0s 979us/step\n",
      "7/7 [==============================] - 0s 862us/step\n",
      "7/7 [==============================] - 0s 1ms/step\n",
      "7/7 [==============================] - 0s 932us/step\n",
      "7/7 [==============================] - 0s 1ms/step\n",
      "3/3 [==============================] - 0s 1ms/step\n",
      "3/3 [==============================] - 0s 1ms/step\n"
     ]
    },
    {
     "name": "stderr",
     "output_type": "stream",
     "text": [
      "/var/folders/9g/fkvk1rlx44s9k648bkf78ssx5xtbf8/T/ipykernel_8912/2006281729.py:106: FutureWarning: Passing a set as an indexer is deprecated and will raise in a future version. Use a list instead.\n",
      "  df_out_of_simple_returns = preproc.get_simple_returns_from_prices(df_out_of_sample[communal_assets]).dropna()\n",
      "/var/folders/9g/fkvk1rlx44s9k648bkf78ssx5xtbf8/T/ipykernel_8912/2006281729.py:112: FutureWarning: Passing a set as an indexer is deprecated and will raise in a future version. Use a list instead.\n",
      "  y_target = portfolio_utils.get_portfolio_returns(df_out_of_simple_returns[index_communal_assets], results_data['pca_normalized_weights'], is_log=False)\n",
      "/var/folders/9g/fkvk1rlx44s9k648bkf78ssx5xtbf8/T/ipykernel_8912/2006281729.py:106: FutureWarning: Passing a set as an indexer is deprecated and will raise in a future version. Use a list instead.\n",
      "  df_out_of_simple_returns = preproc.get_simple_returns_from_prices(df_out_of_sample[communal_assets]).dropna()\n",
      "/var/folders/9g/fkvk1rlx44s9k648bkf78ssx5xtbf8/T/ipykernel_8912/2006281729.py:112: FutureWarning: Passing a set as an indexer is deprecated and will raise in a future version. Use a list instead.\n",
      "  y_target = portfolio_utils.get_portfolio_returns(df_out_of_simple_returns[index_communal_assets], results_data['pca_normalized_weights'], is_log=False)\n",
      "/var/folders/9g/fkvk1rlx44s9k648bkf78ssx5xtbf8/T/ipykernel_8912/2006281729.py:106: FutureWarning: Passing a set as an indexer is deprecated and will raise in a future version. Use a list instead.\n",
      "  df_out_of_simple_returns = preproc.get_simple_returns_from_prices(df_out_of_sample[communal_assets]).dropna()\n"
     ]
    },
    {
     "name": "stdout",
     "output_type": "stream",
     "text": [
      "3/3 [==============================] - 0s 2ms/step\n",
      "3/3 [==============================] - 0s 1ms/step\n",
      "3/3 [==============================] - 0s 1ms/step\n",
      "2015-10\n"
     ]
    },
    {
     "name": "stderr",
     "output_type": "stream",
     "text": [
      "/var/folders/9g/fkvk1rlx44s9k648bkf78ssx5xtbf8/T/ipykernel_8912/2006281729.py:112: FutureWarning: Passing a set as an indexer is deprecated and will raise in a future version. Use a list instead.\n",
      "  y_target = portfolio_utils.get_portfolio_returns(df_out_of_simple_returns[index_communal_assets], results_data['pca_normalized_weights'], is_log=False)\n",
      "/var/folders/9g/fkvk1rlx44s9k648bkf78ssx5xtbf8/T/ipykernel_8912/2006281729.py:106: FutureWarning: Passing a set as an indexer is deprecated and will raise in a future version. Use a list instead.\n",
      "  df_out_of_simple_returns = preproc.get_simple_returns_from_prices(df_out_of_sample[communal_assets]).dropna()\n",
      "/var/folders/9g/fkvk1rlx44s9k648bkf78ssx5xtbf8/T/ipykernel_8912/2006281729.py:112: FutureWarning: Passing a set as an indexer is deprecated and will raise in a future version. Use a list instead.\n",
      "  y_target = portfolio_utils.get_portfolio_returns(df_out_of_simple_returns[index_communal_assets], results_data['pca_normalized_weights'], is_log=False)\n",
      "/var/folders/9g/fkvk1rlx44s9k648bkf78ssx5xtbf8/T/ipykernel_8912/2006281729.py:106: FutureWarning: Passing a set as an indexer is deprecated and will raise in a future version. Use a list instead.\n",
      "  df_out_of_simple_returns = preproc.get_simple_returns_from_prices(df_out_of_sample[communal_assets]).dropna()\n",
      "/var/folders/9g/fkvk1rlx44s9k648bkf78ssx5xtbf8/T/ipykernel_8912/2006281729.py:112: FutureWarning: Passing a set as an indexer is deprecated and will raise in a future version. Use a list instead.\n",
      "  y_target = portfolio_utils.get_portfolio_returns(df_out_of_simple_returns[index_communal_assets], results_data['pca_normalized_weights'], is_log=False)\n"
     ]
    },
    {
     "name": "stdout",
     "output_type": "stream",
     "text": [
      "7/7 [==============================] - 0s 987us/step\n",
      "7/7 [==============================] - 0s 976us/step\n",
      "7/7 [==============================] - 0s 1ms/step\n",
      "7/7 [==============================] - 0s 950us/step\n",
      "7/7 [==============================] - 0s 1ms/step\n",
      "3/3 [==============================] - 0s 1ms/step\n",
      "3/3 [==============================] - 0s 1ms/step\n"
     ]
    },
    {
     "name": "stderr",
     "output_type": "stream",
     "text": [
      "/var/folders/9g/fkvk1rlx44s9k648bkf78ssx5xtbf8/T/ipykernel_8912/2006281729.py:106: FutureWarning: Passing a set as an indexer is deprecated and will raise in a future version. Use a list instead.\n",
      "  df_out_of_simple_returns = preproc.get_simple_returns_from_prices(df_out_of_sample[communal_assets]).dropna()\n",
      "/var/folders/9g/fkvk1rlx44s9k648bkf78ssx5xtbf8/T/ipykernel_8912/2006281729.py:112: FutureWarning: Passing a set as an indexer is deprecated and will raise in a future version. Use a list instead.\n",
      "  y_target = portfolio_utils.get_portfolio_returns(df_out_of_simple_returns[index_communal_assets], results_data['pca_normalized_weights'], is_log=False)\n",
      "/var/folders/9g/fkvk1rlx44s9k648bkf78ssx5xtbf8/T/ipykernel_8912/2006281729.py:106: FutureWarning: Passing a set as an indexer is deprecated and will raise in a future version. Use a list instead.\n",
      "  df_out_of_simple_returns = preproc.get_simple_returns_from_prices(df_out_of_sample[communal_assets]).dropna()\n",
      "/var/folders/9g/fkvk1rlx44s9k648bkf78ssx5xtbf8/T/ipykernel_8912/2006281729.py:112: FutureWarning: Passing a set as an indexer is deprecated and will raise in a future version. Use a list instead.\n",
      "  y_target = portfolio_utils.get_portfolio_returns(df_out_of_simple_returns[index_communal_assets], results_data['pca_normalized_weights'], is_log=False)\n",
      "/var/folders/9g/fkvk1rlx44s9k648bkf78ssx5xtbf8/T/ipykernel_8912/2006281729.py:106: FutureWarning: Passing a set as an indexer is deprecated and will raise in a future version. Use a list instead.\n",
      "  df_out_of_simple_returns = preproc.get_simple_returns_from_prices(df_out_of_sample[communal_assets]).dropna()\n"
     ]
    },
    {
     "name": "stdout",
     "output_type": "stream",
     "text": [
      "3/3 [==============================] - 0s 1ms/step\n",
      "3/3 [==============================] - 0s 1ms/step\n",
      "2014-10\n"
     ]
    },
    {
     "name": "stderr",
     "output_type": "stream",
     "text": [
      "/var/folders/9g/fkvk1rlx44s9k648bkf78ssx5xtbf8/T/ipykernel_8912/2006281729.py:112: FutureWarning: Passing a set as an indexer is deprecated and will raise in a future version. Use a list instead.\n",
      "  y_target = portfolio_utils.get_portfolio_returns(df_out_of_simple_returns[index_communal_assets], results_data['pca_normalized_weights'], is_log=False)\n",
      "/var/folders/9g/fkvk1rlx44s9k648bkf78ssx5xtbf8/T/ipykernel_8912/2006281729.py:106: FutureWarning: Passing a set as an indexer is deprecated and will raise in a future version. Use a list instead.\n",
      "  df_out_of_simple_returns = preproc.get_simple_returns_from_prices(df_out_of_sample[communal_assets]).dropna()\n",
      "/var/folders/9g/fkvk1rlx44s9k648bkf78ssx5xtbf8/T/ipykernel_8912/2006281729.py:112: FutureWarning: Passing a set as an indexer is deprecated and will raise in a future version. Use a list instead.\n",
      "  y_target = portfolio_utils.get_portfolio_returns(df_out_of_simple_returns[index_communal_assets], results_data['pca_normalized_weights'], is_log=False)\n"
     ]
    },
    {
     "name": "stdout",
     "output_type": "stream",
     "text": [
      "7/7 [==============================] - 0s 950us/step\n",
      "7/7 [==============================] - 0s 1ms/step\n",
      "7/7 [==============================] - 0s 959us/step\n",
      "7/7 [==============================] - 0s 909us/step\n",
      "7/7 [==============================] - 0s 893us/step\n",
      "7/7 [==============================] - 0s 926us/step\n",
      "3/3 [==============================] - 0s 1ms/step\n",
      "3/3 [==============================] - 0s 1ms/step\n",
      "3/3 [==============================] - 0s 1ms/step\n"
     ]
    },
    {
     "name": "stderr",
     "output_type": "stream",
     "text": [
      "/var/folders/9g/fkvk1rlx44s9k648bkf78ssx5xtbf8/T/ipykernel_8912/2006281729.py:106: FutureWarning: Passing a set as an indexer is deprecated and will raise in a future version. Use a list instead.\n",
      "  df_out_of_simple_returns = preproc.get_simple_returns_from_prices(df_out_of_sample[communal_assets]).dropna()\n",
      "/var/folders/9g/fkvk1rlx44s9k648bkf78ssx5xtbf8/T/ipykernel_8912/2006281729.py:112: FutureWarning: Passing a set as an indexer is deprecated and will raise in a future version. Use a list instead.\n",
      "  y_target = portfolio_utils.get_portfolio_returns(df_out_of_simple_returns[index_communal_assets], results_data['pca_normalized_weights'], is_log=False)\n",
      "/var/folders/9g/fkvk1rlx44s9k648bkf78ssx5xtbf8/T/ipykernel_8912/2006281729.py:106: FutureWarning: Passing a set as an indexer is deprecated and will raise in a future version. Use a list instead.\n",
      "  df_out_of_simple_returns = preproc.get_simple_returns_from_prices(df_out_of_sample[communal_assets]).dropna()\n",
      "/var/folders/9g/fkvk1rlx44s9k648bkf78ssx5xtbf8/T/ipykernel_8912/2006281729.py:112: FutureWarning: Passing a set as an indexer is deprecated and will raise in a future version. Use a list instead.\n",
      "  y_target = portfolio_utils.get_portfolio_returns(df_out_of_simple_returns[index_communal_assets], results_data['pca_normalized_weights'], is_log=False)\n",
      "/var/folders/9g/fkvk1rlx44s9k648bkf78ssx5xtbf8/T/ipykernel_8912/2006281729.py:106: FutureWarning: Passing a set as an indexer is deprecated and will raise in a future version. Use a list instead.\n",
      "  df_out_of_simple_returns = preproc.get_simple_returns_from_prices(df_out_of_sample[communal_assets]).dropna()\n"
     ]
    },
    {
     "name": "stdout",
     "output_type": "stream",
     "text": [
      "3/3 [==============================] - 0s 1ms/step\n",
      "3/3 [==============================] - 0s 1ms/step\n",
      "2021-10\n"
     ]
    },
    {
     "name": "stderr",
     "output_type": "stream",
     "text": [
      "/var/folders/9g/fkvk1rlx44s9k648bkf78ssx5xtbf8/T/ipykernel_8912/2006281729.py:112: FutureWarning: Passing a set as an indexer is deprecated and will raise in a future version. Use a list instead.\n",
      "  y_target = portfolio_utils.get_portfolio_returns(df_out_of_simple_returns[index_communal_assets], results_data['pca_normalized_weights'], is_log=False)\n",
      "/var/folders/9g/fkvk1rlx44s9k648bkf78ssx5xtbf8/T/ipykernel_8912/2006281729.py:106: FutureWarning: Passing a set as an indexer is deprecated and will raise in a future version. Use a list instead.\n",
      "  df_out_of_simple_returns = preproc.get_simple_returns_from_prices(df_out_of_sample[communal_assets]).dropna()\n",
      "/var/folders/9g/fkvk1rlx44s9k648bkf78ssx5xtbf8/T/ipykernel_8912/2006281729.py:112: FutureWarning: Passing a set as an indexer is deprecated and will raise in a future version. Use a list instead.\n",
      "  y_target = portfolio_utils.get_portfolio_returns(df_out_of_simple_returns[index_communal_assets], results_data['pca_normalized_weights'], is_log=False)\n",
      "/var/folders/9g/fkvk1rlx44s9k648bkf78ssx5xtbf8/T/ipykernel_8912/2006281729.py:106: FutureWarning: Passing a set as an indexer is deprecated and will raise in a future version. Use a list instead.\n",
      "  df_out_of_simple_returns = preproc.get_simple_returns_from_prices(df_out_of_sample[communal_assets]).dropna()\n",
      "/var/folders/9g/fkvk1rlx44s9k648bkf78ssx5xtbf8/T/ipykernel_8912/2006281729.py:112: FutureWarning: Passing a set as an indexer is deprecated and will raise in a future version. Use a list instead.\n",
      "  y_target = portfolio_utils.get_portfolio_returns(df_out_of_simple_returns[index_communal_assets], results_data['pca_normalized_weights'], is_log=False)\n"
     ]
    },
    {
     "name": "stdout",
     "output_type": "stream",
     "text": [
      "6/6 [==============================] - 0s 964us/step\n",
      "6/6 [==============================] - 0s 957us/step\n",
      "6/6 [==============================] - 0s 1ms/step\n",
      "6/6 [==============================] - 0s 983us/step\n",
      "6/6 [==============================] - 0s 870us/step\n",
      "6/6 [==============================] - 0s 872us/step\n",
      "3/3 [==============================] - 0s 1ms/step\n",
      "3/3 [==============================] - 0s 1ms/step\n",
      "3/3 [==============================] - 0s 1ms/step\n"
     ]
    },
    {
     "name": "stderr",
     "output_type": "stream",
     "text": [
      "/var/folders/9g/fkvk1rlx44s9k648bkf78ssx5xtbf8/T/ipykernel_8912/2006281729.py:106: FutureWarning: Passing a set as an indexer is deprecated and will raise in a future version. Use a list instead.\n",
      "  df_out_of_simple_returns = preproc.get_simple_returns_from_prices(df_out_of_sample[communal_assets]).dropna()\n",
      "/var/folders/9g/fkvk1rlx44s9k648bkf78ssx5xtbf8/T/ipykernel_8912/2006281729.py:112: FutureWarning: Passing a set as an indexer is deprecated and will raise in a future version. Use a list instead.\n",
      "  y_target = portfolio_utils.get_portfolio_returns(df_out_of_simple_returns[index_communal_assets], results_data['pca_normalized_weights'], is_log=False)\n",
      "/var/folders/9g/fkvk1rlx44s9k648bkf78ssx5xtbf8/T/ipykernel_8912/2006281729.py:106: FutureWarning: Passing a set as an indexer is deprecated and will raise in a future version. Use a list instead.\n",
      "  df_out_of_simple_returns = preproc.get_simple_returns_from_prices(df_out_of_sample[communal_assets]).dropna()\n",
      "/var/folders/9g/fkvk1rlx44s9k648bkf78ssx5xtbf8/T/ipykernel_8912/2006281729.py:112: FutureWarning: Passing a set as an indexer is deprecated and will raise in a future version. Use a list instead.\n",
      "  y_target = portfolio_utils.get_portfolio_returns(df_out_of_simple_returns[index_communal_assets], results_data['pca_normalized_weights'], is_log=False)\n",
      "/var/folders/9g/fkvk1rlx44s9k648bkf78ssx5xtbf8/T/ipykernel_8912/2006281729.py:106: FutureWarning: Passing a set as an indexer is deprecated and will raise in a future version. Use a list instead.\n",
      "  df_out_of_simple_returns = preproc.get_simple_returns_from_prices(df_out_of_sample[communal_assets]).dropna()\n"
     ]
    },
    {
     "name": "stdout",
     "output_type": "stream",
     "text": [
      "3/3 [==============================] - 0s 1ms/step\n",
      "3/3 [==============================] - 0s 1ms/step\n",
      "2020-10\n"
     ]
    },
    {
     "name": "stderr",
     "output_type": "stream",
     "text": [
      "/var/folders/9g/fkvk1rlx44s9k648bkf78ssx5xtbf8/T/ipykernel_8912/2006281729.py:112: FutureWarning: Passing a set as an indexer is deprecated and will raise in a future version. Use a list instead.\n",
      "  y_target = portfolio_utils.get_portfolio_returns(df_out_of_simple_returns[index_communal_assets], results_data['pca_normalized_weights'], is_log=False)\n",
      "/var/folders/9g/fkvk1rlx44s9k648bkf78ssx5xtbf8/T/ipykernel_8912/2006281729.py:106: FutureWarning: Passing a set as an indexer is deprecated and will raise in a future version. Use a list instead.\n",
      "  df_out_of_simple_returns = preproc.get_simple_returns_from_prices(df_out_of_sample[communal_assets]).dropna()\n",
      "/var/folders/9g/fkvk1rlx44s9k648bkf78ssx5xtbf8/T/ipykernel_8912/2006281729.py:112: FutureWarning: Passing a set as an indexer is deprecated and will raise in a future version. Use a list instead.\n",
      "  y_target = portfolio_utils.get_portfolio_returns(df_out_of_simple_returns[index_communal_assets], results_data['pca_normalized_weights'], is_log=False)\n",
      "/var/folders/9g/fkvk1rlx44s9k648bkf78ssx5xtbf8/T/ipykernel_8912/2006281729.py:106: FutureWarning: Passing a set as an indexer is deprecated and will raise in a future version. Use a list instead.\n",
      "  df_out_of_simple_returns = preproc.get_simple_returns_from_prices(df_out_of_sample[communal_assets]).dropna()\n",
      "/var/folders/9g/fkvk1rlx44s9k648bkf78ssx5xtbf8/T/ipykernel_8912/2006281729.py:112: FutureWarning: Passing a set as an indexer is deprecated and will raise in a future version. Use a list instead.\n",
      "  y_target = portfolio_utils.get_portfolio_returns(df_out_of_simple_returns[index_communal_assets], results_data['pca_normalized_weights'], is_log=False)\n"
     ]
    },
    {
     "name": "stdout",
     "output_type": "stream",
     "text": [
      "7/7 [==============================] - 0s 848us/step\n",
      "7/7 [==============================] - 0s 909us/step\n",
      "7/7 [==============================] - 0s 907us/step\n",
      "7/7 [==============================] - 0s 938us/step\n",
      "3/3 [==============================] - 0s 1ms/step\n",
      "3/3 [==============================] - 0s 1ms/step\n",
      "3/3 [==============================] - 0s 1ms/step\n"
     ]
    },
    {
     "name": "stderr",
     "output_type": "stream",
     "text": [
      "/var/folders/9g/fkvk1rlx44s9k648bkf78ssx5xtbf8/T/ipykernel_8912/2006281729.py:106: FutureWarning: Passing a set as an indexer is deprecated and will raise in a future version. Use a list instead.\n",
      "  df_out_of_simple_returns = preproc.get_simple_returns_from_prices(df_out_of_sample[communal_assets]).dropna()\n",
      "/var/folders/9g/fkvk1rlx44s9k648bkf78ssx5xtbf8/T/ipykernel_8912/2006281729.py:112: FutureWarning: Passing a set as an indexer is deprecated and will raise in a future version. Use a list instead.\n",
      "  y_target = portfolio_utils.get_portfolio_returns(df_out_of_simple_returns[index_communal_assets], results_data['pca_normalized_weights'], is_log=False)\n",
      "/var/folders/9g/fkvk1rlx44s9k648bkf78ssx5xtbf8/T/ipykernel_8912/2006281729.py:106: FutureWarning: Passing a set as an indexer is deprecated and will raise in a future version. Use a list instead.\n",
      "  df_out_of_simple_returns = preproc.get_simple_returns_from_prices(df_out_of_sample[communal_assets]).dropna()\n",
      "/var/folders/9g/fkvk1rlx44s9k648bkf78ssx5xtbf8/T/ipykernel_8912/2006281729.py:112: FutureWarning: Passing a set as an indexer is deprecated and will raise in a future version. Use a list instead.\n",
      "  y_target = portfolio_utils.get_portfolio_returns(df_out_of_simple_returns[index_communal_assets], results_data['pca_normalized_weights'], is_log=False)\n",
      "/var/folders/9g/fkvk1rlx44s9k648bkf78ssx5xtbf8/T/ipykernel_8912/2006281729.py:106: FutureWarning: Passing a set as an indexer is deprecated and will raise in a future version. Use a list instead.\n",
      "  df_out_of_simple_returns = preproc.get_simple_returns_from_prices(df_out_of_sample[communal_assets]).dropna()\n"
     ]
    },
    {
     "name": "stdout",
     "output_type": "stream",
     "text": [
      "2016-07\n"
     ]
    },
    {
     "name": "stderr",
     "output_type": "stream",
     "text": [
      "/var/folders/9g/fkvk1rlx44s9k648bkf78ssx5xtbf8/T/ipykernel_8912/2006281729.py:112: FutureWarning: Passing a set as an indexer is deprecated and will raise in a future version. Use a list instead.\n",
      "  y_target = portfolio_utils.get_portfolio_returns(df_out_of_simple_returns[index_communal_assets], results_data['pca_normalized_weights'], is_log=False)\n"
     ]
    },
    {
     "name": "stdout",
     "output_type": "stream",
     "text": [
      "7/7 [==============================] - 0s 959us/step\n",
      "7/7 [==============================] - 0s 871us/step\n",
      "7/7 [==============================] - 0s 847us/step\n",
      "7/7 [==============================] - 0s 932us/step\n",
      "7/7 [==============================] - 0s 928us/step\n",
      "3/3 [==============================] - 0s 1ms/step\n",
      "3/3 [==============================] - 0s 1ms/step\n",
      "1/3 [=========>....................] - ETA: 0s"
     ]
    },
    {
     "name": "stderr",
     "output_type": "stream",
     "text": [
      "/var/folders/9g/fkvk1rlx44s9k648bkf78ssx5xtbf8/T/ipykernel_8912/2006281729.py:106: FutureWarning: Passing a set as an indexer is deprecated and will raise in a future version. Use a list instead.\n",
      "  df_out_of_simple_returns = preproc.get_simple_returns_from_prices(df_out_of_sample[communal_assets]).dropna()\n",
      "/var/folders/9g/fkvk1rlx44s9k648bkf78ssx5xtbf8/T/ipykernel_8912/2006281729.py:112: FutureWarning: Passing a set as an indexer is deprecated and will raise in a future version. Use a list instead.\n",
      "  y_target = portfolio_utils.get_portfolio_returns(df_out_of_simple_returns[index_communal_assets], results_data['pca_normalized_weights'], is_log=False)\n",
      "/var/folders/9g/fkvk1rlx44s9k648bkf78ssx5xtbf8/T/ipykernel_8912/2006281729.py:106: FutureWarning: Passing a set as an indexer is deprecated and will raise in a future version. Use a list instead.\n",
      "  df_out_of_simple_returns = preproc.get_simple_returns_from_prices(df_out_of_sample[communal_assets]).dropna()\n",
      "/var/folders/9g/fkvk1rlx44s9k648bkf78ssx5xtbf8/T/ipykernel_8912/2006281729.py:112: FutureWarning: Passing a set as an indexer is deprecated and will raise in a future version. Use a list instead.\n",
      "  y_target = portfolio_utils.get_portfolio_returns(df_out_of_simple_returns[index_communal_assets], results_data['pca_normalized_weights'], is_log=False)\n",
      "/var/folders/9g/fkvk1rlx44s9k648bkf78ssx5xtbf8/T/ipykernel_8912/2006281729.py:106: FutureWarning: Passing a set as an indexer is deprecated and will raise in a future version. Use a list instead.\n",
      "  df_out_of_simple_returns = preproc.get_simple_returns_from_prices(df_out_of_sample[communal_assets]).dropna()\n"
     ]
    },
    {
     "name": "stdout",
     "output_type": "stream",
     "text": [
      "3/3 [==============================] - 0s 1ms/step\n",
      "3/3 [==============================] - 0s 1ms/step\n",
      "2017-07\n"
     ]
    },
    {
     "name": "stderr",
     "output_type": "stream",
     "text": [
      "/var/folders/9g/fkvk1rlx44s9k648bkf78ssx5xtbf8/T/ipykernel_8912/2006281729.py:112: FutureWarning: Passing a set as an indexer is deprecated and will raise in a future version. Use a list instead.\n",
      "  y_target = portfolio_utils.get_portfolio_returns(df_out_of_simple_returns[index_communal_assets], results_data['pca_normalized_weights'], is_log=False)\n",
      "/var/folders/9g/fkvk1rlx44s9k648bkf78ssx5xtbf8/T/ipykernel_8912/2006281729.py:106: FutureWarning: Passing a set as an indexer is deprecated and will raise in a future version. Use a list instead.\n",
      "  df_out_of_simple_returns = preproc.get_simple_returns_from_prices(df_out_of_sample[communal_assets]).dropna()\n",
      "/var/folders/9g/fkvk1rlx44s9k648bkf78ssx5xtbf8/T/ipykernel_8912/2006281729.py:112: FutureWarning: Passing a set as an indexer is deprecated and will raise in a future version. Use a list instead.\n",
      "  y_target = portfolio_utils.get_portfolio_returns(df_out_of_simple_returns[index_communal_assets], results_data['pca_normalized_weights'], is_log=False)\n"
     ]
    },
    {
     "name": "stdout",
     "output_type": "stream",
     "text": [
      "7/7 [==============================] - 0s 954us/step\n",
      "7/7 [==============================] - 0s 952us/step\n",
      "7/7 [==============================] - 0s 961us/step\n",
      "7/7 [==============================] - 0s 917us/step\n",
      "7/7 [==============================] - 0s 874us/step\n",
      "7/7 [==============================] - 0s 967us/step\n",
      "3/3 [==============================] - 0s 1ms/step\n",
      "3/3 [==============================] - 0s 1ms/step\n",
      "3/3 [==============================] - 0s 1ms/step\n"
     ]
    },
    {
     "name": "stderr",
     "output_type": "stream",
     "text": [
      "/var/folders/9g/fkvk1rlx44s9k648bkf78ssx5xtbf8/T/ipykernel_8912/2006281729.py:106: FutureWarning: Passing a set as an indexer is deprecated and will raise in a future version. Use a list instead.\n",
      "  df_out_of_simple_returns = preproc.get_simple_returns_from_prices(df_out_of_sample[communal_assets]).dropna()\n",
      "/var/folders/9g/fkvk1rlx44s9k648bkf78ssx5xtbf8/T/ipykernel_8912/2006281729.py:112: FutureWarning: Passing a set as an indexer is deprecated and will raise in a future version. Use a list instead.\n",
      "  y_target = portfolio_utils.get_portfolio_returns(df_out_of_simple_returns[index_communal_assets], results_data['pca_normalized_weights'], is_log=False)\n",
      "/var/folders/9g/fkvk1rlx44s9k648bkf78ssx5xtbf8/T/ipykernel_8912/2006281729.py:106: FutureWarning: Passing a set as an indexer is deprecated and will raise in a future version. Use a list instead.\n",
      "  df_out_of_simple_returns = preproc.get_simple_returns_from_prices(df_out_of_sample[communal_assets]).dropna()\n",
      "/var/folders/9g/fkvk1rlx44s9k648bkf78ssx5xtbf8/T/ipykernel_8912/2006281729.py:112: FutureWarning: Passing a set as an indexer is deprecated and will raise in a future version. Use a list instead.\n",
      "  y_target = portfolio_utils.get_portfolio_returns(df_out_of_simple_returns[index_communal_assets], results_data['pca_normalized_weights'], is_log=False)\n",
      "/var/folders/9g/fkvk1rlx44s9k648bkf78ssx5xtbf8/T/ipykernel_8912/2006281729.py:106: FutureWarning: Passing a set as an indexer is deprecated and will raise in a future version. Use a list instead.\n",
      "  df_out_of_simple_returns = preproc.get_simple_returns_from_prices(df_out_of_sample[communal_assets]).dropna()\n"
     ]
    },
    {
     "name": "stdout",
     "output_type": "stream",
     "text": [
      "3/3 [==============================] - 0s 1ms/step\n",
      "3/3 [==============================] - 0s 1ms/step\n",
      "2014-04\n"
     ]
    },
    {
     "name": "stderr",
     "output_type": "stream",
     "text": [
      "/var/folders/9g/fkvk1rlx44s9k648bkf78ssx5xtbf8/T/ipykernel_8912/2006281729.py:112: FutureWarning: Passing a set as an indexer is deprecated and will raise in a future version. Use a list instead.\n",
      "  y_target = portfolio_utils.get_portfolio_returns(df_out_of_simple_returns[index_communal_assets], results_data['pca_normalized_weights'], is_log=False)\n",
      "/var/folders/9g/fkvk1rlx44s9k648bkf78ssx5xtbf8/T/ipykernel_8912/2006281729.py:106: FutureWarning: Passing a set as an indexer is deprecated and will raise in a future version. Use a list instead.\n",
      "  df_out_of_simple_returns = preproc.get_simple_returns_from_prices(df_out_of_sample[communal_assets]).dropna()\n",
      "/var/folders/9g/fkvk1rlx44s9k648bkf78ssx5xtbf8/T/ipykernel_8912/2006281729.py:112: FutureWarning: Passing a set as an indexer is deprecated and will raise in a future version. Use a list instead.\n",
      "  y_target = portfolio_utils.get_portfolio_returns(df_out_of_simple_returns[index_communal_assets], results_data['pca_normalized_weights'], is_log=False)\n",
      "/var/folders/9g/fkvk1rlx44s9k648bkf78ssx5xtbf8/T/ipykernel_8912/2006281729.py:106: FutureWarning: Passing a set as an indexer is deprecated and will raise in a future version. Use a list instead.\n",
      "  df_out_of_simple_returns = preproc.get_simple_returns_from_prices(df_out_of_sample[communal_assets]).dropna()\n",
      "/var/folders/9g/fkvk1rlx44s9k648bkf78ssx5xtbf8/T/ipykernel_8912/2006281729.py:112: FutureWarning: Passing a set as an indexer is deprecated and will raise in a future version. Use a list instead.\n",
      "  y_target = portfolio_utils.get_portfolio_returns(df_out_of_simple_returns[index_communal_assets], results_data['pca_normalized_weights'], is_log=False)\n"
     ]
    },
    {
     "name": "stdout",
     "output_type": "stream",
     "text": [
      "7/7 [==============================] - 0s 860us/step\n",
      "7/7 [==============================] - 0s 954us/step\n",
      "7/7 [==============================] - 0s 817us/step\n",
      "7/7 [==============================] - 0s 845us/step\n",
      "7/7 [==============================] - 0s 862us/step\n",
      "7/7 [==============================] - 0s 844us/step\n",
      "3/3 [==============================] - 0s 1ms/step\n",
      "3/3 [==============================] - 0s 1ms/step\n"
     ]
    },
    {
     "name": "stderr",
     "output_type": "stream",
     "text": [
      "/var/folders/9g/fkvk1rlx44s9k648bkf78ssx5xtbf8/T/ipykernel_8912/2006281729.py:106: FutureWarning: Passing a set as an indexer is deprecated and will raise in a future version. Use a list instead.\n",
      "  df_out_of_simple_returns = preproc.get_simple_returns_from_prices(df_out_of_sample[communal_assets]).dropna()\n",
      "/var/folders/9g/fkvk1rlx44s9k648bkf78ssx5xtbf8/T/ipykernel_8912/2006281729.py:112: FutureWarning: Passing a set as an indexer is deprecated and will raise in a future version. Use a list instead.\n",
      "  y_target = portfolio_utils.get_portfolio_returns(df_out_of_simple_returns[index_communal_assets], results_data['pca_normalized_weights'], is_log=False)\n",
      "/var/folders/9g/fkvk1rlx44s9k648bkf78ssx5xtbf8/T/ipykernel_8912/2006281729.py:106: FutureWarning: Passing a set as an indexer is deprecated and will raise in a future version. Use a list instead.\n",
      "  df_out_of_simple_returns = preproc.get_simple_returns_from_prices(df_out_of_sample[communal_assets]).dropna()\n",
      "/var/folders/9g/fkvk1rlx44s9k648bkf78ssx5xtbf8/T/ipykernel_8912/2006281729.py:112: FutureWarning: Passing a set as an indexer is deprecated and will raise in a future version. Use a list instead.\n",
      "  y_target = portfolio_utils.get_portfolio_returns(df_out_of_simple_returns[index_communal_assets], results_data['pca_normalized_weights'], is_log=False)\n",
      "/var/folders/9g/fkvk1rlx44s9k648bkf78ssx5xtbf8/T/ipykernel_8912/2006281729.py:106: FutureWarning: Passing a set as an indexer is deprecated and will raise in a future version. Use a list instead.\n",
      "  df_out_of_simple_returns = preproc.get_simple_returns_from_prices(df_out_of_sample[communal_assets]).dropna()\n"
     ]
    },
    {
     "name": "stdout",
     "output_type": "stream",
     "text": [
      "3/3 [==============================] - 0s 1ms/step\n",
      "3/3 [==============================] - 0s 1ms/step\n",
      "3/3 [==============================] - 0s 1ms/step\n",
      "2015-04\n"
     ]
    },
    {
     "name": "stderr",
     "output_type": "stream",
     "text": [
      "/var/folders/9g/fkvk1rlx44s9k648bkf78ssx5xtbf8/T/ipykernel_8912/2006281729.py:112: FutureWarning: Passing a set as an indexer is deprecated and will raise in a future version. Use a list instead.\n",
      "  y_target = portfolio_utils.get_portfolio_returns(df_out_of_simple_returns[index_communal_assets], results_data['pca_normalized_weights'], is_log=False)\n",
      "/var/folders/9g/fkvk1rlx44s9k648bkf78ssx5xtbf8/T/ipykernel_8912/2006281729.py:106: FutureWarning: Passing a set as an indexer is deprecated and will raise in a future version. Use a list instead.\n",
      "  df_out_of_simple_returns = preproc.get_simple_returns_from_prices(df_out_of_sample[communal_assets]).dropna()\n",
      "/var/folders/9g/fkvk1rlx44s9k648bkf78ssx5xtbf8/T/ipykernel_8912/2006281729.py:112: FutureWarning: Passing a set as an indexer is deprecated and will raise in a future version. Use a list instead.\n",
      "  y_target = portfolio_utils.get_portfolio_returns(df_out_of_simple_returns[index_communal_assets], results_data['pca_normalized_weights'], is_log=False)\n",
      "/var/folders/9g/fkvk1rlx44s9k648bkf78ssx5xtbf8/T/ipykernel_8912/2006281729.py:106: FutureWarning: Passing a set as an indexer is deprecated and will raise in a future version. Use a list instead.\n",
      "  df_out_of_simple_returns = preproc.get_simple_returns_from_prices(df_out_of_sample[communal_assets]).dropna()\n",
      "/var/folders/9g/fkvk1rlx44s9k648bkf78ssx5xtbf8/T/ipykernel_8912/2006281729.py:112: FutureWarning: Passing a set as an indexer is deprecated and will raise in a future version. Use a list instead.\n",
      "  y_target = portfolio_utils.get_portfolio_returns(df_out_of_simple_returns[index_communal_assets], results_data['pca_normalized_weights'], is_log=False)\n"
     ]
    },
    {
     "name": "stdout",
     "output_type": "stream",
     "text": [
      "7/7 [==============================] - 0s 818us/step\n",
      "7/7 [==============================] - 0s 963us/step\n",
      "7/7 [==============================] - 0s 979us/step\n",
      "7/7 [==============================] - 0s 884us/step\n",
      "7/7 [==============================] - 0s 758us/step\n",
      "3/3 [==============================] - 0s 1ms/step\n",
      "3/3 [==============================] - 0s 1ms/step\n",
      "3/3 [==============================] - 0s 1ms/step\n"
     ]
    },
    {
     "name": "stderr",
     "output_type": "stream",
     "text": [
      "/var/folders/9g/fkvk1rlx44s9k648bkf78ssx5xtbf8/T/ipykernel_8912/2006281729.py:106: FutureWarning: Passing a set as an indexer is deprecated and will raise in a future version. Use a list instead.\n",
      "  df_out_of_simple_returns = preproc.get_simple_returns_from_prices(df_out_of_sample[communal_assets]).dropna()\n",
      "/var/folders/9g/fkvk1rlx44s9k648bkf78ssx5xtbf8/T/ipykernel_8912/2006281729.py:112: FutureWarning: Passing a set as an indexer is deprecated and will raise in a future version. Use a list instead.\n",
      "  y_target = portfolio_utils.get_portfolio_returns(df_out_of_simple_returns[index_communal_assets], results_data['pca_normalized_weights'], is_log=False)\n",
      "/var/folders/9g/fkvk1rlx44s9k648bkf78ssx5xtbf8/T/ipykernel_8912/2006281729.py:106: FutureWarning: Passing a set as an indexer is deprecated and will raise in a future version. Use a list instead.\n",
      "  df_out_of_simple_returns = preproc.get_simple_returns_from_prices(df_out_of_sample[communal_assets]).dropna()\n",
      "/var/folders/9g/fkvk1rlx44s9k648bkf78ssx5xtbf8/T/ipykernel_8912/2006281729.py:112: FutureWarning: Passing a set as an indexer is deprecated and will raise in a future version. Use a list instead.\n",
      "  y_target = portfolio_utils.get_portfolio_returns(df_out_of_simple_returns[index_communal_assets], results_data['pca_normalized_weights'], is_log=False)\n",
      "/var/folders/9g/fkvk1rlx44s9k648bkf78ssx5xtbf8/T/ipykernel_8912/2006281729.py:106: FutureWarning: Passing a set as an indexer is deprecated and will raise in a future version. Use a list instead.\n",
      "  df_out_of_simple_returns = preproc.get_simple_returns_from_prices(df_out_of_sample[communal_assets]).dropna()\n"
     ]
    },
    {
     "name": "stdout",
     "output_type": "stream",
     "text": [
      "3/3 [==============================] - 0s 1ms/step\n",
      "2023-01\n"
     ]
    },
    {
     "name": "stderr",
     "output_type": "stream",
     "text": [
      "/var/folders/9g/fkvk1rlx44s9k648bkf78ssx5xtbf8/T/ipykernel_8912/2006281729.py:112: FutureWarning: Passing a set as an indexer is deprecated and will raise in a future version. Use a list instead.\n",
      "  y_target = portfolio_utils.get_portfolio_returns(df_out_of_simple_returns[index_communal_assets], results_data['pca_normalized_weights'], is_log=False)\n",
      "/var/folders/9g/fkvk1rlx44s9k648bkf78ssx5xtbf8/T/ipykernel_8912/2006281729.py:106: FutureWarning: Passing a set as an indexer is deprecated and will raise in a future version. Use a list instead.\n",
      "  df_out_of_simple_returns = preproc.get_simple_returns_from_prices(df_out_of_sample[communal_assets]).dropna()\n",
      "/var/folders/9g/fkvk1rlx44s9k648bkf78ssx5xtbf8/T/ipykernel_8912/2006281729.py:112: FutureWarning: Passing a set as an indexer is deprecated and will raise in a future version. Use a list instead.\n",
      "  y_target = portfolio_utils.get_portfolio_returns(df_out_of_simple_returns[index_communal_assets], results_data['pca_normalized_weights'], is_log=False)\n"
     ]
    },
    {
     "name": "stdout",
     "output_type": "stream",
     "text": [
      "7/7 [==============================] - 0s 897us/step\n",
      "7/7 [==============================] - 0s 855us/step\n",
      "7/7 [==============================] - 0s 859us/step\n",
      "7/7 [==============================] - 0s 881us/step\n",
      "7/7 [==============================] - 0s 1ms/step\n",
      "7/7 [==============================] - 0s 888us/step\n",
      "3/3 [==============================] - 0s 1ms/step\n",
      "3/3 [==============================] - 0s 1ms/step\n",
      "3/3 [==============================] - 0s 1ms/step\n"
     ]
    },
    {
     "name": "stderr",
     "output_type": "stream",
     "text": [
      "/var/folders/9g/fkvk1rlx44s9k648bkf78ssx5xtbf8/T/ipykernel_8912/2006281729.py:106: FutureWarning: Passing a set as an indexer is deprecated and will raise in a future version. Use a list instead.\n",
      "  df_out_of_simple_returns = preproc.get_simple_returns_from_prices(df_out_of_sample[communal_assets]).dropna()\n",
      "/var/folders/9g/fkvk1rlx44s9k648bkf78ssx5xtbf8/T/ipykernel_8912/2006281729.py:112: FutureWarning: Passing a set as an indexer is deprecated and will raise in a future version. Use a list instead.\n",
      "  y_target = portfolio_utils.get_portfolio_returns(df_out_of_simple_returns[index_communal_assets], results_data['pca_normalized_weights'], is_log=False)\n",
      "/var/folders/9g/fkvk1rlx44s9k648bkf78ssx5xtbf8/T/ipykernel_8912/2006281729.py:106: FutureWarning: Passing a set as an indexer is deprecated and will raise in a future version. Use a list instead.\n",
      "  df_out_of_simple_returns = preproc.get_simple_returns_from_prices(df_out_of_sample[communal_assets]).dropna()\n",
      "/var/folders/9g/fkvk1rlx44s9k648bkf78ssx5xtbf8/T/ipykernel_8912/2006281729.py:112: FutureWarning: Passing a set as an indexer is deprecated and will raise in a future version. Use a list instead.\n",
      "  y_target = portfolio_utils.get_portfolio_returns(df_out_of_simple_returns[index_communal_assets], results_data['pca_normalized_weights'], is_log=False)\n",
      "/var/folders/9g/fkvk1rlx44s9k648bkf78ssx5xtbf8/T/ipykernel_8912/2006281729.py:106: FutureWarning: Passing a set as an indexer is deprecated and will raise in a future version. Use a list instead.\n",
      "  df_out_of_simple_returns = preproc.get_simple_returns_from_prices(df_out_of_sample[communal_assets]).dropna()\n"
     ]
    },
    {
     "name": "stdout",
     "output_type": "stream",
     "text": [
      "3/3 [==============================] - 0s 1ms/step\n",
      "3/3 [==============================] - 0s 994us/step\n",
      "2022-01\n"
     ]
    },
    {
     "name": "stderr",
     "output_type": "stream",
     "text": [
      "/var/folders/9g/fkvk1rlx44s9k648bkf78ssx5xtbf8/T/ipykernel_8912/2006281729.py:112: FutureWarning: Passing a set as an indexer is deprecated and will raise in a future version. Use a list instead.\n",
      "  y_target = portfolio_utils.get_portfolio_returns(df_out_of_simple_returns[index_communal_assets], results_data['pca_normalized_weights'], is_log=False)\n",
      "/var/folders/9g/fkvk1rlx44s9k648bkf78ssx5xtbf8/T/ipykernel_8912/2006281729.py:106: FutureWarning: Passing a set as an indexer is deprecated and will raise in a future version. Use a list instead.\n",
      "  df_out_of_simple_returns = preproc.get_simple_returns_from_prices(df_out_of_sample[communal_assets]).dropna()\n",
      "/var/folders/9g/fkvk1rlx44s9k648bkf78ssx5xtbf8/T/ipykernel_8912/2006281729.py:112: FutureWarning: Passing a set as an indexer is deprecated and will raise in a future version. Use a list instead.\n",
      "  y_target = portfolio_utils.get_portfolio_returns(df_out_of_simple_returns[index_communal_assets], results_data['pca_normalized_weights'], is_log=False)\n",
      "/var/folders/9g/fkvk1rlx44s9k648bkf78ssx5xtbf8/T/ipykernel_8912/2006281729.py:106: FutureWarning: Passing a set as an indexer is deprecated and will raise in a future version. Use a list instead.\n",
      "  df_out_of_simple_returns = preproc.get_simple_returns_from_prices(df_out_of_sample[communal_assets]).dropna()\n",
      "/var/folders/9g/fkvk1rlx44s9k648bkf78ssx5xtbf8/T/ipykernel_8912/2006281729.py:112: FutureWarning: Passing a set as an indexer is deprecated and will raise in a future version. Use a list instead.\n",
      "  y_target = portfolio_utils.get_portfolio_returns(df_out_of_simple_returns[index_communal_assets], results_data['pca_normalized_weights'], is_log=False)\n"
     ]
    },
    {
     "name": "stdout",
     "output_type": "stream",
     "text": [
      "7/7 [==============================] - 0s 819us/step\n",
      "7/7 [==============================] - 0s 870us/step\n",
      "7/7 [==============================] - 0s 843us/step\n",
      "7/7 [==============================] - 0s 904us/step\n",
      "3/3 [==============================] - 0s 1ms/step\n",
      "3/3 [==============================] - 0s 1ms/step\n",
      "3/3 [==============================] - 0s 1ms/step\n"
     ]
    },
    {
     "name": "stderr",
     "output_type": "stream",
     "text": [
      "/var/folders/9g/fkvk1rlx44s9k648bkf78ssx5xtbf8/T/ipykernel_8912/2006281729.py:106: FutureWarning: Passing a set as an indexer is deprecated and will raise in a future version. Use a list instead.\n",
      "  df_out_of_simple_returns = preproc.get_simple_returns_from_prices(df_out_of_sample[communal_assets]).dropna()\n",
      "/var/folders/9g/fkvk1rlx44s9k648bkf78ssx5xtbf8/T/ipykernel_8912/2006281729.py:112: FutureWarning: Passing a set as an indexer is deprecated and will raise in a future version. Use a list instead.\n",
      "  y_target = portfolio_utils.get_portfolio_returns(df_out_of_simple_returns[index_communal_assets], results_data['pca_normalized_weights'], is_log=False)\n",
      "/var/folders/9g/fkvk1rlx44s9k648bkf78ssx5xtbf8/T/ipykernel_8912/2006281729.py:106: FutureWarning: Passing a set as an indexer is deprecated and will raise in a future version. Use a list instead.\n",
      "  df_out_of_simple_returns = preproc.get_simple_returns_from_prices(df_out_of_sample[communal_assets]).dropna()\n",
      "/var/folders/9g/fkvk1rlx44s9k648bkf78ssx5xtbf8/T/ipykernel_8912/2006281729.py:112: FutureWarning: Passing a set as an indexer is deprecated and will raise in a future version. Use a list instead.\n",
      "  y_target = portfolio_utils.get_portfolio_returns(df_out_of_simple_returns[index_communal_assets], results_data['pca_normalized_weights'], is_log=False)\n",
      "/var/folders/9g/fkvk1rlx44s9k648bkf78ssx5xtbf8/T/ipykernel_8912/2006281729.py:106: FutureWarning: Passing a set as an indexer is deprecated and will raise in a future version. Use a list instead.\n",
      "  df_out_of_simple_returns = preproc.get_simple_returns_from_prices(df_out_of_sample[communal_assets]).dropna()\n"
     ]
    },
    {
     "name": "stdout",
     "output_type": "stream",
     "text": [
      "2017-01\n"
     ]
    },
    {
     "name": "stderr",
     "output_type": "stream",
     "text": [
      "/var/folders/9g/fkvk1rlx44s9k648bkf78ssx5xtbf8/T/ipykernel_8912/2006281729.py:112: FutureWarning: Passing a set as an indexer is deprecated and will raise in a future version. Use a list instead.\n",
      "  y_target = portfolio_utils.get_portfolio_returns(df_out_of_simple_returns[index_communal_assets], results_data['pca_normalized_weights'], is_log=False)\n"
     ]
    },
    {
     "name": "stdout",
     "output_type": "stream",
     "text": [
      "7/7 [==============================] - 0s 903us/step\n",
      "7/7 [==============================] - 0s 853us/step\n",
      "7/7 [==============================] - 0s 905us/step\n",
      "7/7 [==============================] - 0s 896us/step\n",
      "7/7 [==============================] - 0s 993us/step\n",
      "7/7 [==============================] - 0s 826us/step\n",
      "3/3 [==============================] - 0s 1ms/step\n",
      "3/3 [==============================] - 0s 1ms/step\n"
     ]
    },
    {
     "name": "stderr",
     "output_type": "stream",
     "text": [
      "/var/folders/9g/fkvk1rlx44s9k648bkf78ssx5xtbf8/T/ipykernel_8912/2006281729.py:106: FutureWarning: Passing a set as an indexer is deprecated and will raise in a future version. Use a list instead.\n",
      "  df_out_of_simple_returns = preproc.get_simple_returns_from_prices(df_out_of_sample[communal_assets]).dropna()\n",
      "/var/folders/9g/fkvk1rlx44s9k648bkf78ssx5xtbf8/T/ipykernel_8912/2006281729.py:112: FutureWarning: Passing a set as an indexer is deprecated and will raise in a future version. Use a list instead.\n",
      "  y_target = portfolio_utils.get_portfolio_returns(df_out_of_simple_returns[index_communal_assets], results_data['pca_normalized_weights'], is_log=False)\n",
      "/var/folders/9g/fkvk1rlx44s9k648bkf78ssx5xtbf8/T/ipykernel_8912/2006281729.py:106: FutureWarning: Passing a set as an indexer is deprecated and will raise in a future version. Use a list instead.\n",
      "  df_out_of_simple_returns = preproc.get_simple_returns_from_prices(df_out_of_sample[communal_assets]).dropna()\n",
      "/var/folders/9g/fkvk1rlx44s9k648bkf78ssx5xtbf8/T/ipykernel_8912/2006281729.py:112: FutureWarning: Passing a set as an indexer is deprecated and will raise in a future version. Use a list instead.\n",
      "  y_target = portfolio_utils.get_portfolio_returns(df_out_of_simple_returns[index_communal_assets], results_data['pca_normalized_weights'], is_log=False)\n",
      "/var/folders/9g/fkvk1rlx44s9k648bkf78ssx5xtbf8/T/ipykernel_8912/2006281729.py:106: FutureWarning: Passing a set as an indexer is deprecated and will raise in a future version. Use a list instead.\n",
      "  df_out_of_simple_returns = preproc.get_simple_returns_from_prices(df_out_of_sample[communal_assets]).dropna()\n"
     ]
    },
    {
     "name": "stdout",
     "output_type": "stream",
     "text": [
      "3/3 [==============================] - 0s 1ms/step\n",
      "3/3 [==============================] - 0s 1ms/step\n",
      "3/3 [==============================] - 0s 1ms/step\n",
      "2016-01\n"
     ]
    },
    {
     "name": "stderr",
     "output_type": "stream",
     "text": [
      "/var/folders/9g/fkvk1rlx44s9k648bkf78ssx5xtbf8/T/ipykernel_8912/2006281729.py:112: FutureWarning: Passing a set as an indexer is deprecated and will raise in a future version. Use a list instead.\n",
      "  y_target = portfolio_utils.get_portfolio_returns(df_out_of_simple_returns[index_communal_assets], results_data['pca_normalized_weights'], is_log=False)\n",
      "/var/folders/9g/fkvk1rlx44s9k648bkf78ssx5xtbf8/T/ipykernel_8912/2006281729.py:106: FutureWarning: Passing a set as an indexer is deprecated and will raise in a future version. Use a list instead.\n",
      "  df_out_of_simple_returns = preproc.get_simple_returns_from_prices(df_out_of_sample[communal_assets]).dropna()\n",
      "/var/folders/9g/fkvk1rlx44s9k648bkf78ssx5xtbf8/T/ipykernel_8912/2006281729.py:112: FutureWarning: Passing a set as an indexer is deprecated and will raise in a future version. Use a list instead.\n",
      "  y_target = portfolio_utils.get_portfolio_returns(df_out_of_simple_returns[index_communal_assets], results_data['pca_normalized_weights'], is_log=False)\n",
      "/var/folders/9g/fkvk1rlx44s9k648bkf78ssx5xtbf8/T/ipykernel_8912/2006281729.py:106: FutureWarning: Passing a set as an indexer is deprecated and will raise in a future version. Use a list instead.\n",
      "  df_out_of_simple_returns = preproc.get_simple_returns_from_prices(df_out_of_sample[communal_assets]).dropna()\n",
      "/var/folders/9g/fkvk1rlx44s9k648bkf78ssx5xtbf8/T/ipykernel_8912/2006281729.py:112: FutureWarning: Passing a set as an indexer is deprecated and will raise in a future version. Use a list instead.\n",
      "  y_target = portfolio_utils.get_portfolio_returns(df_out_of_simple_returns[index_communal_assets], results_data['pca_normalized_weights'], is_log=False)\n"
     ]
    },
    {
     "name": "stdout",
     "output_type": "stream",
     "text": [
      "7/7 [==============================] - 0s 975us/step\n",
      "7/7 [==============================] - 0s 935us/step\n",
      "7/7 [==============================] - 0s 899us/step\n",
      "7/7 [==============================] - 0s 963us/step\n",
      "7/7 [==============================] - 0s 905us/step\n",
      "7/7 [==============================] - 0s 919us/step\n",
      "3/3 [==============================] - 0s 1ms/step\n",
      "3/3 [==============================] - 0s 1ms/step\n",
      "1/3 [=========>....................] - ETA: 0s"
     ]
    },
    {
     "name": "stderr",
     "output_type": "stream",
     "text": [
      "/var/folders/9g/fkvk1rlx44s9k648bkf78ssx5xtbf8/T/ipykernel_8912/2006281729.py:106: FutureWarning: Passing a set as an indexer is deprecated and will raise in a future version. Use a list instead.\n",
      "  df_out_of_simple_returns = preproc.get_simple_returns_from_prices(df_out_of_sample[communal_assets]).dropna()\n",
      "/var/folders/9g/fkvk1rlx44s9k648bkf78ssx5xtbf8/T/ipykernel_8912/2006281729.py:112: FutureWarning: Passing a set as an indexer is deprecated and will raise in a future version. Use a list instead.\n",
      "  y_target = portfolio_utils.get_portfolio_returns(df_out_of_simple_returns[index_communal_assets], results_data['pca_normalized_weights'], is_log=False)\n",
      "/var/folders/9g/fkvk1rlx44s9k648bkf78ssx5xtbf8/T/ipykernel_8912/2006281729.py:106: FutureWarning: Passing a set as an indexer is deprecated and will raise in a future version. Use a list instead.\n",
      "  df_out_of_simple_returns = preproc.get_simple_returns_from_prices(df_out_of_sample[communal_assets]).dropna()\n",
      "/var/folders/9g/fkvk1rlx44s9k648bkf78ssx5xtbf8/T/ipykernel_8912/2006281729.py:112: FutureWarning: Passing a set as an indexer is deprecated and will raise in a future version. Use a list instead.\n",
      "  y_target = portfolio_utils.get_portfolio_returns(df_out_of_simple_returns[index_communal_assets], results_data['pca_normalized_weights'], is_log=False)\n",
      "/var/folders/9g/fkvk1rlx44s9k648bkf78ssx5xtbf8/T/ipykernel_8912/2006281729.py:106: FutureWarning: Passing a set as an indexer is deprecated and will raise in a future version. Use a list instead.\n",
      "  df_out_of_simple_returns = preproc.get_simple_returns_from_prices(df_out_of_sample[communal_assets]).dropna()\n"
     ]
    },
    {
     "name": "stdout",
     "output_type": "stream",
     "text": [
      "3/3 [==============================] - 0s 2ms/step\n",
      "3/3 [==============================] - 0s 1ms/step\n",
      "3/3 [==============================] - 0s 1ms/step\n"
     ]
    },
    {
     "name": "stderr",
     "output_type": "stream",
     "text": [
      "/var/folders/9g/fkvk1rlx44s9k648bkf78ssx5xtbf8/T/ipykernel_8912/2006281729.py:112: FutureWarning: Passing a set as an indexer is deprecated and will raise in a future version. Use a list instead.\n",
      "  y_target = portfolio_utils.get_portfolio_returns(df_out_of_simple_returns[index_communal_assets], results_data['pca_normalized_weights'], is_log=False)\n",
      "/var/folders/9g/fkvk1rlx44s9k648bkf78ssx5xtbf8/T/ipykernel_8912/2006281729.py:106: FutureWarning: Passing a set as an indexer is deprecated and will raise in a future version. Use a list instead.\n",
      "  df_out_of_simple_returns = preproc.get_simple_returns_from_prices(df_out_of_sample[communal_assets]).dropna()\n",
      "/var/folders/9g/fkvk1rlx44s9k648bkf78ssx5xtbf8/T/ipykernel_8912/2006281729.py:112: FutureWarning: Passing a set as an indexer is deprecated and will raise in a future version. Use a list instead.\n",
      "  y_target = portfolio_utils.get_portfolio_returns(df_out_of_simple_returns[index_communal_assets], results_data['pca_normalized_weights'], is_log=False)\n",
      "/var/folders/9g/fkvk1rlx44s9k648bkf78ssx5xtbf8/T/ipykernel_8912/2006281729.py:106: FutureWarning: Passing a set as an indexer is deprecated and will raise in a future version. Use a list instead.\n",
      "  df_out_of_simple_returns = preproc.get_simple_returns_from_prices(df_out_of_sample[communal_assets]).dropna()\n",
      "/var/folders/9g/fkvk1rlx44s9k648bkf78ssx5xtbf8/T/ipykernel_8912/2006281729.py:112: FutureWarning: Passing a set as an indexer is deprecated and will raise in a future version. Use a list instead.\n",
      "  y_target = portfolio_utils.get_portfolio_returns(df_out_of_simple_returns[index_communal_assets], results_data['pca_normalized_weights'], is_log=False)\n"
     ]
    }
   ],
   "source": [
    "#walk-forward\n",
    "#bottom_communal = [5,10,15,20,25]\n",
    "bottom_communal = [15] # pending to execute!\n",
    "# add regularizarion parameter! as grid, improvement could be using bayesian optmizer\n",
    "for bottom in bottom_communal:\n",
    "    print('bottom:',15)\n",
    "    iterations = {}\n",
    "    for _date, df in dataframes.items():\n",
    "        print(_date)\n",
    "        df_in_sample, df_out_sample = df.head(len(df)-93), df.tail((93))\n",
    "        one_iteration = flow_orchrestrator(df_in_sample, df_out_sample, folds = 2, \n",
    "                              risk_free_rate = 0.04,\n",
    "                              top_communal = 15,\n",
    "                              bottom_communal = bottom)\n",
    "        iterations[_date] = one_iteration\n",
    "        \n"
   ]
  },
  {
   "cell_type": "code",
   "execution_count": 55,
   "id": "70e1bf73",
   "metadata": {},
   "outputs": [
    {
     "data": {
      "text/plain": [
       "<AxesSubplot:ylabel='Frequency'>"
      ]
     },
     "execution_count": 55,
     "metadata": {},
     "output_type": "execute_result"
    },
    {
     "data": {
      "image/png": "[encoded data removed]",
      "text/plain": [
       "<Figure size 432x288 with 1 Axes>"
      ]
     },
     "metadata": {
      "needs_background": "light"
     },
     "output_type": "display_data"
    }
   ],
   "source": [
    "# first factor\n",
    "psr_diff = []\n",
    "for k,v in iterations.items():\n",
    "    psr_diff.append(v[14]['test_results']['TEST_PSR'] - v[14]['test_results']['TREST_PSR_REFERENCE'])\n",
    "\n",
    "pd.Series(psr_diff).plot.hist(label='Reasl: (PSR_pred - PSR_reference)', legend = True, bins = 15)\n",
    "\n"
   ]
  },
  {
   "cell_type": "code",
   "execution_count": 87,
   "id": "a0e08972",
   "metadata": {},
   "outputs": [
    {
     "data": {
      "text/plain": [
       "<AxesSubplot:ylabel='Frequency'>"
      ]
     },
     "execution_count": 87,
     "metadata": {},
     "output_type": "execute_result"
    },
    {
     "data": {
      "image/png": "[encoded data removed]",
      "text/plain": [
       "<Figure size 432x288 with 1 Axes>"
      ]
     },
     "metadata": {
      "needs_background": "light"
     },
     "output_type": "display_data"
    }
   ],
   "source": [
    "# second factor\n",
    "psr_diff = []\n",
    "for k,v in iterations.items():\n",
    "    psr_diff.append(v[13]['test_results']['TEST_PSR'] - v[13]['test_results']['TREST_PSR_REFERENCE'])\n",
    "\n",
    "pd.Series(psr_diff).plot.hist(label='PSR pred', legend = True, bins = 15)\n"
   ]
  },
  {
   "cell_type": "code",
   "execution_count": null,
   "id": "6b7a6dab",
   "metadata": {},
   "outputs": [],
   "source": []
  },
  {
   "cell_type": "markdown",
   "id": "bf150e1f",
   "metadata": {},
   "source": [
    "### Methods"
   ]
  },
  {
   "cell_type": "code",
   "execution_count": 1,
   "id": "07e9091a",
   "metadata": {},
   "outputs": [],
   "source": [
    "## portfolio calibration new version\n",
    "\n",
    "def non_linear_factors_calibration(train, y_log_train, y_log_train_amended, epochs = 250, l2_penalty = 0.01):\n",
    "    encoder_params = {'encoding_dim': int(train.shape[1]*0.95), #change this if changes a lot\n",
    "                      'optimizer':'sgd', \n",
    "                      'loss':'mean_squared_error',\n",
    "                      'l2_penalty': l2_penalty, \n",
    "                      'epochs': epochs, \n",
    "                      'batch_size': 150, \n",
    "                      'shuffle' : False,\n",
    "                      'scale_data': True,\n",
    "                      'hidden_layers_activation': 'tanh',# Columbia -> tanh with a batch normalization layer in sequence \n",
    "                      'output_activation': 'softmax',\n",
    "                      'batch_normalization': True,\n",
    "                      'verbose':0,\n",
    "                     'custom_loss_function' : ae_portfolio_cal.custom_matmult_rmse_loss}\n",
    "    \n",
    "    calibration_model = autoencoder_short_portfolio_calibration_fit(train, y_log_train_amended, encoder_params)\n",
    "    # predict\n",
    "    portfolio_log_returns_train_hat, weights = portfolio_returns_predict(train, calibration_model, return_log = True)\n",
    "    \n",
    "    _psr_train = sharpe_ratio_stats.probabilistic_sharpe_ratio(pd.Series(preproc.log_to_simple_returns(portfolio_log_returns_train_hat)))\n",
    "    _psr_reference = sharpe_ratio_stats.probabilistic_sharpe_ratio(pd.Series(preproc.log_to_simple_returns(y_log_train)))\n",
    "    \n",
    "    return calibration_model, {'portfolio_log_returns_pred':portfolio_log_returns_train_hat,\n",
    "                   'y_log_train': y_log_train.values,\n",
    "                   'y_log_ammended': y_log_train_amended.values,\n",
    "                  'weights': weights,\n",
    "                    'TRAIN_PSR_REFERENCE': _psr_reference,\n",
    "                    'TRAIN_PSR': _psr_train}\n",
    "\n",
    "\n",
    "\n",
    "def autoencoder_short_portfolio_calibration_fit(x, y_target, network_params):\n",
    "    \n",
    "    # input autoencoder params\n",
    "    encoding_dim = network_params['encoding_dim']\n",
    "    l2_penalty = network_params['l2_penalty']\n",
    "    optimizer =  network_params['optimizer']\n",
    "    loss = network_params['loss']\n",
    "    epochs = network_params['epochs']\n",
    "    batch_size = network_params['batch_size']\n",
    "    shuffle = network_params['shuffle'] \n",
    "    hidden_layers_activation = network_params['hidden_layers_activation']\n",
    "\n",
    "\n",
    "    input_tensor = Input(shape=(x.shape[1],))\n",
    "    encoded = Dense(encoding_dim, activation=hidden_layers_activation, kernel_regularizer=regularizers.l2(l2_penalty))(input_tensor)\n",
    "    decoded = Dense(x.shape[1], activation= 'tanh', kernel_regularizer=regularizers.l2(l2_penalty))(encoded)\n",
    "    return_ = Dense(1, activation= 'linear', kernel_regularizer=regularizers.l2(l2_penalty))(decoded)\n",
    "    \n",
    "    deep_learner = Model(input_tensor, return_)\n",
    "    deep_learner.compile(optimizer='sgd', loss='mean_squared_error')\n",
    "    \n",
    "    ss = StandardScaler()# Multi-layer Perceptron is sensitive to feature scaling, so it is highly recommended to scale your data\n",
    "    ss.fit(x)\n",
    "    x = ss.transform(x)\n",
    "    \n",
    "    deep_learner.fit(x, y_target, shuffle=shuffle, epochs=epochs, batch_size = batch_size)    # fit the model\n",
    "    return deep_learner\n",
    "\n",
    "\n",
    "\n",
    "def short_portfolio_predict(x, model):\n",
    "    weights = K.eval(model.layers[2].weights[1])\n",
    "    returns = x.apply(lambda row: np.dot(weights,  np.transpose(row)), axis = 1)\n",
    "    return np.array(returns), weights \n",
    "\n"
   ]
  },
  {
   "cell_type": "code",
   "execution_count": null,
   "id": "b358df03",
   "metadata": {},
   "outputs": [],
   "source": [
    "# other methods\n",
    "def plot_cummulative_returns(factor_iteration):\n",
    "    ((pd.Series(preproc.log_to_simple_returns(factor_iteration['train_results']['portfolio_log_returns_pred'])) + 1).cumprod() - 1).plot(label='predicted', legend = True)\n",
    "    ((pd.Series(preproc.log_to_simple_returns(factor_iteration['train_results']['y_log_ammended'])) + 1).cumprod() - 1).plot(label='Target', legend = True)\n",
    "    ((pd.Series(preproc.log_to_simple_returns(factor_iteration['train_results']['y_log_train'])) + 1).cumprod() -1).plot(label='Original', legend = True)\n",
    "\n",
    "# other methods\n",
    "def plot_cummulative_test_returns(factor_iteration):\n",
    "    ((pd.Series((factor_iteration['test_results']['y_predicted'].values)) + 1).cumprod() - 1).plot(label='predicted', legend = True)\n",
    "    ((pd.Series((factor_iteration['test_results']['y_target'].values)) + 1).cumprod() -1).plot(label='Original', legend = True)\n",
    "\n",
    "    \n",
    "def plot_linear_factors(factors):\n",
    "    for k,v in factors.items():\n",
    "        portfolio_utils.plot_portfolio_performance(\n",
    "            v['cumulative_returns'], \n",
    "            v['weights'], \n",
    "            df_train_index_stocks.columns, \n",
    "            'Portfolio with eVal {}'.format(v['eigen_value']))\n",
    "\n",
    "## experiment methods\n",
    "# PCA\n",
    "def get_linear_factors(train, denoise = False, plot_optimization = False):\n",
    "    eigen_portfolios = eg_functions.get_eigenvalues_and_eigenvectors(train, is_cov = False)\n",
    "    portfolios_cache = {}\n",
    "    i = 0\n",
    "    for eig_portfolio in eigen_portfolios:\n",
    "        cumulative_returns = portfolio_utils.get_cummulative_returns(train, eig_portfolio['normalized_weights'])\n",
    "        portfolios_cache[i] = {'normalized_weights':eig_portfolio['normalized_weights'] , \n",
    "                               'eigen_value': eig_portfolio['eigen_value'],\n",
    "                               'eigen_vector': eig_portfolio['eigen_vector'],\n",
    "                               'cumulative_returns': cumulative_returns}\n",
    "        i += 1\n",
    "    return portfolios_cache\n",
    "\n",
    "\n",
    "\n",
    "def non_linear_factors_mapping(train, epochs = 500, l2_penalty = 0.01):\n",
    "    # fit market representation\n",
    "    encoder_params = {'encoding_dim': 5,\n",
    "                      'optimizer':'sgd', \n",
    "                      'loss':'mean_squared_error',\n",
    "                      'l2_penalty': l2_penalty, \n",
    "                      'epochs': epochs, \n",
    "                      'batch_size': 100, \n",
    "                      'shuffle' : False,\n",
    "                      'scale_data': False,\n",
    "                      'hidden_layers_activation': 'tanh',# Columbia -> tanh with a batch normalization layer in sequence \n",
    "                      'output_activation': 'tanh',# Columbia -> tanh with a batch normalization layer in sequence -> after many tests, tanh is the best  \n",
    "                      'verbose':0,\n",
    "                      'batch_normalization': False}\n",
    "    model = ae_market.autoencoder_market_projection_fit(train, encoder_params)\n",
    "    # calculating most communal assets\n",
    "    communal_assets = ae_market.communal_information(train, model) # test or train??\n",
    "    #results\n",
    "    return model, communal_assets\n",
    "\n",
    "def selecting_tickers(df_returns, communal_assets, n_top = 15, n_bottom = 20):\n",
    "    index_associated_stocks = communal_assets.head(n_top)['ticker']\n",
    "    arbritage_stocks = communal_assets.tail(n_bottom)['ticker']\n",
    "    return df_returns[index_associated_stocks], df_returns[arbritage_stocks]\n",
    "\n",
    "\n",
    "\n",
    "def ammend_y_targets(df_portfolio, linear_factor_weights, rate_target = 0.01, ammend_shocks = False):\n",
    "    # return\n",
    "    y_log_train = portfolio_utils.get_portfolio_returns(df_portfolio, linear_factor_weights, is_log = True)\n",
    "    # ammend targets\n",
    "    if ammend_shocks:\n",
    "        y_log_ammended = preproc.set_target_returns_extreme_effects_by_percentile(y_log_train, .01, rate_target , 1)\n",
    "    else:\n",
    "        y_log_ammended = preproc.set_target_spreaded_rate(y_log_train, rate_target)\n",
    "    \n",
    "    return y_log_train, y_log_ammended\n",
    "    \n",
    "\n",
    "def out_of_sample_results(df_out_of_sample, communal_assets, index_communal_assets, results_data):\n",
    "    # process df\n",
    "    df_out_of_simple_returns = preproc.get_simple_returns_from_prices(df_out_of_sample[communal_assets]).dropna()\n",
    "    df_out_of_log_returns = preproc.simple_to_log_returns(df_out_of_simple_returns)\n",
    "    \n",
    "    portfolios_log_test_returns, _ = ae_portfolio_cal.portfolio_returns_predict(df_out_of_log_returns, results_data['calibration_model'], return_log = True)\n",
    "    portfolios_simple_test_returns = preproc.log_to_simple_returns(portfolios_log_test_returns)\n",
    "    \n",
    "    y_target = portfolio_utils.get_portfolio_returns(df_out_of_simple_returns[index_communal_assets], results_data['pca_normalized_weights'], is_log=False) \n",
    "        \n",
    "    # rmse \n",
    "    #portfolios_test_returns - y_target\n",
    "    # PSR\n",
    "    _psr = sharpe_ratio_stats.probabilistic_sharpe_ratio(pd.Series(portfolios_simple_test_returns))\n",
    "    _psr_reference = sharpe_ratio_stats.probabilistic_sharpe_ratio(pd.Series(y_target))\n",
    "    #Deflated_sharpe_value\n",
    "    \n",
    "    return {'y_target': y_target,\n",
    "            'y_predicted': portfolios_simple_test_returns,\n",
    "            'TEST_PSR': _psr,\n",
    "           'TREST_PSR_REFERENCE': _psr_reference}\n",
    "    "
   ]
  }
 ],
 "metadata": {
  "kernelspec": {
   "display_name": "Python 3 (ipykernel)",
   "language": "python",
   "name": "python3"
  },
  "language_info": {
   "codemirror_mode": {
    "name": "ipython",
    "version": 3
   },
   "file_extension": ".py",
   "mimetype": "text/x-python",
   "name": "python",
   "nbconvert_exporter": "python",
   "pygments_lexer": "ipython3",
   "version": "3.10.13"
  }
 },
 "nbformat": 4,
 "nbformat_minor": 5
}
