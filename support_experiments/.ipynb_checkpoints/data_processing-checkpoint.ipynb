{
 "cells": [
  {
   "cell_type": "code",
   "execution_count": 2,
   "id": "434dd1ab",
   "metadata": {},
   "outputs": [
    {
     "name": "stdout",
     "output_type": "stream",
     "text": [
      "The autoreload extension is already loaded. To reload it, use:\n",
      "  %reload_ext autoreload\n"
     ]
    }
   ],
   "source": [
    "import os\n",
    "import pandas as pd\n",
    "import numpy as np\n",
    "import datetime as dt\n",
    "\n",
    "\n",
    "import yfinance as yahooFinance\n",
    "\n",
    "import src.utils.data_utils as data_utils\n",
    "\n",
    "%load_ext autoreload\n",
    "%autoreload 2\n",
    "\n",
    "%matplotlib inline\n",
    "import matplotlib.pyplot as plt"
   ]
  },
  {
   "cell_type": "markdown",
   "id": "a91cf2ab",
   "metadata": {},
   "source": [
    "### 1. Download"
   ]
  },
  {
   "cell_type": "code",
   "execution_count": null,
   "id": "04c865b3",
   "metadata": {},
   "outputs": [],
   "source": [
    "# download\n",
    "#start, end = dt.datetime(2013,1, 15), dt.datetime(2023, 1, 15)\n",
    "start, end = \"2013-01-15\" , \"2023-01-20\"\n",
    "index_ticker ='^BVSP'\n",
    "tickers = [index_ticker,\"TAEE11.SA\", \"PETR4.SA\", \"BBDC4.SA\", \"BBAS3.SA\", \"GGBR4.SA\", \"ITSA4.SA\", \"VALE3.SA\", \"USIM5.SA\", \"B3SA3.SA\"]\n",
    "\n",
    "\n",
    "df_prices = data_utils.download_data(start, end, tickers)\n",
    "\n"
   ]
  },
  {
   "cell_type": "markdown",
   "id": "87db754d",
   "metadata": {},
   "source": [
    "### 2. save"
   ]
  },
  {
   "cell_type": "code",
   "execution_count": null,
   "id": "e63d85aa",
   "metadata": {},
   "outputs": [],
   "source": [
    "file_name = 'all_stock_prices.csv'\n",
    "df_prices.to_csv('./data/'+file_name)"
   ]
  },
  {
   "cell_type": "markdown",
   "id": "f6a069aa",
   "metadata": {},
   "source": [
    "### 3. generate monthly returns dataframe ..."
   ]
  },
  {
   "cell_type": "code",
   "execution_count": null,
   "id": "5f9df71c",
   "metadata": {},
   "outputs": [],
   "source": []
  }
 ],
 "metadata": {
  "kernelspec": {
   "display_name": "Python 3 (ipykernel)",
   "language": "python",
   "name": "python3"
  },
  "language_info": {
   "codemirror_mode": {
    "name": "ipython",
    "version": 3
   },
   "file_extension": ".py",
   "mimetype": "text/x-python",
   "name": "python",
   "nbconvert_exporter": "python",
   "pygments_lexer": "ipython3",
   "version": "3.9.7"
  }
 },
 "nbformat": 4,
 "nbformat_minor": 5
}
