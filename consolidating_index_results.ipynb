{
 "cells": [
  {
   "cell_type": "code",
   "execution_count": 121,
   "id": "fec93958",
   "metadata": {},
   "outputs": [],
   "source": [
    "import pandas as pd\n",
    "import datetime as dt\n",
    "import pickle\n",
    "import matplotlib.pyplot as plt\n",
    "\n",
    "import src.utils.returns_preprocessing as preproc\n",
    "import src.pca.eigen_portfolios_functions as eg_functions\n",
    "\n",
    "import os\n",
    "\n",
    "import logging\n",
    "logging.getLogger('tensorflow').disabled = True"
   ]
  },
  {
   "cell_type": "markdown",
   "id": "b68c813f",
   "metadata": {},
   "source": [
    "# 1. Main experiements results"
   ]
  },
  {
   "cell_type": "code",
   "execution_count": 123,
   "id": "6c159e6c",
   "metadata": {},
   "outputs": [],
   "source": [
    "result_index_files = []\n",
    "base_path = './results/results_to_work/'\n",
    "for filename in os.listdir(base_path):\n",
    "    if 'index' in filename:\n",
    "        result_index_files.append(base_path+filename)"
   ]
  },
  {
   "cell_type": "code",
   "execution_count": 124,
   "id": "8f3b502e",
   "metadata": {},
   "outputs": [
    {
     "data": {
      "text/plain": [
       "['./results/results_to_work/index_results_15.pickle',\n",
       " './results/results_to_work/index_results_25.pickle',\n",
       " './results/results_to_work/index_results_20.pickle',\n",
       " './results/results_to_work/index_results_10.pickle',\n",
       " './results/results_to_work/index_results_5.pickle']"
      ]
     },
     "execution_count": 124,
     "metadata": {},
     "output_type": "execute_result"
    }
   ],
   "source": [
    "result_index_files"
   ]
  },
  {
   "cell_type": "code",
   "execution_count": 3,
   "id": "bd00ad5e",
   "metadata": {},
   "outputs": [
    {
     "name": "stderr",
     "output_type": "stream",
     "text": [
      "2023-04-16 21:46:20.100740: I tensorflow/core/platform/cpu_feature_guard.cc:193] This TensorFlow binary is optimized with oneAPI Deep Neural Network Library (oneDNN) to use the following CPU instructions in performance-critical operations:  AVX2 FMA\n",
      "To enable them in other operations, rebuild TensorFlow with the appropriate compiler flags.\n",
      "2023-04-16 21:46:23.892663: I tensorflow/core/platform/cpu_feature_guard.cc:193] This TensorFlow binary is optimized with oneAPI Deep Neural Network Library (oneDNN) to use the following CPU instructions in performance-critical operations:  AVX2 FMA\n",
      "To enable them in other operations, rebuild TensorFlow with the appropriate compiler flags.\n"
     ]
    },
    {
     "name": "stdout",
     "output_type": "stream",
     "text": [
      "WARNING:tensorflow:No training configuration found in save file, so the model was *not* compiled. Compile it manually.\n",
      "WARNING:tensorflow:No training configuration found in save file, so the model was *not* compiled. Compile it manually.\n",
      "WARNING:tensorflow:No training configuration found in save file, so the model was *not* compiled. Compile it manually.\n",
      "WARNING:tensorflow:No training configuration found in save file, so the model was *not* compiled. Compile it manually.\n",
      "WARNING:tensorflow:No training configuration found in save file, so the model was *not* compiled. Compile it manually.\n",
      "WARNING:tensorflow:No training configuration found in save file, so the model was *not* compiled. Compile it manually.\n",
      "WARNING:tensorflow:No training configuration found in save file, so the model was *not* compiled. Compile it manually.\n",
      "WARNING:tensorflow:No training configuration found in save file, so the model was *not* compiled. Compile it manually.\n",
      "WARNING:tensorflow:No training configuration found in save file, so the model was *not* compiled. Compile it manually.\n",
      "WARNING:tensorflow:No training configuration found in save file, so the model was *not* compiled. Compile it manually.\n",
      "WARNING:tensorflow:No training configuration found in save file, so the model was *not* compiled. Compile it manually.\n",
      "WARNING:tensorflow:No training configuration found in save file, so the model was *not* compiled. Compile it manually.\n",
      "WARNING:tensorflow:No training configuration found in save file, so the model was *not* compiled. Compile it manually.\n",
      "WARNING:tensorflow:No training configuration found in save file, so the model was *not* compiled. Compile it manually.\n",
      "WARNING:tensorflow:No training configuration found in save file, so the model was *not* compiled. Compile it manually.\n",
      "WARNING:tensorflow:No training configuration found in save file, so the model was *not* compiled. Compile it manually.\n",
      "WARNING:tensorflow:No training configuration found in save file, so the model was *not* compiled. Compile it manually.\n",
      "WARNING:tensorflow:No training configuration found in save file, so the model was *not* compiled. Compile it manually.\n",
      "WARNING:tensorflow:No training configuration found in save file, so the model was *not* compiled. Compile it manually.\n",
      "WARNING:tensorflow:No training configuration found in save file, so the model was *not* compiled. Compile it manually.\n",
      "WARNING:tensorflow:No training configuration found in save file, so the model was *not* compiled. Compile it manually.\n",
      "WARNING:tensorflow:No training configuration found in save file, so the model was *not* compiled. Compile it manually.\n",
      "WARNING:tensorflow:No training configuration found in save file, so the model was *not* compiled. Compile it manually.\n",
      "WARNING:tensorflow:No training configuration found in save file, so the model was *not* compiled. Compile it manually.\n",
      "WARNING:tensorflow:No training configuration found in save file, so the model was *not* compiled. Compile it manually.\n",
      "WARNING:tensorflow:No training configuration found in save file, so the model was *not* compiled. Compile it manually.\n",
      "WARNING:tensorflow:No training configuration found in save file, so the model was *not* compiled. Compile it manually.\n",
      "WARNING:tensorflow:No training configuration found in save file, so the model was *not* compiled. Compile it manually.\n",
      "WARNING:tensorflow:No training configuration found in save file, so the model was *not* compiled. Compile it manually.\n",
      "WARNING:tensorflow:No training configuration found in save file, so the model was *not* compiled. Compile it manually.\n",
      "WARNING:tensorflow:No training configuration found in save file, so the model was *not* compiled. Compile it manually.\n",
      "WARNING:tensorflow:No training configuration found in save file, so the model was *not* compiled. Compile it manually.\n",
      "WARNING:tensorflow:No training configuration found in save file, so the model was *not* compiled. Compile it manually.\n",
      "WARNING:tensorflow:No training configuration found in save file, so the model was *not* compiled. Compile it manually.\n",
      "WARNING:tensorflow:No training configuration found in save file, so the model was *not* compiled. Compile it manually.\n",
      "WARNING:tensorflow:No training configuration found in save file, so the model was *not* compiled. Compile it manually.\n"
     ]
    }
   ],
   "source": [
    "with open('./results/results_to_work/index_results_10.pickle', 'rb') as infile:\n",
    "    index_results_10 =  pickle.load(infile)"
   ]
  },
  {
   "cell_type": "code",
   "execution_count": 28,
   "id": "09a8b865",
   "metadata": {},
   "outputs": [],
   "source": [
    "# indexes\n",
    "months = {'jan':'01', 'abr':'04','jul':'07', 'out':'10'}\n",
    "years = ['2013','2014','2015','2016','2017','2018','2019','2020','2021','2022','2023']\n",
    "\n",
    "keys_index = []\n",
    "for year in years:\n",
    "    for month in months.values():\n",
    "        keys_index.append(year+'-'+month)\n",
    "\n",
    "\n"
   ]
  },
  {
   "cell_type": "markdown",
   "id": "43484f0b",
   "metadata": {},
   "source": [
    "### 1. Plot PSR for test sets"
   ]
  },
  {
   "cell_type": "code",
   "execution_count": 75,
   "id": "86e4a575",
   "metadata": {},
   "outputs": [],
   "source": [
    "# 1. INDEX bottom 10\n",
    "\n",
    "# first factor\n",
    "psr_diff = []\n",
    "for k,v in index_results_10.items():\n",
    "    psr_diff.append(v['test_results']['TEST_PSR'] - v['test_results']['TREST_PSR_REFERENCE'])\n",
    "\n",
    "# temporal view\n",
    "temporal_psr = []\n",
    "for key in keys_index:\n",
    "    if key in index_results_10:\n",
    "        temporal_psr.append((key,index_results_10[key]['test_results']['TREST_PSR_REFERENCE'], index_results_10[key]['test_results']['TEST_PSR']))\n",
    "    else:\n",
    "        temporal_psr.append((key, 0, 0))\n",
    "temporal_psr = pd.DataFrame(temporal_psr, columns=['date', 'PSR_REFERENCE', 'PSR_PREDICTED'])\n",
    "temporal_psr['diff'] = temporal_psr['PSR_PREDICTED'] - temporal_psr['PSR_REFERENCE']\n",
    "temporal_psr.index = temporal_psr['date']\n"
   ]
  },
  {
   "cell_type": "code",
   "execution_count": 118,
   "id": "650654e5",
   "metadata": {},
   "outputs": [
    {
     "data": {
      "image/png": "[encoded data removed]",
      "text/plain": [
       "<Figure size 432x288 with 1 Axes>"
      ]
     },
     "metadata": {
      "needs_background": "light"
     },
     "output_type": "display_data"
    },
    {
     "data": {
      "text/plain": [
       "<AxesSubplot:xlabel='date'>"
      ]
     },
     "execution_count": 118,
     "metadata": {},
     "output_type": "execute_result"
    },
    {
     "data": {
      "image/png": "[encoded data removed]",
      "text/plain": [
       "<Figure size 432x288 with 1 Axes>"
      ]
     },
     "metadata": {
      "needs_background": "light"
     },
     "output_type": "display_data"
    }
   ],
   "source": [
    "# Graphs\n",
    "# plt.new figure\n",
    "plot_hist(pd.Series(psr_diff), label='Reasl: (PSR_pred - PSR_reference)', legend = True, bins = 15)\n",
    "# comparing PSR\n",
    "# plt.new figure\n",
    "#plot_multiple_bar([\n",
    "#    {'s':temporal_psr['PSR_REFERENCE'], 'kwargs':{'legend': True, 'label': \"PSR Reference\", 'alpha': 0.5, 'color': 'orange'}},\n",
    "#    {'s':temporal_psr['PSR_PREDICTED'], 'kwargs':{'legend': True, 'label': \"PSR Predicted\", 'alpha': 0.5}}\n",
    "#])\n",
    "temporal_psr['PSR_REFERENCE'].plot.bar(legend = True, label = \"PSR Reference\", alpha = 0.5, color = 'orange')\n",
    "temporal_psr['PSR_PREDICTED'].plot.bar(legend = True, label = \"PSR Predicted\", alpha = 0.5)\n",
    "\n",
    "# times where predicted was higher than reference\n",
    "# plot new figure\n",
    "\n"
   ]
  },
  {
   "cell_type": "code",
   "execution_count": 119,
   "id": "63ab6009",
   "metadata": {},
   "outputs": [
    {
     "data": {
      "image/png": "[encoded data removed]",
      "text/plain": [
       "<Figure size 432x288 with 1 Axes>"
      ]
     },
     "metadata": {
      "needs_background": "light"
     },
     "output_type": "display_data"
    }
   ],
   "source": [
    "plot_bar(temporal_psr['diff'])"
   ]
  },
  {
   "cell_type": "code",
   "execution_count": null,
   "id": "43c3e935",
   "metadata": {},
   "outputs": [],
   "source": []
  },
  {
   "cell_type": "code",
   "execution_count": null,
   "id": "b34ef2c9",
   "metadata": {},
   "outputs": [],
   "source": []
  },
  {
   "cell_type": "code",
   "execution_count": null,
   "id": "a13b64a9",
   "metadata": {},
   "outputs": [],
   "source": []
  },
  {
   "cell_type": "code",
   "execution_count": null,
   "id": "933f8f2b",
   "metadata": {},
   "outputs": [],
   "source": []
  },
  {
   "cell_type": "code",
   "execution_count": null,
   "id": "7d477f3b",
   "metadata": {},
   "outputs": [],
   "source": []
  },
  {
   "cell_type": "code",
   "execution_count": 115,
   "id": "ec15c1d1",
   "metadata": {},
   "outputs": [],
   "source": [
    "# other methods\n",
    "\n",
    "def plot(s, **kwargs):\n",
    "    s.plot(**kwargs)\n",
    "    plt.show()\n",
    "    \n",
    "def plot_hist(s, **kwargs):\n",
    "    s.plot.hist(**kwargs)\n",
    "    plt.show()\n",
    "    \n",
    "def plot_bar(s, **kwargs):\n",
    "    s.plot.bar(**kwargs)\n",
    "    plt.show()\n",
    "\n",
    "def plot_multiple_bar(bars):\n",
    "    for bar in bars: \n",
    "        bar['s'].plot.bar(**bars['kwargs']) ##kwargs are a problem\n",
    "    plt.show()\n",
    "\n",
    "###\n",
    "def plot_cummulative_returns(factor_iteration):\n",
    "    ((pd.Series(preproc.log_to_simple_returns(factor_iteration['train_results']['portfolio_log_returns_pred'])) + 1).cumprod() - 1).plot(label='predicted', legend = True)\n",
    "    ((pd.Series(preproc.log_to_simple_returns(factor_iteration['train_results']['y_log_ammended'])) + 1).cumprod() - 1).plot(label='Target', legend = True)\n",
    "    ((pd.Series(preproc.log_to_simple_returns(factor_iteration['train_results']['y_log_train'])) + 1).cumprod() -1).plot(label='Original', legend = True)\n",
    "    plt.show()\n",
    "    \n",
    "# other methods\n",
    "def plot_cummulative_test_returns(factor_iteration):\n",
    "    ((pd.Series((factor_iteration['test_results']['y_predicted'].values)) + 1).cumprod() - 1).plot(label='predicted', legend = True)\n",
    "    ((pd.Series((factor_iteration['test_results']['y_target'].values)) + 1).cumprod() -1).plot(label='Original', legend = True)\n",
    "    plt.show()"
   ]
  },
  {
   "cell_type": "code",
   "execution_count": null,
   "id": "73ba89cb",
   "metadata": {},
   "outputs": [],
   "source": []
  }
 ],
 "metadata": {
  "kernelspec": {
   "display_name": "Python 3 (ipykernel)",
   "language": "python",
   "name": "python3"
  },
  "language_info": {
   "codemirror_mode": {
    "name": "ipython",
    "version": 3
   },
   "file_extension": ".py",
   "mimetype": "text/x-python",
   "name": "python",
   "nbconvert_exporter": "python",
   "pygments_lexer": "ipython3",
   "version": "3.9.7"
  }
 },
 "nbformat": 4,
 "nbformat_minor": 5
}
