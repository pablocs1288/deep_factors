{
 "cells": [
  {
   "cell_type": "markdown",
   "id": "6c2ce5c1",
   "metadata": {},
   "source": [
    "# Experiment with ibovespa index\n",
    "\n",
    "\n",
    "**Data selection:**\n",
    "\n",
    "Each tested period = Each index composition from 10 years ago quarterly -> desenhos de essas janelas!\n",
    "Each fold = training period (252 days behind); Test period (93)\n",
    "\n",
    "The performance then is evaluated quarterly to avoid selection bias! Which was higly present on the studies following deepportfolios.\n",
    "\n",
    "\n",
    "**Steps:**\n",
    "\n",
    "1. Execute the market modeling step to somehow differenciate the stocks different from the market! -> First stage of non-linear projection\n",
    "3. Ammend the ibovespa returns as an arbritary way to explore for arbritage opportunities\n",
    "    3.1 mode one: Same as the article, arbritage opportunities in shocks! (negative correlation)\n",
    "    3.2 mode two: diluted returns! a modification from the original article\n",
    "4. Apply calibration step  for the ammended index return! and see if such factors are beaten somehow!\n",
    "    4.1 we might coin this new findings to a new non-linear factor capable of surpass in both modes\n",
    "5. Compare wether this methodology improves over the benchmark index\n",
    "\n",
    "\n",
    "\n",
    "**Initial observations**:\n",
    "\n",
    "1. When the factor is represented with positive and negative loads (long-short representation) the network lacks capabilities to deal with that, even posible negative correlated stocks are involved!\n",
    "2. Long portfolios are well represented, although results are pending to see if there was any imprvements\n",
    "3. The networks, in portfolio (calibration stage)\n",
    "4. From few sample observations, results are not as promising as the other studies considering the other studies fell in seelction bias for the indexes they tested, which could lead to overestimate returns!\n",
    "\n",
    "\n",
    "\n",
    "**COnsiderations:**\n",
    "\n",
    "1. Experiments with index ongoing! to test selection bias in index\n",
    "\n",
    "**Doubts:**\n",
    "\n",
    "1. Autoencodeers from a financial point of view, represent more component besides the trend, seasonal, and so on?\n",
    "\n",
    "\n",
    "Boa referencia de autoencoder y un párrafo para evitar describir autoencoders! seguine autoencoder siguiendo las mejores p'racticas\n"
   ]
  },
  {
   "cell_type": "code",
   "execution_count": 1,
   "id": "6c3873ce",
   "metadata": {},
   "outputs": [
    {
     "name": "stderr",
     "output_type": "stream",
     "text": [
      "2023-04-13 21:40:19.422324: I tensorflow/core/platform/cpu_feature_guard.cc:193] This TensorFlow binary is optimized with oneAPI Deep Neural Network Library (oneDNN) to use the following CPU instructions in performance-critical operations:  AVX2 FMA\n",
      "To enable them in other operations, rebuild TensorFlow with the appropriate compiler flags.\n"
     ]
    }
   ],
   "source": [
    "import copy\n",
    "import datetime\n",
    "import os\n",
    "\n",
    "import pandas as pd\n",
    "import numpy as np\n",
    " \n",
    "import src.utils.returns_preprocessing as preproc\n",
    "import src.pca.eigen_portfolios_functions as eg_functions\n",
    "\n",
    "import src.autoencoders.autoencoder_market_projection as ae_market\n",
    "import src.autoencoders.autoencoder_portfolio_calibration as ae_portfolio_cal\n",
    "\n",
    "import src.utils.portfolio_utils as portfolio_utils\n",
    "import src.pca.rmf_filtering as rmf_filter\n",
    "\n",
    "import src.metrics.sharpe_ratio_stats as sharpe_ratio_stats\n",
    "\n",
    "import logging\n",
    "logging.getLogger('tensorflow').disabled = True\n",
    "\n",
    "\n",
    "%load_ext autoreload\n",
    "%autoreload 2"
   ]
  },
  {
   "cell_type": "markdown",
   "id": "2e074e2d",
   "metadata": {},
   "source": [
    "## Reading the data\n",
    "\n",
    "in this stage, I must collect other actions!!"
   ]
  },
  {
   "cell_type": "code",
   "execution_count": 2,
   "id": "fdb7e034",
   "metadata": {},
   "outputs": [],
   "source": [
    "# load from persisted data\n",
    "index_ticker = '^BVSP'\n",
    "# Transforming all pdf index to csv\n",
    "base_path = './data/ibov_comp_10_anos/prices_v2/'\n",
    "\n",
    "quarter_ibovespa_datasets, quarter_index = [], []\n",
    "for filename in os.listdir(base_path):\n",
    "    # check if the filename is a file (not a directory)\n",
    "    if os.path.isfile(os.path.join(base_path, filename)):\n",
    "        if '_ibov.csv' in filename:\n",
    "            quarter_ibovespa_datasets.append(filename)\n",
    "  "
   ]
  },
  {
   "cell_type": "code",
   "execution_count": 3,
   "id": "a9f801a1",
   "metadata": {},
   "outputs": [],
   "source": [
    "# test\n",
    "def removing_nan_stocks(df_prices, null_treshold_head = 0.05):\n",
    "    df_prices_ = df_prices.copy()\n",
    "    treshold = int(df_prices.shape[0]*null_treshold_head)\n",
    "    # removing older null nan\n",
    "    for col in df_prices.columns:\n",
    "        if df_prices[col].head(treshold).isnull().sum() >= treshold:\n",
    "            df_prices_ = df_prices_.drop(col, axis = 1)\n",
    "    # starting dataseet from where there are not null values\n",
    "    df_prices_ = df_prices_[df_prices_.isnull().sum().max():]\n",
    "    return df_prices_\n",
    "\n",
    "\n",
    "month = {'jan':'01', 'abr':'04','jul':'07', 'out':'10'}\n",
    "perce_not_nan = 0.75\n",
    "\n",
    "dataframes,non_considered_dataframes = {},{}\n",
    "for file_name in quarter_ibovespa_datasets:\n",
    "    df_prices = pd.read_csv('./data/ibov_comp_10_anos/prices_v2/'+file_name)\n",
    "    num_tickers = len(df_prices.columns)\n",
    "    # removing nan\n",
    "    _date = file_name[14:18] +'-' +month[file_name[10:13]]\n",
    "    df_prices = removing_nan_stocks(df_prices, null_treshold_head = 0.12)\n",
    "    # filtering fold with enough data\n",
    "    perc_non_empty_stocks = len(df_prices.columns) / num_tickers\n",
    "    if perc_non_empty_stocks >= perce_not_nan:\n",
    "        dataframes[_date] = df_prices\n",
    "    else:\n",
    "        non_considered_dataframes[_date] = perc_non_empty_stocks\n",
    "\n",
    "    \n",
    "#v1\n",
    "#_date = file_name[11:15] +'-' +month[file_name[7:10]]\n",
    "#df_index = pd.read_csv('./data/ibov_comp_10_anos/prices/indexibovespa_'+_date+'.csv')\n",
    "#df_prices = df_prices.join(df_index)\n",
    "    \n"
   ]
  },
  {
   "cell_type": "markdown",
   "id": "54c431cf",
   "metadata": {},
   "source": [
    "-----------------------------------------|------------------------------ \n",
    "Training set:             Date: INdex Quarterly calibration     test"
   ]
  },
  {
   "cell_type": "markdown",
   "id": "0ed50876",
   "metadata": {},
   "source": [
    "### Orchestrator! ....."
   ]
  },
  {
   "cell_type": "code",
   "execution_count": 4,
   "id": "1b8f7d27",
   "metadata": {},
   "outputs": [],
   "source": [
    "#set for invoking each dataframe! pending implement defkated sharpe value!\n",
    "\n",
    "index_ticker = '^BVSP'\n",
    "def flow_orchrestrator(df_in_sample, \n",
    "                       df_out_of_sample, \n",
    "                       folds = 2, \n",
    "                      risk_free_rate = 0.04,\n",
    "                      top_communal = 15,\n",
    "                      bottom_communal = 20):\n",
    "\n",
    "\n",
    "    # training\n",
    "    df_in_simple_returns = preproc.get_simple_returns_from_prices(df_in_sample).dropna()\n",
    "    df_in_log_returns = preproc.simple_to_log_returns(df_in_simple_returns)\n",
    "    df_in_log_returns_without_index = df_in_log_returns.drop(index_ticker, axis = 1)\n",
    "    \n",
    "    y_log = df_in_log_returns[index_ticker]\n",
    "    \n",
    "    #def train_orchestrator():\n",
    "    # 1. market modeling factors -- Tune network parameters -> tanh is the best activation layer, other experiments with other activation fucntions were done, but were not \n",
    "    model, communal_assets = non_linear_factors_mapping(df_in_log_returns_without_index, epochs = 500)\n",
    "    df_log_train_index_stocks, df_log_train_arbritage_stocks = selecting_tickers(df_in_log_returns_without_index, communal_assets, top_communal, bottom_communal)\n",
    "    selected_communal_assets = set(df_log_train_index_stocks.columns).union(set(df_log_train_arbritage_stocks.columns))\n",
    "\n",
    "    # 2. calibration stage - for each factor\n",
    "    #factors_to_test = filtered_linear_factors[14]['weights']\n",
    "    y_log_ammended = ammend_y_targets(y_log, rate_target = 0.01, ammend_shocks = True)\n",
    "    train = df_log_train_index_stocks.join(df_log_train_arbritage_stocks)\n",
    "    # train\n",
    "    calibration_model, train_results = non_linear_factors_calibration(train, y_log, y_log_ammended)\n",
    "    \n",
    "    # calculate out of samples results\n",
    "    test_results = out_of_sample_results(df_out_of_sample, calibration_model, selected_communal_assets, set(df_log_train_index_stocks.columns)) # which one would be the reference Y\n",
    "     \n",
    "    return {'calibration_model': calibration_model, \n",
    "            'train_results': train_results,\n",
    "            'communal_assets': selected_communal_assets,\n",
    "            'test_results': test_results}\n"
   ]
  },
  {
   "cell_type": "code",
   "execution_count": 8,
   "id": "9712fdef",
   "metadata": {},
   "outputs": [
    {
     "name": "stdout",
     "output_type": "stream",
     "text": [
      "2018-07\n",
      "7/7 [==============================] - 0s 1ms/step\n",
      "7/7 [==============================] - 0s 950us/step\n",
      "3/3 [==============================] - 0s 1ms/step\n",
      "2019-07\n"
     ]
    },
    {
     "name": "stderr",
     "output_type": "stream",
     "text": [
      "/var/folders/9g/fkvk1rlx44s9k648bkf78ssx5xtbf8/T/ipykernel_36378/481835537.py:79: FutureWarning: Passing a set as an indexer is deprecated and will raise in a future version. Use a list instead.\n",
      "  df_out_of_simple_returns = preproc.get_simple_returns_from_prices(df_out_of_sample[communal_assets]).dropna()\n"
     ]
    },
    {
     "name": "stdout",
     "output_type": "stream",
     "text": [
      "7/7 [==============================] - 0s 1ms/step\n",
      "7/7 [==============================] - 0s 895us/step\n",
      "3/3 [==============================] - 0s 1ms/step\n",
      "2019-01\n"
     ]
    },
    {
     "name": "stderr",
     "output_type": "stream",
     "text": [
      "/var/folders/9g/fkvk1rlx44s9k648bkf78ssx5xtbf8/T/ipykernel_36378/481835537.py:79: FutureWarning: Passing a set as an indexer is deprecated and will raise in a future version. Use a list instead.\n",
      "  df_out_of_simple_returns = preproc.get_simple_returns_from_prices(df_out_of_sample[communal_assets]).dropna()\n"
     ]
    },
    {
     "name": "stdout",
     "output_type": "stream",
     "text": [
      "7/7 [==============================] - 0s 942us/step\n",
      "7/7 [==============================] - 0s 933us/step\n",
      "3/3 [==============================] - 0s 1ms/step\n",
      "2018-01\n"
     ]
    },
    {
     "name": "stderr",
     "output_type": "stream",
     "text": [
      "/var/folders/9g/fkvk1rlx44s9k648bkf78ssx5xtbf8/T/ipykernel_36378/481835537.py:79: FutureWarning: Passing a set as an indexer is deprecated and will raise in a future version. Use a list instead.\n",
      "  df_out_of_simple_returns = preproc.get_simple_returns_from_prices(df_out_of_sample[communal_assets]).dropna()\n"
     ]
    },
    {
     "name": "stdout",
     "output_type": "stream",
     "text": [
      "7/7 [==============================] - 0s 922us/step\n",
      "7/7 [==============================] - 0s 982us/step\n",
      "3/3 [==============================] - 0s 1ms/step\n",
      "2015-01\n"
     ]
    },
    {
     "name": "stderr",
     "output_type": "stream",
     "text": [
      "/var/folders/9g/fkvk1rlx44s9k648bkf78ssx5xtbf8/T/ipykernel_36378/481835537.py:79: FutureWarning: Passing a set as an indexer is deprecated and will raise in a future version. Use a list instead.\n",
      "  df_out_of_simple_returns = preproc.get_simple_returns_from_prices(df_out_of_sample[communal_assets]).dropna()\n"
     ]
    },
    {
     "name": "stdout",
     "output_type": "stream",
     "text": [
      "7/7 [==============================] - 0s 956us/step\n",
      "7/7 [==============================] - 0s 905us/step\n",
      "3/3 [==============================] - 0s 1ms/step\n",
      "2020-01\n"
     ]
    },
    {
     "name": "stderr",
     "output_type": "stream",
     "text": [
      "/var/folders/9g/fkvk1rlx44s9k648bkf78ssx5xtbf8/T/ipykernel_36378/481835537.py:79: FutureWarning: Passing a set as an indexer is deprecated and will raise in a future version. Use a list instead.\n",
      "  df_out_of_simple_returns = preproc.get_simple_returns_from_prices(df_out_of_sample[communal_assets]).dropna()\n"
     ]
    },
    {
     "name": "stdout",
     "output_type": "stream",
     "text": [
      "7/7 [==============================] - 0s 980us/step\n",
      "7/7 [==============================] - 0s 887us/step\n",
      "3/3 [==============================] - 0s 1ms/step\n",
      "2021-01\n"
     ]
    },
    {
     "name": "stderr",
     "output_type": "stream",
     "text": [
      "/var/folders/9g/fkvk1rlx44s9k648bkf78ssx5xtbf8/T/ipykernel_36378/481835537.py:79: FutureWarning: Passing a set as an indexer is deprecated and will raise in a future version. Use a list instead.\n",
      "  df_out_of_simple_returns = preproc.get_simple_returns_from_prices(df_out_of_sample[communal_assets]).dropna()\n"
     ]
    },
    {
     "name": "stdout",
     "output_type": "stream",
     "text": [
      "7/7 [==============================] - 0s 915us/step\n",
      "7/7 [==============================] - 0s 961us/step\n",
      "3/3 [==============================] - 0s 1ms/step\n",
      "2022-10\n"
     ]
    },
    {
     "name": "stderr",
     "output_type": "stream",
     "text": [
      "/var/folders/9g/fkvk1rlx44s9k648bkf78ssx5xtbf8/T/ipykernel_36378/481835537.py:79: FutureWarning: Passing a set as an indexer is deprecated and will raise in a future version. Use a list instead.\n",
      "  df_out_of_simple_returns = preproc.get_simple_returns_from_prices(df_out_of_sample[communal_assets]).dropna()\n"
     ]
    },
    {
     "name": "stdout",
     "output_type": "stream",
     "text": [
      "6/6 [==============================] - 0s 1ms/step\n",
      "6/6 [==============================] - 0s 1ms/step\n",
      "3/3 [==============================] - 0s 1ms/step\n",
      "2015-07\n"
     ]
    },
    {
     "name": "stderr",
     "output_type": "stream",
     "text": [
      "/var/folders/9g/fkvk1rlx44s9k648bkf78ssx5xtbf8/T/ipykernel_36378/481835537.py:79: FutureWarning: Passing a set as an indexer is deprecated and will raise in a future version. Use a list instead.\n",
      "  df_out_of_simple_returns = preproc.get_simple_returns_from_prices(df_out_of_sample[communal_assets]).dropna()\n"
     ]
    },
    {
     "name": "stdout",
     "output_type": "stream",
     "text": [
      "7/7 [==============================] - 0s 899us/step\n",
      "7/7 [==============================] - 0s 926us/step\n",
      "3/3 [==============================] - 0s 1ms/step\n",
      "2014-07\n"
     ]
    },
    {
     "name": "stderr",
     "output_type": "stream",
     "text": [
      "/var/folders/9g/fkvk1rlx44s9k648bkf78ssx5xtbf8/T/ipykernel_36378/481835537.py:79: FutureWarning: Passing a set as an indexer is deprecated and will raise in a future version. Use a list instead.\n",
      "  df_out_of_simple_returns = preproc.get_simple_returns_from_prices(df_out_of_sample[communal_assets]).dropna()\n"
     ]
    },
    {
     "name": "stdout",
     "output_type": "stream",
     "text": [
      "7/7 [==============================] - 0s 975us/step\n",
      "7/7 [==============================] - 0s 880us/step\n",
      "3/3 [==============================] - 0s 1ms/step\n",
      "2017-04\n"
     ]
    },
    {
     "name": "stderr",
     "output_type": "stream",
     "text": [
      "/var/folders/9g/fkvk1rlx44s9k648bkf78ssx5xtbf8/T/ipykernel_36378/481835537.py:79: FutureWarning: Passing a set as an indexer is deprecated and will raise in a future version. Use a list instead.\n",
      "  df_out_of_simple_returns = preproc.get_simple_returns_from_prices(df_out_of_sample[communal_assets]).dropna()\n"
     ]
    },
    {
     "name": "stdout",
     "output_type": "stream",
     "text": [
      "7/7 [==============================] - 0s 910us/step\n",
      "7/7 [==============================] - 0s 962us/step\n",
      "3/3 [==============================] - 0s 1ms/step\n",
      "2016-04\n"
     ]
    },
    {
     "name": "stderr",
     "output_type": "stream",
     "text": [
      "/var/folders/9g/fkvk1rlx44s9k648bkf78ssx5xtbf8/T/ipykernel_36378/481835537.py:79: FutureWarning: Passing a set as an indexer is deprecated and will raise in a future version. Use a list instead.\n",
      "  df_out_of_simple_returns = preproc.get_simple_returns_from_prices(df_out_of_sample[communal_assets]).dropna()\n"
     ]
    },
    {
     "name": "stdout",
     "output_type": "stream",
     "text": [
      "7/7 [==============================] - 0s 1ms/step\n",
      "7/7 [==============================] - 0s 910us/step\n",
      "3/3 [==============================] - 0s 1ms/step\n",
      "2023-04\n"
     ]
    },
    {
     "name": "stderr",
     "output_type": "stream",
     "text": [
      "/var/folders/9g/fkvk1rlx44s9k648bkf78ssx5xtbf8/T/ipykernel_36378/481835537.py:79: FutureWarning: Passing a set as an indexer is deprecated and will raise in a future version. Use a list instead.\n",
      "  df_out_of_simple_returns = preproc.get_simple_returns_from_prices(df_out_of_sample[communal_assets]).dropna()\n"
     ]
    },
    {
     "name": "stdout",
     "output_type": "stream",
     "text": [
      "5/5 [==============================] - 0s 936us/step\n",
      "5/5 [==============================] - 0s 982us/step\n",
      "3/3 [==============================] - 0s 1ms/step\n",
      "2021-07\n"
     ]
    },
    {
     "name": "stderr",
     "output_type": "stream",
     "text": [
      "/var/folders/9g/fkvk1rlx44s9k648bkf78ssx5xtbf8/T/ipykernel_36378/481835537.py:79: FutureWarning: Passing a set as an indexer is deprecated and will raise in a future version. Use a list instead.\n",
      "  df_out_of_simple_returns = preproc.get_simple_returns_from_prices(df_out_of_sample[communal_assets]).dropna()\n"
     ]
    },
    {
     "name": "stdout",
     "output_type": "stream",
     "text": [
      "7/7 [==============================] - 0s 948us/step\n",
      "7/7 [==============================] - 0s 908us/step\n",
      "3/3 [==============================] - 0s 1ms/step\n",
      "2020-07\n"
     ]
    },
    {
     "name": "stderr",
     "output_type": "stream",
     "text": [
      "/var/folders/9g/fkvk1rlx44s9k648bkf78ssx5xtbf8/T/ipykernel_36378/481835537.py:79: FutureWarning: Passing a set as an indexer is deprecated and will raise in a future version. Use a list instead.\n",
      "  df_out_of_simple_returns = preproc.get_simple_returns_from_prices(df_out_of_sample[communal_assets]).dropna()\n"
     ]
    },
    {
     "name": "stdout",
     "output_type": "stream",
     "text": [
      "7/7 [==============================] - 0s 954us/step\n",
      "7/7 [==============================] - 0s 1ms/step\n",
      "3/3 [==============================] - 0s 1ms/step\n",
      "2016-10\n"
     ]
    },
    {
     "name": "stderr",
     "output_type": "stream",
     "text": [
      "/var/folders/9g/fkvk1rlx44s9k648bkf78ssx5xtbf8/T/ipykernel_36378/481835537.py:79: FutureWarning: Passing a set as an indexer is deprecated and will raise in a future version. Use a list instead.\n",
      "  df_out_of_simple_returns = preproc.get_simple_returns_from_prices(df_out_of_sample[communal_assets]).dropna()\n"
     ]
    },
    {
     "name": "stdout",
     "output_type": "stream",
     "text": [
      "7/7 [==============================] - 0s 905us/step\n",
      "7/7 [==============================] - 0s 1ms/step\n",
      "3/3 [==============================] - 0s 2ms/step\n",
      "2017-10\n"
     ]
    },
    {
     "name": "stderr",
     "output_type": "stream",
     "text": [
      "/var/folders/9g/fkvk1rlx44s9k648bkf78ssx5xtbf8/T/ipykernel_36378/481835537.py:79: FutureWarning: Passing a set as an indexer is deprecated and will raise in a future version. Use a list instead.\n",
      "  df_out_of_simple_returns = preproc.get_simple_returns_from_prices(df_out_of_sample[communal_assets]).dropna()\n"
     ]
    },
    {
     "name": "stdout",
     "output_type": "stream",
     "text": [
      "7/7 [==============================] - 0s 1ms/step\n",
      "7/7 [==============================] - 0s 881us/step\n",
      "3/3 [==============================] - 0s 1ms/step\n",
      "2019-04\n"
     ]
    },
    {
     "name": "stderr",
     "output_type": "stream",
     "text": [
      "/var/folders/9g/fkvk1rlx44s9k648bkf78ssx5xtbf8/T/ipykernel_36378/481835537.py:79: FutureWarning: Passing a set as an indexer is deprecated and will raise in a future version. Use a list instead.\n",
      "  df_out_of_simple_returns = preproc.get_simple_returns_from_prices(df_out_of_sample[communal_assets]).dropna()\n"
     ]
    },
    {
     "name": "stdout",
     "output_type": "stream",
     "text": [
      "7/7 [==============================] - 0s 928us/step\n",
      "7/7 [==============================] - 0s 897us/step\n",
      "3/3 [==============================] - 0s 2ms/step\n",
      "2018-04\n"
     ]
    },
    {
     "name": "stderr",
     "output_type": "stream",
     "text": [
      "/var/folders/9g/fkvk1rlx44s9k648bkf78ssx5xtbf8/T/ipykernel_36378/481835537.py:79: FutureWarning: Passing a set as an indexer is deprecated and will raise in a future version. Use a list instead.\n",
      "  df_out_of_simple_returns = preproc.get_simple_returns_from_prices(df_out_of_sample[communal_assets]).dropna()\n"
     ]
    },
    {
     "name": "stdout",
     "output_type": "stream",
     "text": [
      "7/7 [==============================] - 0s 825us/step\n",
      "7/7 [==============================] - 0s 916us/step\n",
      "3/3 [==============================] - 0s 1ms/step\n",
      "2018-10\n"
     ]
    },
    {
     "name": "stderr",
     "output_type": "stream",
     "text": [
      "/var/folders/9g/fkvk1rlx44s9k648bkf78ssx5xtbf8/T/ipykernel_36378/481835537.py:79: FutureWarning: Passing a set as an indexer is deprecated and will raise in a future version. Use a list instead.\n",
      "  df_out_of_simple_returns = preproc.get_simple_returns_from_prices(df_out_of_sample[communal_assets]).dropna()\n"
     ]
    },
    {
     "name": "stdout",
     "output_type": "stream",
     "text": [
      "7/7 [==============================] - 0s 1ms/step\n",
      "7/7 [==============================] - 0s 989us/step\n",
      "3/3 [==============================] - 0s 1ms/step\n",
      "2019-10\n"
     ]
    },
    {
     "name": "stderr",
     "output_type": "stream",
     "text": [
      "/var/folders/9g/fkvk1rlx44s9k648bkf78ssx5xtbf8/T/ipykernel_36378/481835537.py:79: FutureWarning: Passing a set as an indexer is deprecated and will raise in a future version. Use a list instead.\n",
      "  df_out_of_simple_returns = preproc.get_simple_returns_from_prices(df_out_of_sample[communal_assets]).dropna()\n"
     ]
    },
    {
     "name": "stdout",
     "output_type": "stream",
     "text": [
      "7/7 [==============================] - 0s 867us/step\n",
      "7/7 [==============================] - 0s 838us/step\n",
      "3/3 [==============================] - 0s 1ms/step\n",
      "2020-04\n"
     ]
    },
    {
     "name": "stderr",
     "output_type": "stream",
     "text": [
      "/var/folders/9g/fkvk1rlx44s9k648bkf78ssx5xtbf8/T/ipykernel_36378/481835537.py:79: FutureWarning: Passing a set as an indexer is deprecated and will raise in a future version. Use a list instead.\n",
      "  df_out_of_simple_returns = preproc.get_simple_returns_from_prices(df_out_of_sample[communal_assets]).dropna()\n"
     ]
    },
    {
     "name": "stdout",
     "output_type": "stream",
     "text": [
      "7/7 [==============================] - 0s 908us/step\n",
      "7/7 [==============================] - 0s 854us/step\n",
      "3/3 [==============================] - 0s 2ms/step\n",
      "2021-04\n"
     ]
    },
    {
     "name": "stderr",
     "output_type": "stream",
     "text": [
      "/var/folders/9g/fkvk1rlx44s9k648bkf78ssx5xtbf8/T/ipykernel_36378/481835537.py:79: FutureWarning: Passing a set as an indexer is deprecated and will raise in a future version. Use a list instead.\n",
      "  df_out_of_simple_returns = preproc.get_simple_returns_from_prices(df_out_of_sample[communal_assets]).dropna()\n"
     ]
    },
    {
     "name": "stdout",
     "output_type": "stream",
     "text": [
      "7/7 [==============================] - 0s 1ms/step\n",
      "7/7 [==============================] - 0s 816us/step\n",
      "3/3 [==============================] - 0s 1ms/step\n",
      "2022-07\n"
     ]
    },
    {
     "name": "stderr",
     "output_type": "stream",
     "text": [
      "/var/folders/9g/fkvk1rlx44s9k648bkf78ssx5xtbf8/T/ipykernel_36378/481835537.py:79: FutureWarning: Passing a set as an indexer is deprecated and will raise in a future version. Use a list instead.\n",
      "  df_out_of_simple_returns = preproc.get_simple_returns_from_prices(df_out_of_sample[communal_assets]).dropna()\n"
     ]
    },
    {
     "name": "stdout",
     "output_type": "stream",
     "text": [
      "7/7 [==============================] - 0s 1ms/step\n",
      "7/7 [==============================] - 0s 865us/step\n",
      "3/3 [==============================] - 0s 1ms/step\n",
      "2015-10\n"
     ]
    },
    {
     "name": "stderr",
     "output_type": "stream",
     "text": [
      "/var/folders/9g/fkvk1rlx44s9k648bkf78ssx5xtbf8/T/ipykernel_36378/481835537.py:79: FutureWarning: Passing a set as an indexer is deprecated and will raise in a future version. Use a list instead.\n",
      "  df_out_of_simple_returns = preproc.get_simple_returns_from_prices(df_out_of_sample[communal_assets]).dropna()\n"
     ]
    },
    {
     "name": "stdout",
     "output_type": "stream",
     "text": [
      "7/7 [==============================] - 0s 920us/step\n",
      "7/7 [==============================] - 0s 908us/step\n",
      "3/3 [==============================] - 0s 1ms/step\n",
      "2014-10\n"
     ]
    },
    {
     "name": "stderr",
     "output_type": "stream",
     "text": [
      "/var/folders/9g/fkvk1rlx44s9k648bkf78ssx5xtbf8/T/ipykernel_36378/481835537.py:79: FutureWarning: Passing a set as an indexer is deprecated and will raise in a future version. Use a list instead.\n",
      "  df_out_of_simple_returns = preproc.get_simple_returns_from_prices(df_out_of_sample[communal_assets]).dropna()\n"
     ]
    },
    {
     "name": "stdout",
     "output_type": "stream",
     "text": [
      "7/7 [==============================] - 0s 877us/step\n",
      "7/7 [==============================] - 0s 933us/step\n",
      "3/3 [==============================] - 0s 1ms/step\n",
      "2021-10\n"
     ]
    },
    {
     "name": "stderr",
     "output_type": "stream",
     "text": [
      "/var/folders/9g/fkvk1rlx44s9k648bkf78ssx5xtbf8/T/ipykernel_36378/481835537.py:79: FutureWarning: Passing a set as an indexer is deprecated and will raise in a future version. Use a list instead.\n",
      "  df_out_of_simple_returns = preproc.get_simple_returns_from_prices(df_out_of_sample[communal_assets]).dropna()\n"
     ]
    },
    {
     "name": "stdout",
     "output_type": "stream",
     "text": [
      "6/6 [==============================] - 0s 914us/step\n",
      "6/6 [==============================] - 0s 877us/step\n",
      "3/3 [==============================] - 0s 1ms/step\n",
      "2020-10\n"
     ]
    },
    {
     "name": "stderr",
     "output_type": "stream",
     "text": [
      "/var/folders/9g/fkvk1rlx44s9k648bkf78ssx5xtbf8/T/ipykernel_36378/481835537.py:79: FutureWarning: Passing a set as an indexer is deprecated and will raise in a future version. Use a list instead.\n",
      "  df_out_of_simple_returns = preproc.get_simple_returns_from_prices(df_out_of_sample[communal_assets]).dropna()\n"
     ]
    },
    {
     "name": "stdout",
     "output_type": "stream",
     "text": [
      "7/7 [==============================] - 0s 906us/step\n",
      "7/7 [==============================] - 0s 852us/step\n",
      "3/3 [==============================] - 0s 1ms/step\n",
      "2016-07\n"
     ]
    },
    {
     "name": "stderr",
     "output_type": "stream",
     "text": [
      "/var/folders/9g/fkvk1rlx44s9k648bkf78ssx5xtbf8/T/ipykernel_36378/481835537.py:79: FutureWarning: Passing a set as an indexer is deprecated and will raise in a future version. Use a list instead.\n",
      "  df_out_of_simple_returns = preproc.get_simple_returns_from_prices(df_out_of_sample[communal_assets]).dropna()\n"
     ]
    },
    {
     "name": "stdout",
     "output_type": "stream",
     "text": [
      "7/7 [==============================] - 0s 865us/step\n",
      "7/7 [==============================] - 0s 1ms/step\n",
      "3/3 [==============================] - 0s 1ms/step\n",
      "2017-07\n"
     ]
    },
    {
     "name": "stderr",
     "output_type": "stream",
     "text": [
      "/var/folders/9g/fkvk1rlx44s9k648bkf78ssx5xtbf8/T/ipykernel_36378/481835537.py:79: FutureWarning: Passing a set as an indexer is deprecated and will raise in a future version. Use a list instead.\n",
      "  df_out_of_simple_returns = preproc.get_simple_returns_from_prices(df_out_of_sample[communal_assets]).dropna()\n"
     ]
    },
    {
     "name": "stdout",
     "output_type": "stream",
     "text": [
      "7/7 [==============================] - 0s 967us/step\n",
      "7/7 [==============================] - 0s 880us/step\n",
      "3/3 [==============================] - 0s 1ms/step\n",
      "2014-04\n"
     ]
    },
    {
     "name": "stderr",
     "output_type": "stream",
     "text": [
      "/var/folders/9g/fkvk1rlx44s9k648bkf78ssx5xtbf8/T/ipykernel_36378/481835537.py:79: FutureWarning: Passing a set as an indexer is deprecated and will raise in a future version. Use a list instead.\n",
      "  df_out_of_simple_returns = preproc.get_simple_returns_from_prices(df_out_of_sample[communal_assets]).dropna()\n"
     ]
    },
    {
     "name": "stdout",
     "output_type": "stream",
     "text": [
      "7/7 [==============================] - 0s 994us/step\n",
      "7/7 [==============================] - 0s 857us/step\n",
      "3/3 [==============================] - 0s 1ms/step\n",
      "2015-04\n"
     ]
    },
    {
     "name": "stderr",
     "output_type": "stream",
     "text": [
      "/var/folders/9g/fkvk1rlx44s9k648bkf78ssx5xtbf8/T/ipykernel_36378/481835537.py:79: FutureWarning: Passing a set as an indexer is deprecated and will raise in a future version. Use a list instead.\n",
      "  df_out_of_simple_returns = preproc.get_simple_returns_from_prices(df_out_of_sample[communal_assets]).dropna()\n"
     ]
    },
    {
     "name": "stdout",
     "output_type": "stream",
     "text": [
      "7/7 [==============================] - 0s 875us/step\n",
      "7/7 [==============================] - 0s 897us/step\n",
      "3/3 [==============================] - 0s 1ms/step\n",
      "2023-01\n"
     ]
    },
    {
     "name": "stderr",
     "output_type": "stream",
     "text": [
      "/var/folders/9g/fkvk1rlx44s9k648bkf78ssx5xtbf8/T/ipykernel_36378/481835537.py:79: FutureWarning: Passing a set as an indexer is deprecated and will raise in a future version. Use a list instead.\n",
      "  df_out_of_simple_returns = preproc.get_simple_returns_from_prices(df_out_of_sample[communal_assets]).dropna()\n"
     ]
    },
    {
     "name": "stdout",
     "output_type": "stream",
     "text": [
      "7/7 [==============================] - 0s 867us/step\n",
      "7/7 [==============================] - 0s 923us/step\n",
      "3/3 [==============================] - 0s 1ms/step\n",
      "2022-01\n"
     ]
    },
    {
     "name": "stderr",
     "output_type": "stream",
     "text": [
      "/var/folders/9g/fkvk1rlx44s9k648bkf78ssx5xtbf8/T/ipykernel_36378/481835537.py:79: FutureWarning: Passing a set as an indexer is deprecated and will raise in a future version. Use a list instead.\n",
      "  df_out_of_simple_returns = preproc.get_simple_returns_from_prices(df_out_of_sample[communal_assets]).dropna()\n"
     ]
    },
    {
     "name": "stdout",
     "output_type": "stream",
     "text": [
      "7/7 [==============================] - 0s 1000us/step\n",
      "7/7 [==============================] - 0s 866us/step\n",
      "3/3 [==============================] - 0s 1ms/step\n",
      "2017-01\n"
     ]
    },
    {
     "name": "stderr",
     "output_type": "stream",
     "text": [
      "/var/folders/9g/fkvk1rlx44s9k648bkf78ssx5xtbf8/T/ipykernel_36378/481835537.py:79: FutureWarning: Passing a set as an indexer is deprecated and will raise in a future version. Use a list instead.\n",
      "  df_out_of_simple_returns = preproc.get_simple_returns_from_prices(df_out_of_sample[communal_assets]).dropna()\n"
     ]
    },
    {
     "name": "stdout",
     "output_type": "stream",
     "text": [
      "7/7 [==============================] - 0s 860us/step\n",
      "7/7 [==============================] - 0s 922us/step\n",
      "3/3 [==============================] - 0s 1ms/step\n",
      "2016-01\n"
     ]
    },
    {
     "name": "stderr",
     "output_type": "stream",
     "text": [
      "/var/folders/9g/fkvk1rlx44s9k648bkf78ssx5xtbf8/T/ipykernel_36378/481835537.py:79: FutureWarning: Passing a set as an indexer is deprecated and will raise in a future version. Use a list instead.\n",
      "  df_out_of_simple_returns = preproc.get_simple_returns_from_prices(df_out_of_sample[communal_assets]).dropna()\n"
     ]
    },
    {
     "name": "stdout",
     "output_type": "stream",
     "text": [
      "7/7 [==============================] - 0s 930us/step\n",
      "7/7 [==============================] - 0s 927us/step\n",
      "3/3 [==============================] - 0s 1ms/step\n"
     ]
    },
    {
     "name": "stderr",
     "output_type": "stream",
     "text": [
      "/var/folders/9g/fkvk1rlx44s9k648bkf78ssx5xtbf8/T/ipykernel_36378/481835537.py:79: FutureWarning: Passing a set as an indexer is deprecated and will raise in a future version. Use a list instead.\n",
      "  df_out_of_simple_returns = preproc.get_simple_returns_from_prices(df_out_of_sample[communal_assets]).dropna()\n"
     ]
    },
    {
     "name": "stdout",
     "output_type": "stream",
     "text": [
      "2018-07\n",
      "7/7 [==============================] - 0s 961us/step\n",
      "7/7 [==============================] - 0s 1ms/step\n",
      "3/3 [==============================] - 0s 2ms/step\n",
      "2019-07\n"
     ]
    },
    {
     "name": "stderr",
     "output_type": "stream",
     "text": [
      "/var/folders/9g/fkvk1rlx44s9k648bkf78ssx5xtbf8/T/ipykernel_36378/481835537.py:79: FutureWarning: Passing a set as an indexer is deprecated and will raise in a future version. Use a list instead.\n",
      "  df_out_of_simple_returns = preproc.get_simple_returns_from_prices(df_out_of_sample[communal_assets]).dropna()\n"
     ]
    },
    {
     "name": "stdout",
     "output_type": "stream",
     "text": [
      "7/7 [==============================] - 0s 959us/step\n",
      "7/7 [==============================] - 0s 1ms/step\n",
      "3/3 [==============================] - 0s 1ms/step\n",
      "2019-01\n"
     ]
    },
    {
     "name": "stderr",
     "output_type": "stream",
     "text": [
      "/var/folders/9g/fkvk1rlx44s9k648bkf78ssx5xtbf8/T/ipykernel_36378/481835537.py:79: FutureWarning: Passing a set as an indexer is deprecated and will raise in a future version. Use a list instead.\n",
      "  df_out_of_simple_returns = preproc.get_simple_returns_from_prices(df_out_of_sample[communal_assets]).dropna()\n"
     ]
    },
    {
     "name": "stdout",
     "output_type": "stream",
     "text": [
      "7/7 [==============================] - 0s 1ms/step\n",
      "7/7 [==============================] - 0s 951us/step\n",
      "3/3 [==============================] - 0s 1ms/step\n",
      "2018-01\n"
     ]
    },
    {
     "name": "stderr",
     "output_type": "stream",
     "text": [
      "/var/folders/9g/fkvk1rlx44s9k648bkf78ssx5xtbf8/T/ipykernel_36378/481835537.py:79: FutureWarning: Passing a set as an indexer is deprecated and will raise in a future version. Use a list instead.\n",
      "  df_out_of_simple_returns = preproc.get_simple_returns_from_prices(df_out_of_sample[communal_assets]).dropna()\n"
     ]
    },
    {
     "name": "stdout",
     "output_type": "stream",
     "text": [
      "7/7 [==============================] - 0s 914us/step\n",
      "7/7 [==============================] - 0s 850us/step\n",
      "3/3 [==============================] - 0s 1ms/step\n",
      "2015-01\n"
     ]
    },
    {
     "name": "stderr",
     "output_type": "stream",
     "text": [
      "/var/folders/9g/fkvk1rlx44s9k648bkf78ssx5xtbf8/T/ipykernel_36378/481835537.py:79: FutureWarning: Passing a set as an indexer is deprecated and will raise in a future version. Use a list instead.\n",
      "  df_out_of_simple_returns = preproc.get_simple_returns_from_prices(df_out_of_sample[communal_assets]).dropna()\n"
     ]
    },
    {
     "name": "stdout",
     "output_type": "stream",
     "text": [
      "7/7 [==============================] - 0s 852us/step\n",
      "7/7 [==============================] - 0s 915us/step\n",
      "3/3 [==============================] - 0s 1ms/step\n",
      "2020-01\n"
     ]
    },
    {
     "name": "stderr",
     "output_type": "stream",
     "text": [
      "/var/folders/9g/fkvk1rlx44s9k648bkf78ssx5xtbf8/T/ipykernel_36378/481835537.py:79: FutureWarning: Passing a set as an indexer is deprecated and will raise in a future version. Use a list instead.\n",
      "  df_out_of_simple_returns = preproc.get_simple_returns_from_prices(df_out_of_sample[communal_assets]).dropna()\n"
     ]
    },
    {
     "name": "stdout",
     "output_type": "stream",
     "text": [
      "7/7 [==============================] - 0s 926us/step\n",
      "7/7 [==============================] - 0s 877us/step\n",
      "3/3 [==============================] - 0s 1ms/step\n",
      "2021-01\n"
     ]
    },
    {
     "name": "stderr",
     "output_type": "stream",
     "text": [
      "/var/folders/9g/fkvk1rlx44s9k648bkf78ssx5xtbf8/T/ipykernel_36378/481835537.py:79: FutureWarning: Passing a set as an indexer is deprecated and will raise in a future version. Use a list instead.\n",
      "  df_out_of_simple_returns = preproc.get_simple_returns_from_prices(df_out_of_sample[communal_assets]).dropna()\n"
     ]
    },
    {
     "name": "stdout",
     "output_type": "stream",
     "text": [
      "7/7 [==============================] - 0s 917us/step\n",
      "7/7 [==============================] - 0s 991us/step\n",
      "3/3 [==============================] - 0s 1ms/step\n",
      "2022-10\n"
     ]
    },
    {
     "name": "stderr",
     "output_type": "stream",
     "text": [
      "/var/folders/9g/fkvk1rlx44s9k648bkf78ssx5xtbf8/T/ipykernel_36378/481835537.py:79: FutureWarning: Passing a set as an indexer is deprecated and will raise in a future version. Use a list instead.\n",
      "  df_out_of_simple_returns = preproc.get_simple_returns_from_prices(df_out_of_sample[communal_assets]).dropna()\n"
     ]
    },
    {
     "name": "stdout",
     "output_type": "stream",
     "text": [
      "6/6 [==============================] - 0s 1ms/step\n",
      "6/6 [==============================] - 0s 1ms/step\n",
      "3/3 [==============================] - 0s 1ms/step\n",
      "2015-07\n"
     ]
    },
    {
     "name": "stderr",
     "output_type": "stream",
     "text": [
      "/var/folders/9g/fkvk1rlx44s9k648bkf78ssx5xtbf8/T/ipykernel_36378/481835537.py:79: FutureWarning: Passing a set as an indexer is deprecated and will raise in a future version. Use a list instead.\n",
      "  df_out_of_simple_returns = preproc.get_simple_returns_from_prices(df_out_of_sample[communal_assets]).dropna()\n"
     ]
    },
    {
     "name": "stdout",
     "output_type": "stream",
     "text": [
      "7/7 [==============================] - 0s 954us/step\n",
      "7/7 [==============================] - 0s 840us/step\n",
      "3/3 [==============================] - 0s 1ms/step\n",
      "2014-07\n"
     ]
    },
    {
     "name": "stderr",
     "output_type": "stream",
     "text": [
      "/var/folders/9g/fkvk1rlx44s9k648bkf78ssx5xtbf8/T/ipykernel_36378/481835537.py:79: FutureWarning: Passing a set as an indexer is deprecated and will raise in a future version. Use a list instead.\n",
      "  df_out_of_simple_returns = preproc.get_simple_returns_from_prices(df_out_of_sample[communal_assets]).dropna()\n"
     ]
    },
    {
     "name": "stdout",
     "output_type": "stream",
     "text": [
      "7/7 [==============================] - 0s 876us/step\n",
      "7/7 [==============================] - 0s 930us/step\n",
      "3/3 [==============================] - 0s 1ms/step\n",
      "2017-04\n"
     ]
    },
    {
     "name": "stderr",
     "output_type": "stream",
     "text": [
      "/var/folders/9g/fkvk1rlx44s9k648bkf78ssx5xtbf8/T/ipykernel_36378/481835537.py:79: FutureWarning: Passing a set as an indexer is deprecated and will raise in a future version. Use a list instead.\n",
      "  df_out_of_simple_returns = preproc.get_simple_returns_from_prices(df_out_of_sample[communal_assets]).dropna()\n"
     ]
    },
    {
     "name": "stdout",
     "output_type": "stream",
     "text": [
      "7/7 [==============================] - 0s 1ms/step\n",
      "7/7 [==============================] - 0s 866us/step\n",
      "3/3 [==============================] - 0s 2ms/step\n",
      "2016-04\n"
     ]
    },
    {
     "name": "stderr",
     "output_type": "stream",
     "text": [
      "/var/folders/9g/fkvk1rlx44s9k648bkf78ssx5xtbf8/T/ipykernel_36378/481835537.py:79: FutureWarning: Passing a set as an indexer is deprecated and will raise in a future version. Use a list instead.\n",
      "  df_out_of_simple_returns = preproc.get_simple_returns_from_prices(df_out_of_sample[communal_assets]).dropna()\n"
     ]
    },
    {
     "name": "stdout",
     "output_type": "stream",
     "text": [
      "7/7 [==============================] - 0s 841us/step\n",
      "7/7 [==============================] - 0s 829us/step\n",
      "3/3 [==============================] - 0s 1ms/step\n",
      "2023-04\n"
     ]
    },
    {
     "name": "stderr",
     "output_type": "stream",
     "text": [
      "/var/folders/9g/fkvk1rlx44s9k648bkf78ssx5xtbf8/T/ipykernel_36378/481835537.py:79: FutureWarning: Passing a set as an indexer is deprecated and will raise in a future version. Use a list instead.\n",
      "  df_out_of_simple_returns = preproc.get_simple_returns_from_prices(df_out_of_sample[communal_assets]).dropna()\n"
     ]
    },
    {
     "name": "stdout",
     "output_type": "stream",
     "text": [
      "5/5 [==============================] - 0s 2ms/step\n",
      "5/5 [==============================] - 0s 1ms/step\n",
      "3/3 [==============================] - 0s 1ms/step\n",
      "2021-07\n"
     ]
    },
    {
     "name": "stderr",
     "output_type": "stream",
     "text": [
      "/var/folders/9g/fkvk1rlx44s9k648bkf78ssx5xtbf8/T/ipykernel_36378/481835537.py:79: FutureWarning: Passing a set as an indexer is deprecated and will raise in a future version. Use a list instead.\n",
      "  df_out_of_simple_returns = preproc.get_simple_returns_from_prices(df_out_of_sample[communal_assets]).dropna()\n"
     ]
    },
    {
     "name": "stdout",
     "output_type": "stream",
     "text": [
      "7/7 [==============================] - 0s 967us/step\n",
      "7/7 [==============================] - 0s 903us/step\n",
      "3/3 [==============================] - 0s 1ms/step\n",
      "2020-07\n"
     ]
    },
    {
     "name": "stderr",
     "output_type": "stream",
     "text": [
      "/var/folders/9g/fkvk1rlx44s9k648bkf78ssx5xtbf8/T/ipykernel_36378/481835537.py:79: FutureWarning: Passing a set as an indexer is deprecated and will raise in a future version. Use a list instead.\n",
      "  df_out_of_simple_returns = preproc.get_simple_returns_from_prices(df_out_of_sample[communal_assets]).dropna()\n"
     ]
    },
    {
     "name": "stdout",
     "output_type": "stream",
     "text": [
      "7/7 [==============================] - 0s 982us/step\n",
      "7/7 [==============================] - 0s 886us/step\n",
      "3/3 [==============================] - 0s 1ms/step\n",
      "2016-10\n"
     ]
    },
    {
     "name": "stderr",
     "output_type": "stream",
     "text": [
      "/var/folders/9g/fkvk1rlx44s9k648bkf78ssx5xtbf8/T/ipykernel_36378/481835537.py:79: FutureWarning: Passing a set as an indexer is deprecated and will raise in a future version. Use a list instead.\n",
      "  df_out_of_simple_returns = preproc.get_simple_returns_from_prices(df_out_of_sample[communal_assets]).dropna()\n"
     ]
    },
    {
     "name": "stdout",
     "output_type": "stream",
     "text": [
      "7/7 [==============================] - 0s 931us/step\n",
      "7/7 [==============================] - 0s 838us/step\n",
      "3/3 [==============================] - 0s 1ms/step\n",
      "2017-10\n"
     ]
    },
    {
     "name": "stderr",
     "output_type": "stream",
     "text": [
      "/var/folders/9g/fkvk1rlx44s9k648bkf78ssx5xtbf8/T/ipykernel_36378/481835537.py:79: FutureWarning: Passing a set as an indexer is deprecated and will raise in a future version. Use a list instead.\n",
      "  df_out_of_simple_returns = preproc.get_simple_returns_from_prices(df_out_of_sample[communal_assets]).dropna()\n"
     ]
    },
    {
     "name": "stdout",
     "output_type": "stream",
     "text": [
      "7/7 [==============================] - 0s 891us/step\n",
      "7/7 [==============================] - 0s 1ms/step\n",
      "3/3 [==============================] - 0s 1ms/step\n",
      "2019-04\n"
     ]
    },
    {
     "name": "stderr",
     "output_type": "stream",
     "text": [
      "/var/folders/9g/fkvk1rlx44s9k648bkf78ssx5xtbf8/T/ipykernel_36378/481835537.py:79: FutureWarning: Passing a set as an indexer is deprecated and will raise in a future version. Use a list instead.\n",
      "  df_out_of_simple_returns = preproc.get_simple_returns_from_prices(df_out_of_sample[communal_assets]).dropna()\n"
     ]
    },
    {
     "name": "stdout",
     "output_type": "stream",
     "text": [
      "7/7 [==============================] - 0s 872us/step\n",
      "7/7 [==============================] - 0s 887us/step\n",
      "3/3 [==============================] - 0s 1ms/step\n",
      "2018-04\n"
     ]
    },
    {
     "name": "stderr",
     "output_type": "stream",
     "text": [
      "/var/folders/9g/fkvk1rlx44s9k648bkf78ssx5xtbf8/T/ipykernel_36378/481835537.py:79: FutureWarning: Passing a set as an indexer is deprecated and will raise in a future version. Use a list instead.\n",
      "  df_out_of_simple_returns = preproc.get_simple_returns_from_prices(df_out_of_sample[communal_assets]).dropna()\n"
     ]
    },
    {
     "name": "stdout",
     "output_type": "stream",
     "text": [
      "7/7 [==============================] - 0s 967us/step\n",
      "7/7 [==============================] - 0s 873us/step\n",
      "3/3 [==============================] - 0s 1ms/step\n",
      "2018-10\n"
     ]
    },
    {
     "name": "stderr",
     "output_type": "stream",
     "text": [
      "/var/folders/9g/fkvk1rlx44s9k648bkf78ssx5xtbf8/T/ipykernel_36378/481835537.py:79: FutureWarning: Passing a set as an indexer is deprecated and will raise in a future version. Use a list instead.\n",
      "  df_out_of_simple_returns = preproc.get_simple_returns_from_prices(df_out_of_sample[communal_assets]).dropna()\n"
     ]
    },
    {
     "name": "stdout",
     "output_type": "stream",
     "text": [
      "7/7 [==============================] - 0s 869us/step\n",
      "7/7 [==============================] - 0s 828us/step\n",
      "3/3 [==============================] - 0s 1ms/step\n",
      "2019-10\n"
     ]
    },
    {
     "name": "stderr",
     "output_type": "stream",
     "text": [
      "/var/folders/9g/fkvk1rlx44s9k648bkf78ssx5xtbf8/T/ipykernel_36378/481835537.py:79: FutureWarning: Passing a set as an indexer is deprecated and will raise in a future version. Use a list instead.\n",
      "  df_out_of_simple_returns = preproc.get_simple_returns_from_prices(df_out_of_sample[communal_assets]).dropna()\n"
     ]
    },
    {
     "name": "stdout",
     "output_type": "stream",
     "text": [
      "7/7 [==============================] - 0s 868us/step\n",
      "7/7 [==============================] - 0s 1ms/step\n",
      "3/3 [==============================] - 0s 1ms/step\n",
      "2020-04\n"
     ]
    },
    {
     "name": "stderr",
     "output_type": "stream",
     "text": [
      "/var/folders/9g/fkvk1rlx44s9k648bkf78ssx5xtbf8/T/ipykernel_36378/481835537.py:79: FutureWarning: Passing a set as an indexer is deprecated and will raise in a future version. Use a list instead.\n",
      "  df_out_of_simple_returns = preproc.get_simple_returns_from_prices(df_out_of_sample[communal_assets]).dropna()\n"
     ]
    },
    {
     "name": "stdout",
     "output_type": "stream",
     "text": [
      "7/7 [==============================] - 0s 981us/step\n",
      "7/7 [==============================] - 0s 836us/step\n",
      "3/3 [==============================] - 0s 1ms/step\n",
      "2021-04\n"
     ]
    },
    {
     "name": "stderr",
     "output_type": "stream",
     "text": [
      "/var/folders/9g/fkvk1rlx44s9k648bkf78ssx5xtbf8/T/ipykernel_36378/481835537.py:79: FutureWarning: Passing a set as an indexer is deprecated and will raise in a future version. Use a list instead.\n",
      "  df_out_of_simple_returns = preproc.get_simple_returns_from_prices(df_out_of_sample[communal_assets]).dropna()\n"
     ]
    },
    {
     "name": "stdout",
     "output_type": "stream",
     "text": [
      "7/7 [==============================] - 0s 883us/step\n",
      "7/7 [==============================] - 0s 829us/step\n",
      "3/3 [==============================] - 0s 1ms/step\n",
      "2022-07\n"
     ]
    },
    {
     "name": "stderr",
     "output_type": "stream",
     "text": [
      "/var/folders/9g/fkvk1rlx44s9k648bkf78ssx5xtbf8/T/ipykernel_36378/481835537.py:79: FutureWarning: Passing a set as an indexer is deprecated and will raise in a future version. Use a list instead.\n",
      "  df_out_of_simple_returns = preproc.get_simple_returns_from_prices(df_out_of_sample[communal_assets]).dropna()\n"
     ]
    },
    {
     "name": "stdout",
     "output_type": "stream",
     "text": [
      "7/7 [==============================] - 0s 873us/step\n",
      "7/7 [==============================] - 0s 919us/step\n",
      "3/3 [==============================] - 0s 1ms/step\n",
      "2015-10\n"
     ]
    },
    {
     "name": "stderr",
     "output_type": "stream",
     "text": [
      "/var/folders/9g/fkvk1rlx44s9k648bkf78ssx5xtbf8/T/ipykernel_36378/481835537.py:79: FutureWarning: Passing a set as an indexer is deprecated and will raise in a future version. Use a list instead.\n",
      "  df_out_of_simple_returns = preproc.get_simple_returns_from_prices(df_out_of_sample[communal_assets]).dropna()\n"
     ]
    },
    {
     "name": "stdout",
     "output_type": "stream",
     "text": [
      "7/7 [==============================] - 0s 1ms/step\n",
      "7/7 [==============================] - 0s 863us/step\n",
      "3/3 [==============================] - 0s 1ms/step\n",
      "2014-10\n"
     ]
    },
    {
     "name": "stderr",
     "output_type": "stream",
     "text": [
      "/var/folders/9g/fkvk1rlx44s9k648bkf78ssx5xtbf8/T/ipykernel_36378/481835537.py:79: FutureWarning: Passing a set as an indexer is deprecated and will raise in a future version. Use a list instead.\n",
      "  df_out_of_simple_returns = preproc.get_simple_returns_from_prices(df_out_of_sample[communal_assets]).dropna()\n"
     ]
    },
    {
     "name": "stdout",
     "output_type": "stream",
     "text": [
      "7/7 [==============================] - 0s 870us/step\n",
      "7/7 [==============================] - 0s 995us/step\n",
      "3/3 [==============================] - 0s 1ms/step\n",
      "2021-10\n"
     ]
    },
    {
     "name": "stderr",
     "output_type": "stream",
     "text": [
      "/var/folders/9g/fkvk1rlx44s9k648bkf78ssx5xtbf8/T/ipykernel_36378/481835537.py:79: FutureWarning: Passing a set as an indexer is deprecated and will raise in a future version. Use a list instead.\n",
      "  df_out_of_simple_returns = preproc.get_simple_returns_from_prices(df_out_of_sample[communal_assets]).dropna()\n"
     ]
    },
    {
     "name": "stdout",
     "output_type": "stream",
     "text": [
      "6/6 [==============================] - 0s 969us/step\n",
      "6/6 [==============================] - 0s 859us/step\n",
      "3/3 [==============================] - 0s 1ms/step\n",
      "2020-10\n"
     ]
    },
    {
     "name": "stderr",
     "output_type": "stream",
     "text": [
      "/var/folders/9g/fkvk1rlx44s9k648bkf78ssx5xtbf8/T/ipykernel_36378/481835537.py:79: FutureWarning: Passing a set as an indexer is deprecated and will raise in a future version. Use a list instead.\n",
      "  df_out_of_simple_returns = preproc.get_simple_returns_from_prices(df_out_of_sample[communal_assets]).dropna()\n"
     ]
    },
    {
     "name": "stdout",
     "output_type": "stream",
     "text": [
      "7/7 [==============================] - 0s 827us/step\n",
      "7/7 [==============================] - 0s 814us/step\n",
      "3/3 [==============================] - 0s 2ms/step\n",
      "2016-07\n"
     ]
    },
    {
     "name": "stderr",
     "output_type": "stream",
     "text": [
      "/var/folders/9g/fkvk1rlx44s9k648bkf78ssx5xtbf8/T/ipykernel_36378/481835537.py:79: FutureWarning: Passing a set as an indexer is deprecated and will raise in a future version. Use a list instead.\n",
      "  df_out_of_simple_returns = preproc.get_simple_returns_from_prices(df_out_of_sample[communal_assets]).dropna()\n"
     ]
    },
    {
     "name": "stdout",
     "output_type": "stream",
     "text": [
      "7/7 [==============================] - 0s 1ms/step\n",
      "7/7 [==============================] - 0s 861us/step\n",
      "3/3 [==============================] - 0s 2ms/step\n",
      "2017-07\n"
     ]
    },
    {
     "name": "stderr",
     "output_type": "stream",
     "text": [
      "/var/folders/9g/fkvk1rlx44s9k648bkf78ssx5xtbf8/T/ipykernel_36378/481835537.py:79: FutureWarning: Passing a set as an indexer is deprecated and will raise in a future version. Use a list instead.\n",
      "  df_out_of_simple_returns = preproc.get_simple_returns_from_prices(df_out_of_sample[communal_assets]).dropna()\n"
     ]
    },
    {
     "name": "stdout",
     "output_type": "stream",
     "text": [
      "7/7 [==============================] - 0s 922us/step\n",
      "7/7 [==============================] - 0s 921us/step\n",
      "3/3 [==============================] - 0s 1ms/step\n",
      "2014-04\n"
     ]
    },
    {
     "name": "stderr",
     "output_type": "stream",
     "text": [
      "/var/folders/9g/fkvk1rlx44s9k648bkf78ssx5xtbf8/T/ipykernel_36378/481835537.py:79: FutureWarning: Passing a set as an indexer is deprecated and will raise in a future version. Use a list instead.\n",
      "  df_out_of_simple_returns = preproc.get_simple_returns_from_prices(df_out_of_sample[communal_assets]).dropna()\n"
     ]
    },
    {
     "name": "stdout",
     "output_type": "stream",
     "text": [
      "7/7 [==============================] - 0s 834us/step\n",
      "7/7 [==============================] - 0s 2ms/step\n",
      "3/3 [==============================] - 0s 1ms/step\n",
      "2015-04\n"
     ]
    },
    {
     "name": "stderr",
     "output_type": "stream",
     "text": [
      "/var/folders/9g/fkvk1rlx44s9k648bkf78ssx5xtbf8/T/ipykernel_36378/481835537.py:79: FutureWarning: Passing a set as an indexer is deprecated and will raise in a future version. Use a list instead.\n",
      "  df_out_of_simple_returns = preproc.get_simple_returns_from_prices(df_out_of_sample[communal_assets]).dropna()\n"
     ]
    },
    {
     "name": "stdout",
     "output_type": "stream",
     "text": [
      "7/7 [==============================] - 0s 903us/step\n",
      "7/7 [==============================] - 0s 889us/step\n",
      "3/3 [==============================] - 0s 2ms/step\n",
      "2023-01\n"
     ]
    },
    {
     "name": "stderr",
     "output_type": "stream",
     "text": [
      "/var/folders/9g/fkvk1rlx44s9k648bkf78ssx5xtbf8/T/ipykernel_36378/481835537.py:79: FutureWarning: Passing a set as an indexer is deprecated and will raise in a future version. Use a list instead.\n",
      "  df_out_of_simple_returns = preproc.get_simple_returns_from_prices(df_out_of_sample[communal_assets]).dropna()\n"
     ]
    },
    {
     "name": "stdout",
     "output_type": "stream",
     "text": [
      "7/7 [==============================] - 0s 959us/step\n",
      "7/7 [==============================] - 0s 912us/step\n",
      "3/3 [==============================] - 0s 1ms/step\n",
      "2022-01\n"
     ]
    },
    {
     "name": "stderr",
     "output_type": "stream",
     "text": [
      "/var/folders/9g/fkvk1rlx44s9k648bkf78ssx5xtbf8/T/ipykernel_36378/481835537.py:79: FutureWarning: Passing a set as an indexer is deprecated and will raise in a future version. Use a list instead.\n",
      "  df_out_of_simple_returns = preproc.get_simple_returns_from_prices(df_out_of_sample[communal_assets]).dropna()\n"
     ]
    },
    {
     "name": "stdout",
     "output_type": "stream",
     "text": [
      "7/7 [==============================] - 0s 910us/step\n",
      "7/7 [==============================] - 0s 888us/step\n",
      "3/3 [==============================] - 0s 1ms/step\n",
      "2017-01\n"
     ]
    },
    {
     "name": "stderr",
     "output_type": "stream",
     "text": [
      "/var/folders/9g/fkvk1rlx44s9k648bkf78ssx5xtbf8/T/ipykernel_36378/481835537.py:79: FutureWarning: Passing a set as an indexer is deprecated and will raise in a future version. Use a list instead.\n",
      "  df_out_of_simple_returns = preproc.get_simple_returns_from_prices(df_out_of_sample[communal_assets]).dropna()\n"
     ]
    },
    {
     "name": "stdout",
     "output_type": "stream",
     "text": [
      "7/7 [==============================] - 0s 879us/step\n",
      "7/7 [==============================] - 0s 824us/step\n",
      "3/3 [==============================] - 0s 1ms/step\n",
      "2016-01\n"
     ]
    },
    {
     "name": "stderr",
     "output_type": "stream",
     "text": [
      "/var/folders/9g/fkvk1rlx44s9k648bkf78ssx5xtbf8/T/ipykernel_36378/481835537.py:79: FutureWarning: Passing a set as an indexer is deprecated and will raise in a future version. Use a list instead.\n",
      "  df_out_of_simple_returns = preproc.get_simple_returns_from_prices(df_out_of_sample[communal_assets]).dropna()\n"
     ]
    },
    {
     "name": "stdout",
     "output_type": "stream",
     "text": [
      "7/7 [==============================] - 0s 956us/step\n",
      "7/7 [==============================] - 0s 898us/step\n",
      "3/3 [==============================] - 0s 1ms/step\n"
     ]
    },
    {
     "name": "stderr",
     "output_type": "stream",
     "text": [
      "/var/folders/9g/fkvk1rlx44s9k648bkf78ssx5xtbf8/T/ipykernel_36378/481835537.py:79: FutureWarning: Passing a set as an indexer is deprecated and will raise in a future version. Use a list instead.\n",
      "  df_out_of_simple_returns = preproc.get_simple_returns_from_prices(df_out_of_sample[communal_assets]).dropna()\n"
     ]
    },
    {
     "name": "stdout",
     "output_type": "stream",
     "text": [
      "2018-07\n",
      "7/7 [==============================] - 0s 997us/step\n",
      "7/7 [==============================] - 0s 861us/step\n",
      "3/3 [==============================] - 0s 2ms/step\n",
      "2019-07\n"
     ]
    },
    {
     "name": "stderr",
     "output_type": "stream",
     "text": [
      "/var/folders/9g/fkvk1rlx44s9k648bkf78ssx5xtbf8/T/ipykernel_36378/481835537.py:79: FutureWarning: Passing a set as an indexer is deprecated and will raise in a future version. Use a list instead.\n",
      "  df_out_of_simple_returns = preproc.get_simple_returns_from_prices(df_out_of_sample[communal_assets]).dropna()\n"
     ]
    },
    {
     "name": "stdout",
     "output_type": "stream",
     "text": [
      "7/7 [==============================] - 0s 853us/step\n",
      "7/7 [==============================] - 0s 877us/step\n",
      "3/3 [==============================] - 0s 1ms/step\n",
      "2019-01\n"
     ]
    },
    {
     "name": "stderr",
     "output_type": "stream",
     "text": [
      "/var/folders/9g/fkvk1rlx44s9k648bkf78ssx5xtbf8/T/ipykernel_36378/481835537.py:79: FutureWarning: Passing a set as an indexer is deprecated and will raise in a future version. Use a list instead.\n",
      "  df_out_of_simple_returns = preproc.get_simple_returns_from_prices(df_out_of_sample[communal_assets]).dropna()\n"
     ]
    },
    {
     "name": "stdout",
     "output_type": "stream",
     "text": [
      "7/7 [==============================] - 0s 891us/step\n",
      "7/7 [==============================] - 0s 866us/step\n",
      "3/3 [==============================] - 0s 1ms/step\n",
      "2018-01\n"
     ]
    },
    {
     "name": "stderr",
     "output_type": "stream",
     "text": [
      "/var/folders/9g/fkvk1rlx44s9k648bkf78ssx5xtbf8/T/ipykernel_36378/481835537.py:79: FutureWarning: Passing a set as an indexer is deprecated and will raise in a future version. Use a list instead.\n",
      "  df_out_of_simple_returns = preproc.get_simple_returns_from_prices(df_out_of_sample[communal_assets]).dropna()\n"
     ]
    },
    {
     "name": "stdout",
     "output_type": "stream",
     "text": [
      "7/7 [==============================] - 0s 911us/step\n",
      "7/7 [==============================] - 0s 928us/step\n",
      "3/3 [==============================] - 0s 1ms/step\n",
      "2015-01\n"
     ]
    },
    {
     "name": "stderr",
     "output_type": "stream",
     "text": [
      "/var/folders/9g/fkvk1rlx44s9k648bkf78ssx5xtbf8/T/ipykernel_36378/481835537.py:79: FutureWarning: Passing a set as an indexer is deprecated and will raise in a future version. Use a list instead.\n",
      "  df_out_of_simple_returns = preproc.get_simple_returns_from_prices(df_out_of_sample[communal_assets]).dropna()\n"
     ]
    },
    {
     "name": "stdout",
     "output_type": "stream",
     "text": [
      "7/7 [==============================] - 0s 900us/step\n",
      "7/7 [==============================] - 0s 838us/step\n",
      "3/3 [==============================] - 0s 1ms/step\n",
      "2020-01\n"
     ]
    },
    {
     "name": "stderr",
     "output_type": "stream",
     "text": [
      "/var/folders/9g/fkvk1rlx44s9k648bkf78ssx5xtbf8/T/ipykernel_36378/481835537.py:79: FutureWarning: Passing a set as an indexer is deprecated and will raise in a future version. Use a list instead.\n",
      "  df_out_of_simple_returns = preproc.get_simple_returns_from_prices(df_out_of_sample[communal_assets]).dropna()\n"
     ]
    },
    {
     "name": "stdout",
     "output_type": "stream",
     "text": [
      "7/7 [==============================] - 0s 833us/step\n",
      "7/7 [==============================] - 0s 797us/step\n",
      "3/3 [==============================] - 0s 1ms/step\n",
      "2021-01\n"
     ]
    },
    {
     "name": "stderr",
     "output_type": "stream",
     "text": [
      "/var/folders/9g/fkvk1rlx44s9k648bkf78ssx5xtbf8/T/ipykernel_36378/481835537.py:79: FutureWarning: Passing a set as an indexer is deprecated and will raise in a future version. Use a list instead.\n",
      "  df_out_of_simple_returns = preproc.get_simple_returns_from_prices(df_out_of_sample[communal_assets]).dropna()\n"
     ]
    },
    {
     "name": "stdout",
     "output_type": "stream",
     "text": [
      "7/7 [==============================] - 0s 845us/step\n",
      "7/7 [==============================] - 0s 888us/step\n",
      "3/3 [==============================] - 0s 1ms/step\n",
      "2022-10\n"
     ]
    },
    {
     "name": "stderr",
     "output_type": "stream",
     "text": [
      "/var/folders/9g/fkvk1rlx44s9k648bkf78ssx5xtbf8/T/ipykernel_36378/481835537.py:79: FutureWarning: Passing a set as an indexer is deprecated and will raise in a future version. Use a list instead.\n",
      "  df_out_of_simple_returns = preproc.get_simple_returns_from_prices(df_out_of_sample[communal_assets]).dropna()\n"
     ]
    },
    {
     "name": "stdout",
     "output_type": "stream",
     "text": [
      "6/6 [==============================] - 0s 941us/step\n",
      "6/6 [==============================] - 0s 962us/step\n",
      "3/3 [==============================] - 0s 2ms/step\n",
      "2015-07\n"
     ]
    },
    {
     "name": "stderr",
     "output_type": "stream",
     "text": [
      "/var/folders/9g/fkvk1rlx44s9k648bkf78ssx5xtbf8/T/ipykernel_36378/481835537.py:79: FutureWarning: Passing a set as an indexer is deprecated and will raise in a future version. Use a list instead.\n",
      "  df_out_of_simple_returns = preproc.get_simple_returns_from_prices(df_out_of_sample[communal_assets]).dropna()\n"
     ]
    },
    {
     "name": "stdout",
     "output_type": "stream",
     "text": [
      "7/7 [==============================] - 0s 834us/step\n",
      "7/7 [==============================] - 0s 866us/step\n",
      "3/3 [==============================] - 0s 1ms/step\n",
      "2014-07\n"
     ]
    },
    {
     "name": "stderr",
     "output_type": "stream",
     "text": [
      "/var/folders/9g/fkvk1rlx44s9k648bkf78ssx5xtbf8/T/ipykernel_36378/481835537.py:79: FutureWarning: Passing a set as an indexer is deprecated and will raise in a future version. Use a list instead.\n",
      "  df_out_of_simple_returns = preproc.get_simple_returns_from_prices(df_out_of_sample[communal_assets]).dropna()\n"
     ]
    },
    {
     "name": "stdout",
     "output_type": "stream",
     "text": [
      "7/7 [==============================] - 0s 785us/step\n",
      "7/7 [==============================] - 0s 821us/step\n",
      "3/3 [==============================] - 0s 1ms/step\n",
      "2017-04\n"
     ]
    },
    {
     "name": "stderr",
     "output_type": "stream",
     "text": [
      "/var/folders/9g/fkvk1rlx44s9k648bkf78ssx5xtbf8/T/ipykernel_36378/481835537.py:79: FutureWarning: Passing a set as an indexer is deprecated and will raise in a future version. Use a list instead.\n",
      "  df_out_of_simple_returns = preproc.get_simple_returns_from_prices(df_out_of_sample[communal_assets]).dropna()\n"
     ]
    },
    {
     "name": "stdout",
     "output_type": "stream",
     "text": [
      "7/7 [==============================] - 0s 845us/step\n",
      "7/7 [==============================] - 0s 863us/step\n",
      "3/3 [==============================] - 0s 1ms/step\n",
      "2016-04\n"
     ]
    },
    {
     "name": "stderr",
     "output_type": "stream",
     "text": [
      "/var/folders/9g/fkvk1rlx44s9k648bkf78ssx5xtbf8/T/ipykernel_36378/481835537.py:79: FutureWarning: Passing a set as an indexer is deprecated and will raise in a future version. Use a list instead.\n",
      "  df_out_of_simple_returns = preproc.get_simple_returns_from_prices(df_out_of_sample[communal_assets]).dropna()\n"
     ]
    },
    {
     "name": "stdout",
     "output_type": "stream",
     "text": [
      "7/7 [==============================] - 0s 797us/step\n",
      "7/7 [==============================] - 0s 1ms/step\n",
      "3/3 [==============================] - 0s 2ms/step\n",
      "2023-04\n"
     ]
    },
    {
     "name": "stderr",
     "output_type": "stream",
     "text": [
      "/var/folders/9g/fkvk1rlx44s9k648bkf78ssx5xtbf8/T/ipykernel_36378/481835537.py:79: FutureWarning: Passing a set as an indexer is deprecated and will raise in a future version. Use a list instead.\n",
      "  df_out_of_simple_returns = preproc.get_simple_returns_from_prices(df_out_of_sample[communal_assets]).dropna()\n"
     ]
    },
    {
     "name": "stdout",
     "output_type": "stream",
     "text": [
      "5/5 [==============================] - 0s 960us/step\n",
      "5/5 [==============================] - 0s 1ms/step\n",
      "3/3 [==============================] - 0s 1ms/step\n",
      "2021-07\n"
     ]
    },
    {
     "name": "stderr",
     "output_type": "stream",
     "text": [
      "/var/folders/9g/fkvk1rlx44s9k648bkf78ssx5xtbf8/T/ipykernel_36378/481835537.py:79: FutureWarning: Passing a set as an indexer is deprecated and will raise in a future version. Use a list instead.\n",
      "  df_out_of_simple_returns = preproc.get_simple_returns_from_prices(df_out_of_sample[communal_assets]).dropna()\n"
     ]
    },
    {
     "name": "stdout",
     "output_type": "stream",
     "text": [
      "7/7 [==============================] - 0s 1ms/step\n",
      "7/7 [==============================] - 0s 904us/step\n",
      "3/3 [==============================] - 0s 1ms/step\n",
      "2020-07\n"
     ]
    },
    {
     "name": "stderr",
     "output_type": "stream",
     "text": [
      "/var/folders/9g/fkvk1rlx44s9k648bkf78ssx5xtbf8/T/ipykernel_36378/481835537.py:79: FutureWarning: Passing a set as an indexer is deprecated and will raise in a future version. Use a list instead.\n",
      "  df_out_of_simple_returns = preproc.get_simple_returns_from_prices(df_out_of_sample[communal_assets]).dropna()\n"
     ]
    },
    {
     "name": "stdout",
     "output_type": "stream",
     "text": [
      "7/7 [==============================] - 0s 808us/step\n",
      "7/7 [==============================] - 0s 843us/step\n",
      "3/3 [==============================] - 0s 1ms/step\n",
      "2016-10\n"
     ]
    },
    {
     "name": "stderr",
     "output_type": "stream",
     "text": [
      "/var/folders/9g/fkvk1rlx44s9k648bkf78ssx5xtbf8/T/ipykernel_36378/481835537.py:79: FutureWarning: Passing a set as an indexer is deprecated and will raise in a future version. Use a list instead.\n",
      "  df_out_of_simple_returns = preproc.get_simple_returns_from_prices(df_out_of_sample[communal_assets]).dropna()\n"
     ]
    },
    {
     "name": "stdout",
     "output_type": "stream",
     "text": [
      "7/7 [==============================] - 0s 952us/step\n",
      "7/7 [==============================] - 0s 902us/step\n",
      "3/3 [==============================] - 0s 1ms/step\n",
      "2017-10\n"
     ]
    },
    {
     "name": "stderr",
     "output_type": "stream",
     "text": [
      "/var/folders/9g/fkvk1rlx44s9k648bkf78ssx5xtbf8/T/ipykernel_36378/481835537.py:79: FutureWarning: Passing a set as an indexer is deprecated and will raise in a future version. Use a list instead.\n",
      "  df_out_of_simple_returns = preproc.get_simple_returns_from_prices(df_out_of_sample[communal_assets]).dropna()\n"
     ]
    },
    {
     "name": "stdout",
     "output_type": "stream",
     "text": [
      "7/7 [==============================] - 0s 1ms/step\n",
      "7/7 [==============================] - 0s 866us/step\n",
      "3/3 [==============================] - 0s 1ms/step\n",
      "2019-04\n"
     ]
    },
    {
     "name": "stderr",
     "output_type": "stream",
     "text": [
      "/var/folders/9g/fkvk1rlx44s9k648bkf78ssx5xtbf8/T/ipykernel_36378/481835537.py:79: FutureWarning: Passing a set as an indexer is deprecated and will raise in a future version. Use a list instead.\n",
      "  df_out_of_simple_returns = preproc.get_simple_returns_from_prices(df_out_of_sample[communal_assets]).dropna()\n"
     ]
    },
    {
     "name": "stdout",
     "output_type": "stream",
     "text": [
      "7/7 [==============================] - 0s 874us/step\n",
      "7/7 [==============================] - 0s 894us/step\n",
      "3/3 [==============================] - 0s 1ms/step\n",
      "2018-04\n"
     ]
    },
    {
     "name": "stderr",
     "output_type": "stream",
     "text": [
      "/var/folders/9g/fkvk1rlx44s9k648bkf78ssx5xtbf8/T/ipykernel_36378/481835537.py:79: FutureWarning: Passing a set as an indexer is deprecated and will raise in a future version. Use a list instead.\n",
      "  df_out_of_simple_returns = preproc.get_simple_returns_from_prices(df_out_of_sample[communal_assets]).dropna()\n"
     ]
    },
    {
     "name": "stdout",
     "output_type": "stream",
     "text": [
      "7/7 [==============================] - 0s 1ms/step\n",
      "7/7 [==============================] - 0s 926us/step\n",
      "3/3 [==============================] - 0s 1ms/step\n",
      "2018-10\n"
     ]
    },
    {
     "name": "stderr",
     "output_type": "stream",
     "text": [
      "/var/folders/9g/fkvk1rlx44s9k648bkf78ssx5xtbf8/T/ipykernel_36378/481835537.py:79: FutureWarning: Passing a set as an indexer is deprecated and will raise in a future version. Use a list instead.\n",
      "  df_out_of_simple_returns = preproc.get_simple_returns_from_prices(df_out_of_sample[communal_assets]).dropna()\n"
     ]
    },
    {
     "name": "stdout",
     "output_type": "stream",
     "text": [
      "7/7 [==============================] - 0s 941us/step\n",
      "7/7 [==============================] - 0s 879us/step\n",
      "3/3 [==============================] - 0s 1ms/step\n",
      "2019-10\n"
     ]
    },
    {
     "name": "stderr",
     "output_type": "stream",
     "text": [
      "/var/folders/9g/fkvk1rlx44s9k648bkf78ssx5xtbf8/T/ipykernel_36378/481835537.py:79: FutureWarning: Passing a set as an indexer is deprecated and will raise in a future version. Use a list instead.\n",
      "  df_out_of_simple_returns = preproc.get_simple_returns_from_prices(df_out_of_sample[communal_assets]).dropna()\n"
     ]
    },
    {
     "name": "stdout",
     "output_type": "stream",
     "text": [
      "7/7 [==============================] - 0s 1ms/step\n",
      "7/7 [==============================] - 0s 1ms/step\n",
      "3/3 [==============================] - 0s 2ms/step\n",
      "2020-04\n"
     ]
    },
    {
     "name": "stderr",
     "output_type": "stream",
     "text": [
      "/var/folders/9g/fkvk1rlx44s9k648bkf78ssx5xtbf8/T/ipykernel_36378/481835537.py:79: FutureWarning: Passing a set as an indexer is deprecated and will raise in a future version. Use a list instead.\n",
      "  df_out_of_simple_returns = preproc.get_simple_returns_from_prices(df_out_of_sample[communal_assets]).dropna()\n"
     ]
    },
    {
     "name": "stdout",
     "output_type": "stream",
     "text": [
      "7/7 [==============================] - 0s 824us/step\n",
      "7/7 [==============================] - 0s 879us/step\n",
      "3/3 [==============================] - 0s 1ms/step\n",
      "2021-04\n"
     ]
    },
    {
     "name": "stderr",
     "output_type": "stream",
     "text": [
      "/var/folders/9g/fkvk1rlx44s9k648bkf78ssx5xtbf8/T/ipykernel_36378/481835537.py:79: FutureWarning: Passing a set as an indexer is deprecated and will raise in a future version. Use a list instead.\n",
      "  df_out_of_simple_returns = preproc.get_simple_returns_from_prices(df_out_of_sample[communal_assets]).dropna()\n"
     ]
    },
    {
     "name": "stdout",
     "output_type": "stream",
     "text": [
      "7/7 [==============================] - 0s 878us/step\n",
      "7/7 [==============================] - 0s 1ms/step\n",
      "3/3 [==============================] - 0s 1ms/step\n",
      "2022-07\n"
     ]
    },
    {
     "name": "stderr",
     "output_type": "stream",
     "text": [
      "/var/folders/9g/fkvk1rlx44s9k648bkf78ssx5xtbf8/T/ipykernel_36378/481835537.py:79: FutureWarning: Passing a set as an indexer is deprecated and will raise in a future version. Use a list instead.\n",
      "  df_out_of_simple_returns = preproc.get_simple_returns_from_prices(df_out_of_sample[communal_assets]).dropna()\n"
     ]
    },
    {
     "name": "stdout",
     "output_type": "stream",
     "text": [
      "7/7 [==============================] - 0s 807us/step\n",
      "7/7 [==============================] - 0s 784us/step\n",
      "3/3 [==============================] - 0s 1ms/step\n",
      "2015-10\n"
     ]
    },
    {
     "name": "stderr",
     "output_type": "stream",
     "text": [
      "/var/folders/9g/fkvk1rlx44s9k648bkf78ssx5xtbf8/T/ipykernel_36378/481835537.py:79: FutureWarning: Passing a set as an indexer is deprecated and will raise in a future version. Use a list instead.\n",
      "  df_out_of_simple_returns = preproc.get_simple_returns_from_prices(df_out_of_sample[communal_assets]).dropna()\n"
     ]
    },
    {
     "name": "stdout",
     "output_type": "stream",
     "text": [
      "7/7 [==============================] - 0s 878us/step\n",
      "7/7 [==============================] - 0s 909us/step\n",
      "3/3 [==============================] - 0s 1ms/step\n",
      "2014-10\n"
     ]
    },
    {
     "name": "stderr",
     "output_type": "stream",
     "text": [
      "/var/folders/9g/fkvk1rlx44s9k648bkf78ssx5xtbf8/T/ipykernel_36378/481835537.py:79: FutureWarning: Passing a set as an indexer is deprecated and will raise in a future version. Use a list instead.\n",
      "  df_out_of_simple_returns = preproc.get_simple_returns_from_prices(df_out_of_sample[communal_assets]).dropna()\n"
     ]
    },
    {
     "name": "stdout",
     "output_type": "stream",
     "text": [
      "7/7 [==============================] - 0s 826us/step\n",
      "7/7 [==============================] - 0s 858us/step\n",
      "3/3 [==============================] - 0s 2ms/step\n",
      "2021-10\n"
     ]
    },
    {
     "name": "stderr",
     "output_type": "stream",
     "text": [
      "/var/folders/9g/fkvk1rlx44s9k648bkf78ssx5xtbf8/T/ipykernel_36378/481835537.py:79: FutureWarning: Passing a set as an indexer is deprecated and will raise in a future version. Use a list instead.\n",
      "  df_out_of_simple_returns = preproc.get_simple_returns_from_prices(df_out_of_sample[communal_assets]).dropna()\n"
     ]
    },
    {
     "name": "stdout",
     "output_type": "stream",
     "text": [
      "6/6 [==============================] - 0s 1ms/step\n",
      "6/6 [==============================] - 0s 915us/step\n",
      "3/3 [==============================] - 0s 2ms/step\n",
      "2020-10\n"
     ]
    },
    {
     "name": "stderr",
     "output_type": "stream",
     "text": [
      "/var/folders/9g/fkvk1rlx44s9k648bkf78ssx5xtbf8/T/ipykernel_36378/481835537.py:79: FutureWarning: Passing a set as an indexer is deprecated and will raise in a future version. Use a list instead.\n",
      "  df_out_of_simple_returns = preproc.get_simple_returns_from_prices(df_out_of_sample[communal_assets]).dropna()\n"
     ]
    },
    {
     "name": "stdout",
     "output_type": "stream",
     "text": [
      "7/7 [==============================] - 0s 918us/step\n",
      "7/7 [==============================] - 0s 851us/step\n",
      "3/3 [==============================] - 0s 2ms/step\n",
      "2016-07\n"
     ]
    },
    {
     "name": "stderr",
     "output_type": "stream",
     "text": [
      "/var/folders/9g/fkvk1rlx44s9k648bkf78ssx5xtbf8/T/ipykernel_36378/481835537.py:79: FutureWarning: Passing a set as an indexer is deprecated and will raise in a future version. Use a list instead.\n",
      "  df_out_of_simple_returns = preproc.get_simple_returns_from_prices(df_out_of_sample[communal_assets]).dropna()\n"
     ]
    },
    {
     "name": "stdout",
     "output_type": "stream",
     "text": [
      "7/7 [==============================] - 0s 897us/step\n",
      "7/7 [==============================] - 0s 890us/step\n",
      "3/3 [==============================] - 0s 1ms/step\n",
      "2017-07\n"
     ]
    },
    {
     "name": "stderr",
     "output_type": "stream",
     "text": [
      "/var/folders/9g/fkvk1rlx44s9k648bkf78ssx5xtbf8/T/ipykernel_36378/481835537.py:79: FutureWarning: Passing a set as an indexer is deprecated and will raise in a future version. Use a list instead.\n",
      "  df_out_of_simple_returns = preproc.get_simple_returns_from_prices(df_out_of_sample[communal_assets]).dropna()\n"
     ]
    },
    {
     "name": "stdout",
     "output_type": "stream",
     "text": [
      "7/7 [==============================] - 0s 938us/step\n",
      "7/7 [==============================] - 0s 850us/step\n",
      "3/3 [==============================] - 0s 1ms/step\n",
      "2014-04\n"
     ]
    },
    {
     "name": "stderr",
     "output_type": "stream",
     "text": [
      "/var/folders/9g/fkvk1rlx44s9k648bkf78ssx5xtbf8/T/ipykernel_36378/481835537.py:79: FutureWarning: Passing a set as an indexer is deprecated and will raise in a future version. Use a list instead.\n",
      "  df_out_of_simple_returns = preproc.get_simple_returns_from_prices(df_out_of_sample[communal_assets]).dropna()\n"
     ]
    },
    {
     "name": "stdout",
     "output_type": "stream",
     "text": [
      "7/7 [==============================] - 0s 936us/step\n",
      "7/7 [==============================] - 0s 861us/step\n",
      "3/3 [==============================] - 0s 974us/step\n",
      "2015-04\n"
     ]
    },
    {
     "name": "stderr",
     "output_type": "stream",
     "text": [
      "/var/folders/9g/fkvk1rlx44s9k648bkf78ssx5xtbf8/T/ipykernel_36378/481835537.py:79: FutureWarning: Passing a set as an indexer is deprecated and will raise in a future version. Use a list instead.\n",
      "  df_out_of_simple_returns = preproc.get_simple_returns_from_prices(df_out_of_sample[communal_assets]).dropna()\n"
     ]
    },
    {
     "name": "stdout",
     "output_type": "stream",
     "text": [
      "7/7 [==============================] - 0s 890us/step\n",
      "7/7 [==============================] - 0s 908us/step\n",
      "3/3 [==============================] - 0s 3ms/step\n",
      "2023-01\n"
     ]
    },
    {
     "name": "stderr",
     "output_type": "stream",
     "text": [
      "/var/folders/9g/fkvk1rlx44s9k648bkf78ssx5xtbf8/T/ipykernel_36378/481835537.py:79: FutureWarning: Passing a set as an indexer is deprecated and will raise in a future version. Use a list instead.\n",
      "  df_out_of_simple_returns = preproc.get_simple_returns_from_prices(df_out_of_sample[communal_assets]).dropna()\n"
     ]
    },
    {
     "name": "stdout",
     "output_type": "stream",
     "text": [
      "7/7 [==============================] - 0s 2ms/step\n",
      "7/7 [==============================] - 0s 872us/step\n",
      "3/3 [==============================] - 0s 1ms/step\n",
      "2022-01\n"
     ]
    },
    {
     "name": "stderr",
     "output_type": "stream",
     "text": [
      "/var/folders/9g/fkvk1rlx44s9k648bkf78ssx5xtbf8/T/ipykernel_36378/481835537.py:79: FutureWarning: Passing a set as an indexer is deprecated and will raise in a future version. Use a list instead.\n",
      "  df_out_of_simple_returns = preproc.get_simple_returns_from_prices(df_out_of_sample[communal_assets]).dropna()\n"
     ]
    },
    {
     "name": "stdout",
     "output_type": "stream",
     "text": [
      "7/7 [==============================] - 0s 1ms/step\n",
      "7/7 [==============================] - 0s 1ms/step\n",
      "3/3 [==============================] - 0s 1ms/step\n",
      "2017-01\n"
     ]
    },
    {
     "name": "stderr",
     "output_type": "stream",
     "text": [
      "/var/folders/9g/fkvk1rlx44s9k648bkf78ssx5xtbf8/T/ipykernel_36378/481835537.py:79: FutureWarning: Passing a set as an indexer is deprecated and will raise in a future version. Use a list instead.\n",
      "  df_out_of_simple_returns = preproc.get_simple_returns_from_prices(df_out_of_sample[communal_assets]).dropna()\n"
     ]
    },
    {
     "name": "stdout",
     "output_type": "stream",
     "text": [
      "7/7 [==============================] - 0s 828us/step\n",
      "7/7 [==============================] - 0s 927us/step\n",
      "3/3 [==============================] - 0s 1ms/step\n",
      "2016-01\n"
     ]
    },
    {
     "name": "stderr",
     "output_type": "stream",
     "text": [
      "/var/folders/9g/fkvk1rlx44s9k648bkf78ssx5xtbf8/T/ipykernel_36378/481835537.py:79: FutureWarning: Passing a set as an indexer is deprecated and will raise in a future version. Use a list instead.\n",
      "  df_out_of_simple_returns = preproc.get_simple_returns_from_prices(df_out_of_sample[communal_assets]).dropna()\n"
     ]
    },
    {
     "name": "stdout",
     "output_type": "stream",
     "text": [
      "7/7 [==============================] - 0s 1ms/step\n",
      "7/7 [==============================] - 0s 984us/step\n",
      "3/3 [==============================] - 0s 1ms/step\n"
     ]
    },
    {
     "name": "stderr",
     "output_type": "stream",
     "text": [
      "/var/folders/9g/fkvk1rlx44s9k648bkf78ssx5xtbf8/T/ipykernel_36378/481835537.py:79: FutureWarning: Passing a set as an indexer is deprecated and will raise in a future version. Use a list instead.\n",
      "  df_out_of_simple_returns = preproc.get_simple_returns_from_prices(df_out_of_sample[communal_assets]).dropna()\n"
     ]
    },
    {
     "name": "stdout",
     "output_type": "stream",
     "text": [
      "2018-07\n",
      "7/7 [==============================] - 0s 1ms/step\n",
      "7/7 [==============================] - 0s 919us/step\n",
      "3/3 [==============================] - 0s 1ms/step\n",
      "2019-07\n"
     ]
    },
    {
     "name": "stderr",
     "output_type": "stream",
     "text": [
      "/var/folders/9g/fkvk1rlx44s9k648bkf78ssx5xtbf8/T/ipykernel_36378/481835537.py:79: FutureWarning: Passing a set as an indexer is deprecated and will raise in a future version. Use a list instead.\n",
      "  df_out_of_simple_returns = preproc.get_simple_returns_from_prices(df_out_of_sample[communal_assets]).dropna()\n"
     ]
    },
    {
     "name": "stdout",
     "output_type": "stream",
     "text": [
      "7/7 [==============================] - 0s 1ms/step\n",
      "7/7 [==============================] - 0s 1ms/step\n",
      "3/3 [==============================] - 0s 2ms/step\n",
      "2019-01\n"
     ]
    },
    {
     "name": "stderr",
     "output_type": "stream",
     "text": [
      "/var/folders/9g/fkvk1rlx44s9k648bkf78ssx5xtbf8/T/ipykernel_36378/481835537.py:79: FutureWarning: Passing a set as an indexer is deprecated and will raise in a future version. Use a list instead.\n",
      "  df_out_of_simple_returns = preproc.get_simple_returns_from_prices(df_out_of_sample[communal_assets]).dropna()\n"
     ]
    },
    {
     "name": "stdout",
     "output_type": "stream",
     "text": [
      "7/7 [==============================] - 0s 796us/step\n",
      "7/7 [==============================] - 0s 925us/step\n",
      "3/3 [==============================] - 0s 1ms/step\n",
      "2018-01\n"
     ]
    },
    {
     "name": "stderr",
     "output_type": "stream",
     "text": [
      "/var/folders/9g/fkvk1rlx44s9k648bkf78ssx5xtbf8/T/ipykernel_36378/481835537.py:79: FutureWarning: Passing a set as an indexer is deprecated and will raise in a future version. Use a list instead.\n",
      "  df_out_of_simple_returns = preproc.get_simple_returns_from_prices(df_out_of_sample[communal_assets]).dropna()\n"
     ]
    },
    {
     "name": "stdout",
     "output_type": "stream",
     "text": [
      "7/7 [==============================] - 0s 1ms/step\n",
      "7/7 [==============================] - 0s 898us/step\n",
      "3/3 [==============================] - 0s 1ms/step\n",
      "2015-01\n"
     ]
    },
    {
     "name": "stderr",
     "output_type": "stream",
     "text": [
      "/var/folders/9g/fkvk1rlx44s9k648bkf78ssx5xtbf8/T/ipykernel_36378/481835537.py:79: FutureWarning: Passing a set as an indexer is deprecated and will raise in a future version. Use a list instead.\n",
      "  df_out_of_simple_returns = preproc.get_simple_returns_from_prices(df_out_of_sample[communal_assets]).dropna()\n"
     ]
    },
    {
     "name": "stdout",
     "output_type": "stream",
     "text": [
      "7/7 [==============================] - 0s 949us/step\n",
      "7/7 [==============================] - 0s 1ms/step\n",
      "3/3 [==============================] - 0s 1ms/step\n",
      "2020-01\n"
     ]
    },
    {
     "name": "stderr",
     "output_type": "stream",
     "text": [
      "/var/folders/9g/fkvk1rlx44s9k648bkf78ssx5xtbf8/T/ipykernel_36378/481835537.py:79: FutureWarning: Passing a set as an indexer is deprecated and will raise in a future version. Use a list instead.\n",
      "  df_out_of_simple_returns = preproc.get_simple_returns_from_prices(df_out_of_sample[communal_assets]).dropna()\n"
     ]
    },
    {
     "name": "stdout",
     "output_type": "stream",
     "text": [
      "7/7 [==============================] - 0s 886us/step\n",
      "7/7 [==============================] - 0s 840us/step\n",
      "3/3 [==============================] - 0s 1ms/step\n",
      "2021-01\n"
     ]
    },
    {
     "name": "stderr",
     "output_type": "stream",
     "text": [
      "/var/folders/9g/fkvk1rlx44s9k648bkf78ssx5xtbf8/T/ipykernel_36378/481835537.py:79: FutureWarning: Passing a set as an indexer is deprecated and will raise in a future version. Use a list instead.\n",
      "  df_out_of_simple_returns = preproc.get_simple_returns_from_prices(df_out_of_sample[communal_assets]).dropna()\n"
     ]
    },
    {
     "name": "stdout",
     "output_type": "stream",
     "text": [
      "7/7 [==============================] - 0s 878us/step\n",
      "7/7 [==============================] - 0s 818us/step\n",
      "3/3 [==============================] - 0s 1ms/step\n",
      "2022-10\n"
     ]
    },
    {
     "name": "stderr",
     "output_type": "stream",
     "text": [
      "/var/folders/9g/fkvk1rlx44s9k648bkf78ssx5xtbf8/T/ipykernel_36378/481835537.py:79: FutureWarning: Passing a set as an indexer is deprecated and will raise in a future version. Use a list instead.\n",
      "  df_out_of_simple_returns = preproc.get_simple_returns_from_prices(df_out_of_sample[communal_assets]).dropna()\n"
     ]
    },
    {
     "name": "stdout",
     "output_type": "stream",
     "text": [
      "6/6 [==============================] - 0s 958us/step\n",
      "6/6 [==============================] - 0s 962us/step\n",
      "3/3 [==============================] - 0s 1ms/step\n",
      "2015-07\n"
     ]
    },
    {
     "name": "stderr",
     "output_type": "stream",
     "text": [
      "/var/folders/9g/fkvk1rlx44s9k648bkf78ssx5xtbf8/T/ipykernel_36378/481835537.py:79: FutureWarning: Passing a set as an indexer is deprecated and will raise in a future version. Use a list instead.\n",
      "  df_out_of_simple_returns = preproc.get_simple_returns_from_prices(df_out_of_sample[communal_assets]).dropna()\n"
     ]
    },
    {
     "name": "stdout",
     "output_type": "stream",
     "text": [
      "7/7 [==============================] - 0s 911us/step\n",
      "7/7 [==============================] - 0s 815us/step\n",
      "3/3 [==============================] - 0s 1ms/step\n",
      "2014-07\n"
     ]
    },
    {
     "name": "stderr",
     "output_type": "stream",
     "text": [
      "/var/folders/9g/fkvk1rlx44s9k648bkf78ssx5xtbf8/T/ipykernel_36378/481835537.py:79: FutureWarning: Passing a set as an indexer is deprecated and will raise in a future version. Use a list instead.\n",
      "  df_out_of_simple_returns = preproc.get_simple_returns_from_prices(df_out_of_sample[communal_assets]).dropna()\n"
     ]
    },
    {
     "name": "stdout",
     "output_type": "stream",
     "text": [
      "7/7 [==============================] - 0s 978us/step\n",
      "7/7 [==============================] - 0s 1ms/step\n",
      "3/3 [==============================] - 0s 1ms/step\n",
      "2017-04\n"
     ]
    },
    {
     "name": "stderr",
     "output_type": "stream",
     "text": [
      "/var/folders/9g/fkvk1rlx44s9k648bkf78ssx5xtbf8/T/ipykernel_36378/481835537.py:79: FutureWarning: Passing a set as an indexer is deprecated and will raise in a future version. Use a list instead.\n",
      "  df_out_of_simple_returns = preproc.get_simple_returns_from_prices(df_out_of_sample[communal_assets]).dropna()\n"
     ]
    },
    {
     "name": "stdout",
     "output_type": "stream",
     "text": [
      "7/7 [==============================] - 0s 820us/step\n",
      "7/7 [==============================] - 0s 851us/step\n",
      "3/3 [==============================] - 0s 1ms/step\n",
      "2016-04\n"
     ]
    },
    {
     "name": "stderr",
     "output_type": "stream",
     "text": [
      "/var/folders/9g/fkvk1rlx44s9k648bkf78ssx5xtbf8/T/ipykernel_36378/481835537.py:79: FutureWarning: Passing a set as an indexer is deprecated and will raise in a future version. Use a list instead.\n",
      "  df_out_of_simple_returns = preproc.get_simple_returns_from_prices(df_out_of_sample[communal_assets]).dropna()\n"
     ]
    },
    {
     "name": "stdout",
     "output_type": "stream",
     "text": [
      "7/7 [==============================] - 0s 859us/step\n",
      "7/7 [==============================] - 0s 868us/step\n",
      "3/3 [==============================] - 0s 1ms/step\n",
      "2023-04\n"
     ]
    },
    {
     "name": "stderr",
     "output_type": "stream",
     "text": [
      "/var/folders/9g/fkvk1rlx44s9k648bkf78ssx5xtbf8/T/ipykernel_36378/481835537.py:79: FutureWarning: Passing a set as an indexer is deprecated and will raise in a future version. Use a list instead.\n",
      "  df_out_of_simple_returns = preproc.get_simple_returns_from_prices(df_out_of_sample[communal_assets]).dropna()\n"
     ]
    },
    {
     "name": "stdout",
     "output_type": "stream",
     "text": [
      "5/5 [==============================] - 0s 1ms/step\n",
      "5/5 [==============================] - 0s 915us/step\n",
      "3/3 [==============================] - 0s 1ms/step\n",
      "2021-07\n"
     ]
    },
    {
     "name": "stderr",
     "output_type": "stream",
     "text": [
      "/var/folders/9g/fkvk1rlx44s9k648bkf78ssx5xtbf8/T/ipykernel_36378/481835537.py:79: FutureWarning: Passing a set as an indexer is deprecated and will raise in a future version. Use a list instead.\n",
      "  df_out_of_simple_returns = preproc.get_simple_returns_from_prices(df_out_of_sample[communal_assets]).dropna()\n"
     ]
    },
    {
     "name": "stdout",
     "output_type": "stream",
     "text": [
      "7/7 [==============================] - 0s 916us/step\n",
      "7/7 [==============================] - 0s 1ms/step\n",
      "3/3 [==============================] - 0s 1ms/step\n",
      "2020-07\n"
     ]
    },
    {
     "name": "stderr",
     "output_type": "stream",
     "text": [
      "/var/folders/9g/fkvk1rlx44s9k648bkf78ssx5xtbf8/T/ipykernel_36378/481835537.py:79: FutureWarning: Passing a set as an indexer is deprecated and will raise in a future version. Use a list instead.\n",
      "  df_out_of_simple_returns = preproc.get_simple_returns_from_prices(df_out_of_sample[communal_assets]).dropna()\n"
     ]
    },
    {
     "name": "stdout",
     "output_type": "stream",
     "text": [
      "7/7 [==============================] - 0s 870us/step\n",
      "7/7 [==============================] - 0s 768us/step\n",
      "3/3 [==============================] - 0s 1ms/step\n",
      "2016-10\n"
     ]
    },
    {
     "name": "stderr",
     "output_type": "stream",
     "text": [
      "/var/folders/9g/fkvk1rlx44s9k648bkf78ssx5xtbf8/T/ipykernel_36378/481835537.py:79: FutureWarning: Passing a set as an indexer is deprecated and will raise in a future version. Use a list instead.\n",
      "  df_out_of_simple_returns = preproc.get_simple_returns_from_prices(df_out_of_sample[communal_assets]).dropna()\n"
     ]
    },
    {
     "name": "stdout",
     "output_type": "stream",
     "text": [
      "7/7 [==============================] - 0s 798us/step\n",
      "7/7 [==============================] - 0s 885us/step\n",
      "3/3 [==============================] - 0s 1ms/step\n",
      "2017-10\n"
     ]
    },
    {
     "name": "stderr",
     "output_type": "stream",
     "text": [
      "/var/folders/9g/fkvk1rlx44s9k648bkf78ssx5xtbf8/T/ipykernel_36378/481835537.py:79: FutureWarning: Passing a set as an indexer is deprecated and will raise in a future version. Use a list instead.\n",
      "  df_out_of_simple_returns = preproc.get_simple_returns_from_prices(df_out_of_sample[communal_assets]).dropna()\n"
     ]
    },
    {
     "name": "stdout",
     "output_type": "stream",
     "text": [
      "7/7 [==============================] - 0s 854us/step\n",
      "7/7 [==============================] - 0s 979us/step\n",
      "3/3 [==============================] - 0s 1ms/step\n",
      "2019-04\n"
     ]
    },
    {
     "name": "stderr",
     "output_type": "stream",
     "text": [
      "/var/folders/9g/fkvk1rlx44s9k648bkf78ssx5xtbf8/T/ipykernel_36378/481835537.py:79: FutureWarning: Passing a set as an indexer is deprecated and will raise in a future version. Use a list instead.\n",
      "  df_out_of_simple_returns = preproc.get_simple_returns_from_prices(df_out_of_sample[communal_assets]).dropna()\n"
     ]
    },
    {
     "name": "stdout",
     "output_type": "stream",
     "text": [
      "7/7 [==============================] - 0s 874us/step\n",
      "7/7 [==============================] - 0s 7ms/step\n",
      "3/3 [==============================] - 0s 1ms/step\n",
      "2018-04\n"
     ]
    },
    {
     "name": "stderr",
     "output_type": "stream",
     "text": [
      "/var/folders/9g/fkvk1rlx44s9k648bkf78ssx5xtbf8/T/ipykernel_36378/481835537.py:79: FutureWarning: Passing a set as an indexer is deprecated and will raise in a future version. Use a list instead.\n",
      "  df_out_of_simple_returns = preproc.get_simple_returns_from_prices(df_out_of_sample[communal_assets]).dropna()\n"
     ]
    },
    {
     "name": "stdout",
     "output_type": "stream",
     "text": [
      "7/7 [==============================] - 0s 1ms/step\n",
      "7/7 [==============================] - 0s 1ms/step\n",
      "3/3 [==============================] - 0s 2ms/step\n",
      "2018-10\n"
     ]
    },
    {
     "name": "stderr",
     "output_type": "stream",
     "text": [
      "/var/folders/9g/fkvk1rlx44s9k648bkf78ssx5xtbf8/T/ipykernel_36378/481835537.py:79: FutureWarning: Passing a set as an indexer is deprecated and will raise in a future version. Use a list instead.\n",
      "  df_out_of_simple_returns = preproc.get_simple_returns_from_prices(df_out_of_sample[communal_assets]).dropna()\n"
     ]
    },
    {
     "name": "stdout",
     "output_type": "stream",
     "text": [
      "7/7 [==============================] - 0s 1ms/step\n",
      "7/7 [==============================] - 0s 1ms/step\n",
      "3/3 [==============================] - 0s 2ms/step\n",
      "2019-10\n"
     ]
    },
    {
     "name": "stderr",
     "output_type": "stream",
     "text": [
      "/var/folders/9g/fkvk1rlx44s9k648bkf78ssx5xtbf8/T/ipykernel_36378/481835537.py:79: FutureWarning: Passing a set as an indexer is deprecated and will raise in a future version. Use a list instead.\n",
      "  df_out_of_simple_returns = preproc.get_simple_returns_from_prices(df_out_of_sample[communal_assets]).dropna()\n"
     ]
    },
    {
     "name": "stdout",
     "output_type": "stream",
     "text": [
      "7/7 [==============================] - 0s 946us/step\n",
      "7/7 [==============================] - 0s 1ms/step\n",
      "3/3 [==============================] - 0s 2ms/step\n",
      "2020-04\n"
     ]
    },
    {
     "name": "stderr",
     "output_type": "stream",
     "text": [
      "/var/folders/9g/fkvk1rlx44s9k648bkf78ssx5xtbf8/T/ipykernel_36378/481835537.py:79: FutureWarning: Passing a set as an indexer is deprecated and will raise in a future version. Use a list instead.\n",
      "  df_out_of_simple_returns = preproc.get_simple_returns_from_prices(df_out_of_sample[communal_assets]).dropna()\n"
     ]
    },
    {
     "name": "stdout",
     "output_type": "stream",
     "text": [
      "7/7 [==============================] - 0s 1ms/step\n",
      "7/7 [==============================] - 0s 983us/step\n",
      "3/3 [==============================] - 0s 1ms/step\n",
      "2021-04\n"
     ]
    },
    {
     "name": "stderr",
     "output_type": "stream",
     "text": [
      "/var/folders/9g/fkvk1rlx44s9k648bkf78ssx5xtbf8/T/ipykernel_36378/481835537.py:79: FutureWarning: Passing a set as an indexer is deprecated and will raise in a future version. Use a list instead.\n",
      "  df_out_of_simple_returns = preproc.get_simple_returns_from_prices(df_out_of_sample[communal_assets]).dropna()\n"
     ]
    },
    {
     "name": "stdout",
     "output_type": "stream",
     "text": [
      "7/7 [==============================] - 0s 2ms/step\n",
      "7/7 [==============================] - 0s 1ms/step\n",
      "3/3 [==============================] - 0s 2ms/step\n",
      "2022-07\n"
     ]
    },
    {
     "name": "stderr",
     "output_type": "stream",
     "text": [
      "/var/folders/9g/fkvk1rlx44s9k648bkf78ssx5xtbf8/T/ipykernel_36378/481835537.py:79: FutureWarning: Passing a set as an indexer is deprecated and will raise in a future version. Use a list instead.\n",
      "  df_out_of_simple_returns = preproc.get_simple_returns_from_prices(df_out_of_sample[communal_assets]).dropna()\n"
     ]
    },
    {
     "name": "stdout",
     "output_type": "stream",
     "text": [
      "7/7 [==============================] - 0s 951us/step\n",
      "7/7 [==============================] - 0s 951us/step\n",
      "3/3 [==============================] - 0s 1ms/step\n",
      "2015-10\n"
     ]
    },
    {
     "name": "stderr",
     "output_type": "stream",
     "text": [
      "/var/folders/9g/fkvk1rlx44s9k648bkf78ssx5xtbf8/T/ipykernel_36378/481835537.py:79: FutureWarning: Passing a set as an indexer is deprecated and will raise in a future version. Use a list instead.\n",
      "  df_out_of_simple_returns = preproc.get_simple_returns_from_prices(df_out_of_sample[communal_assets]).dropna()\n"
     ]
    },
    {
     "name": "stdout",
     "output_type": "stream",
     "text": [
      "7/7 [==============================] - 0s 939us/step\n",
      "7/7 [==============================] - 0s 1ms/step\n",
      "3/3 [==============================] - 0s 2ms/step\n",
      "2014-10\n"
     ]
    },
    {
     "name": "stderr",
     "output_type": "stream",
     "text": [
      "/var/folders/9g/fkvk1rlx44s9k648bkf78ssx5xtbf8/T/ipykernel_36378/481835537.py:79: FutureWarning: Passing a set as an indexer is deprecated and will raise in a future version. Use a list instead.\n",
      "  df_out_of_simple_returns = preproc.get_simple_returns_from_prices(df_out_of_sample[communal_assets]).dropna()\n"
     ]
    },
    {
     "name": "stdout",
     "output_type": "stream",
     "text": [
      "7/7 [==============================] - 0s 1ms/step\n",
      "7/7 [==============================] - 0s 831us/step\n",
      "3/3 [==============================] - 0s 1ms/step\n",
      "2021-10\n"
     ]
    },
    {
     "name": "stderr",
     "output_type": "stream",
     "text": [
      "/var/folders/9g/fkvk1rlx44s9k648bkf78ssx5xtbf8/T/ipykernel_36378/481835537.py:79: FutureWarning: Passing a set as an indexer is deprecated and will raise in a future version. Use a list instead.\n",
      "  df_out_of_simple_returns = preproc.get_simple_returns_from_prices(df_out_of_sample[communal_assets]).dropna()\n"
     ]
    },
    {
     "name": "stdout",
     "output_type": "stream",
     "text": [
      "6/6 [==============================] - 0s 894us/step\n",
      "6/6 [==============================] - 0s 971us/step\n",
      "3/3 [==============================] - 0s 3ms/step\n",
      "2020-10\n"
     ]
    },
    {
     "name": "stderr",
     "output_type": "stream",
     "text": [
      "/var/folders/9g/fkvk1rlx44s9k648bkf78ssx5xtbf8/T/ipykernel_36378/481835537.py:79: FutureWarning: Passing a set as an indexer is deprecated and will raise in a future version. Use a list instead.\n",
      "  df_out_of_simple_returns = preproc.get_simple_returns_from_prices(df_out_of_sample[communal_assets]).dropna()\n"
     ]
    },
    {
     "name": "stdout",
     "output_type": "stream",
     "text": [
      "7/7 [==============================] - 0s 1ms/step\n",
      "7/7 [==============================] - 0s 959us/step\n",
      "3/3 [==============================] - 0s 1ms/step\n",
      "2016-07\n"
     ]
    },
    {
     "name": "stderr",
     "output_type": "stream",
     "text": [
      "/var/folders/9g/fkvk1rlx44s9k648bkf78ssx5xtbf8/T/ipykernel_36378/481835537.py:79: FutureWarning: Passing a set as an indexer is deprecated and will raise in a future version. Use a list instead.\n",
      "  df_out_of_simple_returns = preproc.get_simple_returns_from_prices(df_out_of_sample[communal_assets]).dropna()\n"
     ]
    },
    {
     "name": "stdout",
     "output_type": "stream",
     "text": [
      "7/7 [==============================] - 0s 902us/step\n",
      "7/7 [==============================] - 0s 1ms/step\n",
      "3/3 [==============================] - 0s 2ms/step\n",
      "2017-07\n"
     ]
    },
    {
     "name": "stderr",
     "output_type": "stream",
     "text": [
      "/var/folders/9g/fkvk1rlx44s9k648bkf78ssx5xtbf8/T/ipykernel_36378/481835537.py:79: FutureWarning: Passing a set as an indexer is deprecated and will raise in a future version. Use a list instead.\n",
      "  df_out_of_simple_returns = preproc.get_simple_returns_from_prices(df_out_of_sample[communal_assets]).dropna()\n"
     ]
    },
    {
     "name": "stdout",
     "output_type": "stream",
     "text": [
      "7/7 [==============================] - 0s 2ms/step\n",
      "7/7 [==============================] - 0s 1ms/step\n",
      "3/3 [==============================] - 0s 1ms/step\n",
      "2014-04\n"
     ]
    },
    {
     "name": "stderr",
     "output_type": "stream",
     "text": [
      "/var/folders/9g/fkvk1rlx44s9k648bkf78ssx5xtbf8/T/ipykernel_36378/481835537.py:79: FutureWarning: Passing a set as an indexer is deprecated and will raise in a future version. Use a list instead.\n",
      "  df_out_of_simple_returns = preproc.get_simple_returns_from_prices(df_out_of_sample[communal_assets]).dropna()\n"
     ]
    },
    {
     "name": "stdout",
     "output_type": "stream",
     "text": [
      "7/7 [==============================] - 0s 1ms/step\n",
      "7/7 [==============================] - 0s 861us/step\n",
      "3/3 [==============================] - 0s 1ms/step\n",
      "2015-04\n"
     ]
    },
    {
     "name": "stderr",
     "output_type": "stream",
     "text": [
      "/var/folders/9g/fkvk1rlx44s9k648bkf78ssx5xtbf8/T/ipykernel_36378/481835537.py:79: FutureWarning: Passing a set as an indexer is deprecated and will raise in a future version. Use a list instead.\n",
      "  df_out_of_simple_returns = preproc.get_simple_returns_from_prices(df_out_of_sample[communal_assets]).dropna()\n"
     ]
    },
    {
     "name": "stdout",
     "output_type": "stream",
     "text": [
      "7/7 [==============================] - 0s 924us/step\n",
      "7/7 [==============================] - 0s 889us/step\n",
      "3/3 [==============================] - 0s 1ms/step\n",
      "2023-01\n"
     ]
    },
    {
     "name": "stderr",
     "output_type": "stream",
     "text": [
      "/var/folders/9g/fkvk1rlx44s9k648bkf78ssx5xtbf8/T/ipykernel_36378/481835537.py:79: FutureWarning: Passing a set as an indexer is deprecated and will raise in a future version. Use a list instead.\n",
      "  df_out_of_simple_returns = preproc.get_simple_returns_from_prices(df_out_of_sample[communal_assets]).dropna()\n"
     ]
    },
    {
     "name": "stdout",
     "output_type": "stream",
     "text": [
      "7/7 [==============================] - 0s 1ms/step\n",
      "7/7 [==============================] - 0s 854us/step\n",
      "3/3 [==============================] - 0s 1ms/step\n",
      "2022-01\n"
     ]
    },
    {
     "name": "stderr",
     "output_type": "stream",
     "text": [
      "/var/folders/9g/fkvk1rlx44s9k648bkf78ssx5xtbf8/T/ipykernel_36378/481835537.py:79: FutureWarning: Passing a set as an indexer is deprecated and will raise in a future version. Use a list instead.\n",
      "  df_out_of_simple_returns = preproc.get_simple_returns_from_prices(df_out_of_sample[communal_assets]).dropna()\n"
     ]
    },
    {
     "name": "stdout",
     "output_type": "stream",
     "text": [
      "7/7 [==============================] - 0s 1ms/step\n",
      "7/7 [==============================] - 0s 949us/step\n",
      "3/3 [==============================] - 0s 2ms/step\n",
      "2017-01\n"
     ]
    },
    {
     "name": "stderr",
     "output_type": "stream",
     "text": [
      "/var/folders/9g/fkvk1rlx44s9k648bkf78ssx5xtbf8/T/ipykernel_36378/481835537.py:79: FutureWarning: Passing a set as an indexer is deprecated and will raise in a future version. Use a list instead.\n",
      "  df_out_of_simple_returns = preproc.get_simple_returns_from_prices(df_out_of_sample[communal_assets]).dropna()\n"
     ]
    },
    {
     "name": "stdout",
     "output_type": "stream",
     "text": [
      "7/7 [==============================] - 0s 915us/step\n",
      "7/7 [==============================] - 0s 883us/step\n",
      "3/3 [==============================] - 0s 3ms/step\n",
      "2016-01\n"
     ]
    },
    {
     "name": "stderr",
     "output_type": "stream",
     "text": [
      "/var/folders/9g/fkvk1rlx44s9k648bkf78ssx5xtbf8/T/ipykernel_36378/481835537.py:79: FutureWarning: Passing a set as an indexer is deprecated and will raise in a future version. Use a list instead.\n",
      "  df_out_of_simple_returns = preproc.get_simple_returns_from_prices(df_out_of_sample[communal_assets]).dropna()\n"
     ]
    },
    {
     "name": "stdout",
     "output_type": "stream",
     "text": [
      "7/7 [==============================] - 0s 1ms/step\n",
      "7/7 [==============================] - 0s 1ms/step\n",
      "3/3 [==============================] - 0s 1ms/step\n"
     ]
    },
    {
     "name": "stderr",
     "output_type": "stream",
     "text": [
      "/var/folders/9g/fkvk1rlx44s9k648bkf78ssx5xtbf8/T/ipykernel_36378/481835537.py:79: FutureWarning: Passing a set as an indexer is deprecated and will raise in a future version. Use a list instead.\n",
      "  df_out_of_simple_returns = preproc.get_simple_returns_from_prices(df_out_of_sample[communal_assets]).dropna()\n"
     ]
    },
    {
     "name": "stdout",
     "output_type": "stream",
     "text": [
      "2018-07\n",
      "7/7 [==============================] - 0s 1ms/step\n",
      "7/7 [==============================] - 0s 875us/step\n",
      "3/3 [==============================] - 0s 1ms/step\n",
      "2019-07\n"
     ]
    },
    {
     "name": "stderr",
     "output_type": "stream",
     "text": [
      "/var/folders/9g/fkvk1rlx44s9k648bkf78ssx5xtbf8/T/ipykernel_36378/481835537.py:79: FutureWarning: Passing a set as an indexer is deprecated and will raise in a future version. Use a list instead.\n",
      "  df_out_of_simple_returns = preproc.get_simple_returns_from_prices(df_out_of_sample[communal_assets]).dropna()\n"
     ]
    },
    {
     "name": "stdout",
     "output_type": "stream",
     "text": [
      "7/7 [==============================] - 0s 2ms/step\n",
      "7/7 [==============================] - 0s 983us/step\n",
      "3/3 [==============================] - 0s 1ms/step\n",
      "2019-01\n"
     ]
    },
    {
     "name": "stderr",
     "output_type": "stream",
     "text": [
      "/var/folders/9g/fkvk1rlx44s9k648bkf78ssx5xtbf8/T/ipykernel_36378/481835537.py:79: FutureWarning: Passing a set as an indexer is deprecated and will raise in a future version. Use a list instead.\n",
      "  df_out_of_simple_returns = preproc.get_simple_returns_from_prices(df_out_of_sample[communal_assets]).dropna()\n"
     ]
    },
    {
     "name": "stdout",
     "output_type": "stream",
     "text": [
      "7/7 [==============================] - 0s 902us/step\n",
      "7/7 [==============================] - 0s 1ms/step\n",
      "3/3 [==============================] - 0s 1ms/step\n",
      "2018-01\n"
     ]
    },
    {
     "name": "stderr",
     "output_type": "stream",
     "text": [
      "/var/folders/9g/fkvk1rlx44s9k648bkf78ssx5xtbf8/T/ipykernel_36378/481835537.py:79: FutureWarning: Passing a set as an indexer is deprecated and will raise in a future version. Use a list instead.\n",
      "  df_out_of_simple_returns = preproc.get_simple_returns_from_prices(df_out_of_sample[communal_assets]).dropna()\n"
     ]
    },
    {
     "name": "stdout",
     "output_type": "stream",
     "text": [
      "7/7 [==============================] - 0s 899us/step\n",
      "7/7 [==============================] - 0s 970us/step\n",
      "3/3 [==============================] - 0s 1ms/step\n",
      "2015-01\n"
     ]
    },
    {
     "name": "stderr",
     "output_type": "stream",
     "text": [
      "/var/folders/9g/fkvk1rlx44s9k648bkf78ssx5xtbf8/T/ipykernel_36378/481835537.py:79: FutureWarning: Passing a set as an indexer is deprecated and will raise in a future version. Use a list instead.\n",
      "  df_out_of_simple_returns = preproc.get_simple_returns_from_prices(df_out_of_sample[communal_assets]).dropna()\n"
     ]
    },
    {
     "name": "stdout",
     "output_type": "stream",
     "text": [
      "7/7 [==============================] - 0s 949us/step\n",
      "7/7 [==============================] - 0s 1ms/step\n",
      "3/3 [==============================] - 0s 1ms/step\n",
      "2020-01\n"
     ]
    },
    {
     "name": "stderr",
     "output_type": "stream",
     "text": [
      "/var/folders/9g/fkvk1rlx44s9k648bkf78ssx5xtbf8/T/ipykernel_36378/481835537.py:79: FutureWarning: Passing a set as an indexer is deprecated and will raise in a future version. Use a list instead.\n",
      "  df_out_of_simple_returns = preproc.get_simple_returns_from_prices(df_out_of_sample[communal_assets]).dropna()\n"
     ]
    },
    {
     "name": "stdout",
     "output_type": "stream",
     "text": [
      "7/7 [==============================] - 0s 864us/step\n",
      "7/7 [==============================] - 0s 1ms/step\n",
      "3/3 [==============================] - 0s 2ms/step\n",
      "2021-01\n"
     ]
    },
    {
     "name": "stderr",
     "output_type": "stream",
     "text": [
      "/var/folders/9g/fkvk1rlx44s9k648bkf78ssx5xtbf8/T/ipykernel_36378/481835537.py:79: FutureWarning: Passing a set as an indexer is deprecated and will raise in a future version. Use a list instead.\n",
      "  df_out_of_simple_returns = preproc.get_simple_returns_from_prices(df_out_of_sample[communal_assets]).dropna()\n"
     ]
    },
    {
     "name": "stdout",
     "output_type": "stream",
     "text": [
      "7/7 [==============================] - 0s 1ms/step\n",
      "7/7 [==============================] - 0s 1ms/step\n",
      "3/3 [==============================] - 0s 1ms/step\n",
      "2022-10\n"
     ]
    },
    {
     "name": "stderr",
     "output_type": "stream",
     "text": [
      "/var/folders/9g/fkvk1rlx44s9k648bkf78ssx5xtbf8/T/ipykernel_36378/481835537.py:79: FutureWarning: Passing a set as an indexer is deprecated and will raise in a future version. Use a list instead.\n",
      "  df_out_of_simple_returns = preproc.get_simple_returns_from_prices(df_out_of_sample[communal_assets]).dropna()\n"
     ]
    },
    {
     "name": "stdout",
     "output_type": "stream",
     "text": [
      "6/6 [==============================] - 0s 2ms/step\n",
      "6/6 [==============================] - 0s 975us/step\n",
      "3/3 [==============================] - 0s 2ms/step\n",
      "2015-07\n"
     ]
    },
    {
     "name": "stderr",
     "output_type": "stream",
     "text": [
      "/var/folders/9g/fkvk1rlx44s9k648bkf78ssx5xtbf8/T/ipykernel_36378/481835537.py:79: FutureWarning: Passing a set as an indexer is deprecated and will raise in a future version. Use a list instead.\n",
      "  df_out_of_simple_returns = preproc.get_simple_returns_from_prices(df_out_of_sample[communal_assets]).dropna()\n"
     ]
    },
    {
     "name": "stdout",
     "output_type": "stream",
     "text": [
      "7/7 [==============================] - 0s 1ms/step\n",
      "7/7 [==============================] - 0s 956us/step\n",
      "3/3 [==============================] - 0s 2ms/step\n",
      "2014-07\n"
     ]
    },
    {
     "name": "stderr",
     "output_type": "stream",
     "text": [
      "/var/folders/9g/fkvk1rlx44s9k648bkf78ssx5xtbf8/T/ipykernel_36378/481835537.py:79: FutureWarning: Passing a set as an indexer is deprecated and will raise in a future version. Use a list instead.\n",
      "  df_out_of_simple_returns = preproc.get_simple_returns_from_prices(df_out_of_sample[communal_assets]).dropna()\n"
     ]
    },
    {
     "name": "stdout",
     "output_type": "stream",
     "text": [
      "7/7 [==============================] - 0s 1ms/step\n",
      "7/7 [==============================] - 0s 967us/step\n",
      "3/3 [==============================] - 0s 1ms/step\n",
      "2017-04\n"
     ]
    },
    {
     "name": "stderr",
     "output_type": "stream",
     "text": [
      "/var/folders/9g/fkvk1rlx44s9k648bkf78ssx5xtbf8/T/ipykernel_36378/481835537.py:79: FutureWarning: Passing a set as an indexer is deprecated and will raise in a future version. Use a list instead.\n",
      "  df_out_of_simple_returns = preproc.get_simple_returns_from_prices(df_out_of_sample[communal_assets]).dropna()\n"
     ]
    },
    {
     "name": "stdout",
     "output_type": "stream",
     "text": [
      "7/7 [==============================] - 0s 1ms/step\n",
      "7/7 [==============================] - 0s 947us/step\n",
      "3/3 [==============================] - 0s 2ms/step\n",
      "2016-04\n"
     ]
    },
    {
     "name": "stderr",
     "output_type": "stream",
     "text": [
      "/var/folders/9g/fkvk1rlx44s9k648bkf78ssx5xtbf8/T/ipykernel_36378/481835537.py:79: FutureWarning: Passing a set as an indexer is deprecated and will raise in a future version. Use a list instead.\n",
      "  df_out_of_simple_returns = preproc.get_simple_returns_from_prices(df_out_of_sample[communal_assets]).dropna()\n"
     ]
    },
    {
     "name": "stdout",
     "output_type": "stream",
     "text": [
      "7/7 [==============================] - 0s 2ms/step\n",
      "7/7 [==============================] - 0s 1ms/step\n",
      "3/3 [==============================] - 0s 1ms/step\n",
      "2023-04\n"
     ]
    },
    {
     "name": "stderr",
     "output_type": "stream",
     "text": [
      "/var/folders/9g/fkvk1rlx44s9k648bkf78ssx5xtbf8/T/ipykernel_36378/481835537.py:79: FutureWarning: Passing a set as an indexer is deprecated and will raise in a future version. Use a list instead.\n",
      "  df_out_of_simple_returns = preproc.get_simple_returns_from_prices(df_out_of_sample[communal_assets]).dropna()\n"
     ]
    },
    {
     "name": "stdout",
     "output_type": "stream",
     "text": [
      "5/5 [==============================] - 0s 1ms/step\n",
      "5/5 [==============================] - 0s 2ms/step\n",
      "3/3 [==============================] - 0s 2ms/step\n",
      "2021-07\n"
     ]
    },
    {
     "name": "stderr",
     "output_type": "stream",
     "text": [
      "/var/folders/9g/fkvk1rlx44s9k648bkf78ssx5xtbf8/T/ipykernel_36378/481835537.py:79: FutureWarning: Passing a set as an indexer is deprecated and will raise in a future version. Use a list instead.\n",
      "  df_out_of_simple_returns = preproc.get_simple_returns_from_prices(df_out_of_sample[communal_assets]).dropna()\n"
     ]
    },
    {
     "name": "stdout",
     "output_type": "stream",
     "text": [
      "7/7 [==============================] - 0s 1ms/step\n",
      "7/7 [==============================] - 0s 1ms/step\n",
      "3/3 [==============================] - 0s 1ms/step\n",
      "2020-07\n"
     ]
    },
    {
     "name": "stderr",
     "output_type": "stream",
     "text": [
      "/var/folders/9g/fkvk1rlx44s9k648bkf78ssx5xtbf8/T/ipykernel_36378/481835537.py:79: FutureWarning: Passing a set as an indexer is deprecated and will raise in a future version. Use a list instead.\n",
      "  df_out_of_simple_returns = preproc.get_simple_returns_from_prices(df_out_of_sample[communal_assets]).dropna()\n"
     ]
    },
    {
     "name": "stdout",
     "output_type": "stream",
     "text": [
      "7/7 [==============================] - 0s 1ms/step\n",
      "7/7 [==============================] - 0s 1ms/step\n",
      "3/3 [==============================] - 0s 1ms/step\n",
      "2016-10\n"
     ]
    },
    {
     "name": "stderr",
     "output_type": "stream",
     "text": [
      "/var/folders/9g/fkvk1rlx44s9k648bkf78ssx5xtbf8/T/ipykernel_36378/481835537.py:79: FutureWarning: Passing a set as an indexer is deprecated and will raise in a future version. Use a list instead.\n",
      "  df_out_of_simple_returns = preproc.get_simple_returns_from_prices(df_out_of_sample[communal_assets]).dropna()\n"
     ]
    },
    {
     "name": "stdout",
     "output_type": "stream",
     "text": [
      "7/7 [==============================] - 0s 2ms/step\n",
      "7/7 [==============================] - 0s 1ms/step\n",
      "3/3 [==============================] - 0s 2ms/step\n",
      "2017-10\n"
     ]
    },
    {
     "name": "stderr",
     "output_type": "stream",
     "text": [
      "/var/folders/9g/fkvk1rlx44s9k648bkf78ssx5xtbf8/T/ipykernel_36378/481835537.py:79: FutureWarning: Passing a set as an indexer is deprecated and will raise in a future version. Use a list instead.\n",
      "  df_out_of_simple_returns = preproc.get_simple_returns_from_prices(df_out_of_sample[communal_assets]).dropna()\n"
     ]
    },
    {
     "name": "stdout",
     "output_type": "stream",
     "text": [
      "7/7 [==============================] - 0s 1ms/step\n",
      "7/7 [==============================] - 0s 1ms/step\n",
      "3/3 [==============================] - 0s 1ms/step\n",
      "2019-04\n"
     ]
    },
    {
     "name": "stderr",
     "output_type": "stream",
     "text": [
      "/var/folders/9g/fkvk1rlx44s9k648bkf78ssx5xtbf8/T/ipykernel_36378/481835537.py:79: FutureWarning: Passing a set as an indexer is deprecated and will raise in a future version. Use a list instead.\n",
      "  df_out_of_simple_returns = preproc.get_simple_returns_from_prices(df_out_of_sample[communal_assets]).dropna()\n"
     ]
    },
    {
     "name": "stdout",
     "output_type": "stream",
     "text": [
      "7/7 [==============================] - 0s 920us/step\n",
      "7/7 [==============================] - 0s 958us/step\n",
      "3/3 [==============================] - 0s 2ms/step\n",
      "2018-04\n"
     ]
    },
    {
     "name": "stderr",
     "output_type": "stream",
     "text": [
      "/var/folders/9g/fkvk1rlx44s9k648bkf78ssx5xtbf8/T/ipykernel_36378/481835537.py:79: FutureWarning: Passing a set as an indexer is deprecated and will raise in a future version. Use a list instead.\n",
      "  df_out_of_simple_returns = preproc.get_simple_returns_from_prices(df_out_of_sample[communal_assets]).dropna()\n"
     ]
    },
    {
     "name": "stdout",
     "output_type": "stream",
     "text": [
      "7/7 [==============================] - 0s 995us/step\n",
      "7/7 [==============================] - 0s 1ms/step\n",
      "3/3 [==============================] - 0s 1ms/step\n",
      "2018-10\n"
     ]
    },
    {
     "name": "stderr",
     "output_type": "stream",
     "text": [
      "/var/folders/9g/fkvk1rlx44s9k648bkf78ssx5xtbf8/T/ipykernel_36378/481835537.py:79: FutureWarning: Passing a set as an indexer is deprecated and will raise in a future version. Use a list instead.\n",
      "  df_out_of_simple_returns = preproc.get_simple_returns_from_prices(df_out_of_sample[communal_assets]).dropna()\n"
     ]
    },
    {
     "name": "stdout",
     "output_type": "stream",
     "text": [
      "7/7 [==============================] - 0s 822us/step\n",
      "7/7 [==============================] - 0s 1ms/step\n",
      "3/3 [==============================] - 0s 2ms/step\n",
      "2019-10\n"
     ]
    },
    {
     "name": "stderr",
     "output_type": "stream",
     "text": [
      "/var/folders/9g/fkvk1rlx44s9k648bkf78ssx5xtbf8/T/ipykernel_36378/481835537.py:79: FutureWarning: Passing a set as an indexer is deprecated and will raise in a future version. Use a list instead.\n",
      "  df_out_of_simple_returns = preproc.get_simple_returns_from_prices(df_out_of_sample[communal_assets]).dropna()\n"
     ]
    },
    {
     "name": "stdout",
     "output_type": "stream",
     "text": [
      "7/7 [==============================] - 0s 1ms/step\n",
      "7/7 [==============================] - 0s 1ms/step\n",
      "3/3 [==============================] - 0s 1ms/step\n",
      "2020-04\n"
     ]
    },
    {
     "name": "stderr",
     "output_type": "stream",
     "text": [
      "/var/folders/9g/fkvk1rlx44s9k648bkf78ssx5xtbf8/T/ipykernel_36378/481835537.py:79: FutureWarning: Passing a set as an indexer is deprecated and will raise in a future version. Use a list instead.\n",
      "  df_out_of_simple_returns = preproc.get_simple_returns_from_prices(df_out_of_sample[communal_assets]).dropna()\n"
     ]
    },
    {
     "name": "stdout",
     "output_type": "stream",
     "text": [
      "7/7 [==============================] - 0s 2ms/step\n",
      "7/7 [==============================] - 0s 1ms/step\n",
      "3/3 [==============================] - 0s 2ms/step\n",
      "2021-04\n"
     ]
    },
    {
     "name": "stderr",
     "output_type": "stream",
     "text": [
      "/var/folders/9g/fkvk1rlx44s9k648bkf78ssx5xtbf8/T/ipykernel_36378/481835537.py:79: FutureWarning: Passing a set as an indexer is deprecated and will raise in a future version. Use a list instead.\n",
      "  df_out_of_simple_returns = preproc.get_simple_returns_from_prices(df_out_of_sample[communal_assets]).dropna()\n"
     ]
    },
    {
     "name": "stdout",
     "output_type": "stream",
     "text": [
      "7/7 [==============================] - 0s 927us/step\n",
      "7/7 [==============================] - 0s 991us/step\n",
      "3/3 [==============================] - 0s 1ms/step\n",
      "2022-07\n"
     ]
    },
    {
     "name": "stderr",
     "output_type": "stream",
     "text": [
      "/var/folders/9g/fkvk1rlx44s9k648bkf78ssx5xtbf8/T/ipykernel_36378/481835537.py:79: FutureWarning: Passing a set as an indexer is deprecated and will raise in a future version. Use a list instead.\n",
      "  df_out_of_simple_returns = preproc.get_simple_returns_from_prices(df_out_of_sample[communal_assets]).dropna()\n"
     ]
    },
    {
     "name": "stdout",
     "output_type": "stream",
     "text": [
      "7/7 [==============================] - 0s 938us/step\n",
      "7/7 [==============================] - 0s 1ms/step\n",
      "3/3 [==============================] - 0s 2ms/step\n",
      "2015-10\n"
     ]
    },
    {
     "name": "stderr",
     "output_type": "stream",
     "text": [
      "/var/folders/9g/fkvk1rlx44s9k648bkf78ssx5xtbf8/T/ipykernel_36378/481835537.py:79: FutureWarning: Passing a set as an indexer is deprecated and will raise in a future version. Use a list instead.\n",
      "  df_out_of_simple_returns = preproc.get_simple_returns_from_prices(df_out_of_sample[communal_assets]).dropna()\n"
     ]
    },
    {
     "name": "stdout",
     "output_type": "stream",
     "text": [
      "7/7 [==============================] - 0s 2ms/step\n",
      "7/7 [==============================] - 0s 925us/step\n",
      "3/3 [==============================] - 0s 1ms/step\n",
      "2014-10\n"
     ]
    },
    {
     "name": "stderr",
     "output_type": "stream",
     "text": [
      "/var/folders/9g/fkvk1rlx44s9k648bkf78ssx5xtbf8/T/ipykernel_36378/481835537.py:79: FutureWarning: Passing a set as an indexer is deprecated and will raise in a future version. Use a list instead.\n",
      "  df_out_of_simple_returns = preproc.get_simple_returns_from_prices(df_out_of_sample[communal_assets]).dropna()\n"
     ]
    },
    {
     "name": "stdout",
     "output_type": "stream",
     "text": [
      "7/7 [==============================] - 0s 877us/step\n",
      "7/7 [==============================] - 0s 923us/step\n",
      "3/3 [==============================] - 0s 2ms/step\n",
      "2021-10\n"
     ]
    },
    {
     "name": "stderr",
     "output_type": "stream",
     "text": [
      "/var/folders/9g/fkvk1rlx44s9k648bkf78ssx5xtbf8/T/ipykernel_36378/481835537.py:79: FutureWarning: Passing a set as an indexer is deprecated and will raise in a future version. Use a list instead.\n",
      "  df_out_of_simple_returns = preproc.get_simple_returns_from_prices(df_out_of_sample[communal_assets]).dropna()\n"
     ]
    },
    {
     "name": "stdout",
     "output_type": "stream",
     "text": [
      "6/6 [==============================] - 0s 1ms/step\n",
      "6/6 [==============================] - 0s 943us/step\n",
      "3/3 [==============================] - 0s 1ms/step\n",
      "2020-10\n"
     ]
    },
    {
     "name": "stderr",
     "output_type": "stream",
     "text": [
      "/var/folders/9g/fkvk1rlx44s9k648bkf78ssx5xtbf8/T/ipykernel_36378/481835537.py:79: FutureWarning: Passing a set as an indexer is deprecated and will raise in a future version. Use a list instead.\n",
      "  df_out_of_simple_returns = preproc.get_simple_returns_from_prices(df_out_of_sample[communal_assets]).dropna()\n"
     ]
    },
    {
     "name": "stdout",
     "output_type": "stream",
     "text": [
      "7/7 [==============================] - 0s 997us/step\n",
      "7/7 [==============================] - 0s 966us/step\n",
      "3/3 [==============================] - 0s 2ms/step\n",
      "2016-07\n"
     ]
    },
    {
     "name": "stderr",
     "output_type": "stream",
     "text": [
      "/var/folders/9g/fkvk1rlx44s9k648bkf78ssx5xtbf8/T/ipykernel_36378/481835537.py:79: FutureWarning: Passing a set as an indexer is deprecated and will raise in a future version. Use a list instead.\n",
      "  df_out_of_simple_returns = preproc.get_simple_returns_from_prices(df_out_of_sample[communal_assets]).dropna()\n"
     ]
    },
    {
     "name": "stdout",
     "output_type": "stream",
     "text": [
      "7/7 [==============================] - 0s 842us/step\n",
      "7/7 [==============================] - 0s 1ms/step\n",
      "3/3 [==============================] - 0s 3ms/step\n",
      "2017-07\n"
     ]
    },
    {
     "name": "stderr",
     "output_type": "stream",
     "text": [
      "/var/folders/9g/fkvk1rlx44s9k648bkf78ssx5xtbf8/T/ipykernel_36378/481835537.py:79: FutureWarning: Passing a set as an indexer is deprecated and will raise in a future version. Use a list instead.\n",
      "  df_out_of_simple_returns = preproc.get_simple_returns_from_prices(df_out_of_sample[communal_assets]).dropna()\n"
     ]
    },
    {
     "name": "stdout",
     "output_type": "stream",
     "text": [
      "7/7 [==============================] - 0s 897us/step\n",
      "7/7 [==============================] - 0s 1ms/step\n",
      "3/3 [==============================] - 0s 1ms/step\n",
      "2014-04\n"
     ]
    },
    {
     "name": "stderr",
     "output_type": "stream",
     "text": [
      "/var/folders/9g/fkvk1rlx44s9k648bkf78ssx5xtbf8/T/ipykernel_36378/481835537.py:79: FutureWarning: Passing a set as an indexer is deprecated and will raise in a future version. Use a list instead.\n",
      "  df_out_of_simple_returns = preproc.get_simple_returns_from_prices(df_out_of_sample[communal_assets]).dropna()\n"
     ]
    },
    {
     "name": "stdout",
     "output_type": "stream",
     "text": [
      "7/7 [==============================] - 0s 920us/step\n",
      "7/7 [==============================] - 0s 858us/step\n",
      "3/3 [==============================] - 0s 1ms/step\n",
      "2015-04\n"
     ]
    },
    {
     "name": "stderr",
     "output_type": "stream",
     "text": [
      "/var/folders/9g/fkvk1rlx44s9k648bkf78ssx5xtbf8/T/ipykernel_36378/481835537.py:79: FutureWarning: Passing a set as an indexer is deprecated and will raise in a future version. Use a list instead.\n",
      "  df_out_of_simple_returns = preproc.get_simple_returns_from_prices(df_out_of_sample[communal_assets]).dropna()\n"
     ]
    },
    {
     "name": "stdout",
     "output_type": "stream",
     "text": [
      "7/7 [==============================] - 0s 890us/step\n",
      "7/7 [==============================] - 0s 916us/step\n",
      "3/3 [==============================] - 0s 1ms/step\n",
      "2023-01\n"
     ]
    },
    {
     "name": "stderr",
     "output_type": "stream",
     "text": [
      "/var/folders/9g/fkvk1rlx44s9k648bkf78ssx5xtbf8/T/ipykernel_36378/481835537.py:79: FutureWarning: Passing a set as an indexer is deprecated and will raise in a future version. Use a list instead.\n",
      "  df_out_of_simple_returns = preproc.get_simple_returns_from_prices(df_out_of_sample[communal_assets]).dropna()\n"
     ]
    },
    {
     "name": "stdout",
     "output_type": "stream",
     "text": [
      "7/7 [==============================] - 0s 892us/step\n",
      "7/7 [==============================] - 0s 907us/step\n",
      "3/3 [==============================] - 0s 1ms/step\n",
      "2022-01\n"
     ]
    },
    {
     "name": "stderr",
     "output_type": "stream",
     "text": [
      "/var/folders/9g/fkvk1rlx44s9k648bkf78ssx5xtbf8/T/ipykernel_36378/481835537.py:79: FutureWarning: Passing a set as an indexer is deprecated and will raise in a future version. Use a list instead.\n",
      "  df_out_of_simple_returns = preproc.get_simple_returns_from_prices(df_out_of_sample[communal_assets]).dropna()\n"
     ]
    },
    {
     "name": "stdout",
     "output_type": "stream",
     "text": [
      "7/7 [==============================] - 0s 946us/step\n",
      "7/7 [==============================] - 0s 882us/step\n",
      "3/3 [==============================] - 0s 1ms/step\n",
      "2017-01\n"
     ]
    },
    {
     "name": "stderr",
     "output_type": "stream",
     "text": [
      "/var/folders/9g/fkvk1rlx44s9k648bkf78ssx5xtbf8/T/ipykernel_36378/481835537.py:79: FutureWarning: Passing a set as an indexer is deprecated and will raise in a future version. Use a list instead.\n",
      "  df_out_of_simple_returns = preproc.get_simple_returns_from_prices(df_out_of_sample[communal_assets]).dropna()\n"
     ]
    },
    {
     "name": "stdout",
     "output_type": "stream",
     "text": [
      "7/7 [==============================] - 0s 1ms/step\n",
      "7/7 [==============================] - 0s 802us/step\n",
      "3/3 [==============================] - 0s 1ms/step\n",
      "2016-01\n"
     ]
    },
    {
     "name": "stderr",
     "output_type": "stream",
     "text": [
      "/var/folders/9g/fkvk1rlx44s9k648bkf78ssx5xtbf8/T/ipykernel_36378/481835537.py:79: FutureWarning: Passing a set as an indexer is deprecated and will raise in a future version. Use a list instead.\n",
      "  df_out_of_simple_returns = preproc.get_simple_returns_from_prices(df_out_of_sample[communal_assets]).dropna()\n"
     ]
    },
    {
     "name": "stdout",
     "output_type": "stream",
     "text": [
      "7/7 [==============================] - 0s 960us/step\n",
      "7/7 [==============================] - 0s 925us/step\n",
      "3/3 [==============================] - 0s 1ms/step\n"
     ]
    },
    {
     "name": "stderr",
     "output_type": "stream",
     "text": [
      "/var/folders/9g/fkvk1rlx44s9k648bkf78ssx5xtbf8/T/ipykernel_36378/481835537.py:79: FutureWarning: Passing a set as an indexer is deprecated and will raise in a future version. Use a list instead.\n",
      "  df_out_of_simple_returns = preproc.get_simple_returns_from_prices(df_out_of_sample[communal_assets]).dropna()\n"
     ]
    }
   ],
   "source": [
    "#walk-forward\n",
    "\n",
    "bottom_communal = [5,10,15,20,25]\n",
    "for bottom in bottom_communal:\n",
    "    iterations = {}\n",
    "    for _date, df in dataframes.items():\n",
    "        print(_date)\n",
    "        df_in_sample, df_out_sample = df.head(len(df)-93), df.tail((93))\n",
    "        one_iteration = flow_orchrestrator(df_in_sample, df_out_sample, folds = 2, \n",
    "                              risk_free_rate = 0.04,\n",
    "                              top_communal = 15,\n",
    "                              bottom_communal = 20)\n",
    "        iterations[_date] = one_iteration\n",
    "        \n",
    "    with open('./results/cache/index_results_'+str(bottom)+'.pickle', 'wb') as output:\n",
    "        pickle.dump(iterations, output)\n"
   ]
  },
  {
   "cell_type": "code",
   "execution_count": 7,
   "id": "bcd84683",
   "metadata": {},
   "outputs": [],
   "source": [
    "import pickle\n",
    "with open('./results/index_results.pickle', 'wb') as output:\n",
    "     pickle.dump(iterations, output)"
   ]
  },
  {
   "cell_type": "code",
   "execution_count": 64,
   "id": "70e1bf73",
   "metadata": {},
   "outputs": [
    {
     "data": {
      "text/plain": [
       "<AxesSubplot:ylabel='Frequency'>"
      ]
     },
     "execution_count": 64,
     "metadata": {},
     "output_type": "execute_result"
    },
    {
     "data": {
      "image/png": "[encoded data removed]",
      "text/plain": [
       "<Figure size 432x288 with 1 Axes>"
      ]
     },
     "metadata": {
      "needs_background": "light"
     },
     "output_type": "display_data"
    }
   ],
   "source": [
    "# first factor\n",
    "psr_diff = []\n",
    "for k,v in iterations.items():\n",
    "    psr_diff.append(v['test_results']['TEST_PSR'] - v['test_results']['TREST_PSR_REFERENCE'])\n",
    "\n",
    "pd.Series(psr_diff).plot.hist(label='PSR pred', legend = True, bins = 15)\n",
    "\n"
   ]
  },
  {
   "cell_type": "code",
   "execution_count": null,
   "id": "2bac49a1",
   "metadata": {},
   "outputs": [],
   "source": []
  },
  {
   "cell_type": "code",
   "execution_count": null,
   "id": "0143062c",
   "metadata": {},
   "outputs": [],
   "source": [
    "one_iteration = iterations[_date].copy()\n",
    "plot_cummulative_returns(one_iteration)"
   ]
  },
  {
   "cell_type": "code",
   "execution_count": null,
   "id": "d0c9aa63",
   "metadata": {},
   "outputs": [],
   "source": [
    "plot_cummulative_test_returns(one_iteration)"
   ]
  },
  {
   "cell_type": "code",
   "execution_count": 22,
   "id": "f009a77c",
   "metadata": {},
   "outputs": [
    {
     "data": {
      "text/plain": [
       "{'y_target': 219    47813.0\n",
       " 220    48201.0\n",
       " 221    47576.0\n",
       " 222    46600.0\n",
       " 223    47151.0\n",
       "         ...   \n",
       " 307    53506.0\n",
       " 308    53157.0\n",
       " 309    53168.0\n",
       " 310    53171.0\n",
       " 311    53029.0\n",
       " Name: ^BVSP, Length: 93, dtype: float64,\n",
       " 'y_predicted': 0     0.003568\n",
       " 1    -0.018040\n",
       " 2    -0.032892\n",
       " 3     0.014716\n",
       " 4     0.010832\n",
       "         ...   \n",
       " 87    0.001167\n",
       " 88   -0.004845\n",
       " 89   -0.000134\n",
       " 90   -0.006490\n",
       " 91   -0.004988\n",
       " Length: 92, dtype: float64,\n",
       " 'TEST_PSR': 0.7994098730698718,\n",
       " 'TREST_PSR_REFERENCE': 1.0}"
      ]
     },
     "execution_count": 22,
     "metadata": {},
     "output_type": "execute_result"
    }
   ],
   "source": [
    "one_iteration['test_results']"
   ]
  },
  {
   "cell_type": "markdown",
   "id": "58e99148",
   "metadata": {},
   "source": [
    "### PSB"
   ]
  },
  {
   "cell_type": "markdown",
   "id": "84d6d8fe",
   "metadata": {},
   "source": [
    "será que autoencoder.. coptura mais fatores que sazonalidade, componentes\n",
    "erro de modelo!\n",
    "Armar hitoria, desapegar de los resultados del artigo! conseguir explicaciones!"
   ]
  },
  {
   "cell_type": "markdown",
   "id": "c2dc0e70",
   "metadata": {},
   "source": [
    "### deflated sharpe value\n",
    "https://quantdare.com/deflated-sharpe-ratio-how-to-avoid-been-fooled-by-randomness/"
   ]
  },
  {
   "cell_type": "markdown",
   "id": "e85572f7",
   "metadata": {},
   "source": [
    "As the mean is zero, there is no significant difference between the original return given by the risk factor from the eigenportfolio, which means the initial hyphotesis that non-lineraities seeked by a defined target are not found or present.\n",
    "\n",
    "Next ideas: is go from step 1 of deepportfolios to harness least-communal stocks for the specific target!\n",
    "\n",
    "is is random!"
   ]
  },
  {
   "cell_type": "code",
   "execution_count": null,
   "id": "f476a817",
   "metadata": {},
   "outputs": [],
   "source": []
  },
  {
   "cell_type": "code",
   "execution_count": null,
   "id": "98a36864",
   "metadata": {},
   "outputs": [],
   "source": []
  },
  {
   "cell_type": "code",
   "execution_count": null,
   "id": "04912b8a",
   "metadata": {},
   "outputs": [],
   "source": []
  },
  {
   "cell_type": "code",
   "execution_count": null,
   "id": "6b7a6dab",
   "metadata": {},
   "outputs": [],
   "source": []
  },
  {
   "cell_type": "markdown",
   "id": "bf150e1f",
   "metadata": {},
   "source": [
    "### Methods"
   ]
  },
  {
   "cell_type": "code",
   "execution_count": 5,
   "id": "04461989",
   "metadata": {},
   "outputs": [],
   "source": [
    "# other methods\n",
    "def plot_cummulative_returns(factor_iteration):\n",
    "    ((pd.Series(preproc.log_to_simple_returns(factor_iteration['train_results']['portfolio_log_returns_pred'])) + 1).cumprod() - 1).plot(label='predicted', legend = True)\n",
    "    ((pd.Series(preproc.log_to_simple_returns(factor_iteration['train_results']['y_log_ammended'])) + 1).cumprod() - 1).plot(label='Target', legend = True)\n",
    "    ((pd.Series(preproc.log_to_simple_returns(factor_iteration['train_results']['y_log_train'])) + 1).cumprod() -1).plot(label='Original', legend = True)\n",
    "\n",
    "# other methods\n",
    "def plot_cummulative_test_returns(factor_iteration):\n",
    "    ((pd.Series((factor_iteration['test_results']['y_predicted'].values)) + 1).cumprod() - 1).plot(label='predicted', legend = True)\n",
    "    ((pd.Series((factor_iteration['test_results']['y_target'].values)) + 1).cumprod() -1).plot(label='Original', legend = True)\n",
    "\n",
    "    \n",
    "\n",
    "def non_linear_factors_mapping(train, epochs = 500):\n",
    "    # fit market representation\n",
    "    encoder_params = {'encoding_dim': 5,\n",
    "                      'optimizer':'sgd', \n",
    "                      'loss':'mean_squared_error',\n",
    "                      'l2_penalty': 0.01, \n",
    "                      'epochs': epochs, \n",
    "                      'batch_size': 100, \n",
    "                      'shuffle' : False,\n",
    "                      'scale_data': False,\n",
    "                      'hidden_layers_activation': 'tanh',# Columbia -> tanh with a batch normalization layer in sequence \n",
    "                      'output_activation': 'tanh',# Columbia -> tanh with a batch normalization layer in sequence -> after many tests, tanh is the best  \n",
    "                      'verbose':0,\n",
    "                      'batch_normalization': False}\n",
    "    model = ae_market.autoencoder_market_projection_fit(train, encoder_params)\n",
    "    # calculating most communal assets\n",
    "    communal_assets = ae_market.communal_information(train, model) # test or train??\n",
    "    #results\n",
    "    return model, communal_assets\n",
    "\n",
    "def selecting_tickers(df_returns, communal_assets, n_top = 15, n_bottom = 20):\n",
    "    index_associated_stocks = communal_assets.head(n_top)['ticker']\n",
    "    arbritage_stocks = communal_assets.tail(n_bottom)['ticker']\n",
    "    return df_returns[index_associated_stocks], df_returns[arbritage_stocks]\n",
    "\n",
    "def non_linear_factors_calibration(train, y_log_train, y_log_train_amended, epochs = 500):\n",
    "    encoder_params = {'encoding_dim': int(train.shape[1]*0.75), #change this if changes a lot\n",
    "                      'optimizer':'sgd', \n",
    "                      'loss':'mean_squared_error',\n",
    "                      'l2_penalty': 0.01, \n",
    "                      'epochs': epochs, \n",
    "                      'batch_size': 100, \n",
    "                      'shuffle' : False,\n",
    "                      'scale_data': True,\n",
    "                      'hidden_layers_activation': 'tanh',# Columbia -> tanh with a batch normalization layer in sequence \n",
    "                      'output_activation': 'softmax',\n",
    "                      'batch_normalization': True,\n",
    "                      'verbose':0,\n",
    "                     'custom_loss_function' : ae_portfolio_cal.custom_matmult_rmse_loss}\n",
    "    calibration_model = ae_portfolio_cal.autoencoder_portfolio_calibration_fit(train, y_log_train_amended, encoder_params)\n",
    "    # predict\n",
    "    portfolio_log_returns_train_hat, weights = ae_portfolio_cal.portfolio_returns_predict(train, calibration_model, return_log = True)\n",
    "    \n",
    "    _psr_train = sharpe_ratio_stats.probabilistic_sharpe_ratio(pd.Series(preproc.log_to_simple_returns(portfolio_log_returns_train_hat)))\n",
    "    _psr_reference = sharpe_ratio_stats.probabilistic_sharpe_ratio(pd.Series(preproc.log_to_simple_returns(y_log_train)))\n",
    "    \n",
    "    return calibration_model, {'portfolio_log_returns_pred':portfolio_log_returns_train_hat,\n",
    "                   'y_log_train': y_log_train.values,\n",
    "                   'y_log_ammended': y_log_train_amended.values,\n",
    "                  'weights': weights,\n",
    "                    'TRAIN_PSR_REFERENCE': _psr_reference,\n",
    "                    'TRAIN_PSR': _psr_train}\n",
    "\n",
    "\n",
    "def ammend_y_targets(y_log, rate_target = 0.01, ammend_shocks = False):\n",
    "    if ammend_shocks:\n",
    "        return preproc.set_target_returns_extreme_effects_by_percentile(y_log, .01, rate_target , 1)\n",
    "    else:\n",
    "        return preproc.set_target_spreaded_rate(y_log, rate_target)\n",
    "\n",
    "    \n",
    "\n",
    "def out_of_sample_results(df_out_of_sample, calibration_model, communal_assets, index_communal_assets):\n",
    "    index_ticker = '^BVSP'\n",
    "    # process df\n",
    "    df_out_of_simple_returns = preproc.get_simple_returns_from_prices(df_out_of_sample[communal_assets]).dropna()\n",
    "    df_out_of_log_returns = preproc.simple_to_log_returns(df_out_of_simple_returns)\n",
    "    \n",
    "    portfolios_log_test_returns, _ = ae_portfolio_cal.portfolio_returns_predict(df_out_of_log_returns, calibration_model, return_log = True)\n",
    "    portfolios_simple_test_returns = preproc.log_to_simple_returns(portfolios_log_test_returns)\n",
    "    \n",
    "    # y_target\n",
    "    y_target = preproc.get_simple_returns_from_prices(df_out_of_sample[index_ticker]).dropna()\n",
    "        \n",
    "    # rmse \n",
    "    #portfolios_test_returns - y_target\n",
    "    # PSR\n",
    "    _psr = sharpe_ratio_stats.probabilistic_sharpe_ratio(pd.Series(portfolios_simple_test_returns))\n",
    "    _psr_reference = sharpe_ratio_stats.probabilistic_sharpe_ratio(pd.Series(y_target))\n",
    "    #Deflated_sharpe_value\n",
    "    \n",
    "    return {'y_target': y_target,\n",
    "            'y_predicted': portfolios_simple_test_returns,\n",
    "            'TEST_PSR': _psr,\n",
    "           'TREST_PSR_REFERENCE': _psr_reference}\n",
    "    "
   ]
  },
  {
   "cell_type": "code",
   "execution_count": null,
   "id": "07e9091a",
   "metadata": {},
   "outputs": [],
   "source": []
  },
  {
   "cell_type": "code",
   "execution_count": null,
   "id": "b358df03",
   "metadata": {},
   "outputs": [],
   "source": []
  }
 ],
 "metadata": {
  "kernelspec": {
   "display_name": "Python 3 (ipykernel)",
   "language": "python",
   "name": "python3"
  },
  "language_info": {
   "codemirror_mode": {
    "name": "ipython",
    "version": 3
   },
   "file_extension": ".py",
   "mimetype": "text/x-python",
   "name": "python",
   "nbconvert_exporter": "python",
   "pygments_lexer": "ipython3",
   "version": "3.9.7"
  }
 },
 "nbformat": 4,
 "nbformat_minor": 5
}
